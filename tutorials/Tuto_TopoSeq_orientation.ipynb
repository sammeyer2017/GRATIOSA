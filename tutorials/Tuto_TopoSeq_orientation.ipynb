{
 "cells": [
  {
   "cell_type": "markdown",
   "id": "ab3a2f4a",
   "metadata": {},
   "source": [
    "# How to analyze Chip-Seq data based on gene orientation?"
   ]
  },
  {
   "cell_type": "code",
   "execution_count": 1,
   "id": "d4e972ff",
   "metadata": {},
   "outputs": [],
   "source": [
    "import numpy as np\n",
    "\n",
    "# Path indication to the GRATIOSA package\n",
    "import sys\n",
    "sys.path.insert(0, '/home/usr/packages/GRATIOSA/') \n",
    "\n",
    "# Loading the modules for data loading\n",
    "from GRATIOSA import Genome, Chipseq\n",
    "\n",
    "# Loading the statistical analysis and graphic modules\n",
    "from GRATIOSA import stat_analysis, plot_stat_analysis"
   ]
  },
  {
   "cell_type": "markdown",
   "id": "1718bd14",
   "metadata": {},
   "source": [
    "# 1 - Data importation and pre-processing"
   ]
  },
  {
   "cell_type": "markdown",
   "id": "e3ff1d2b",
   "metadata": {},
   "source": [
    "### Genomic annotation loading\n",
    "The orientation of each position is determined based on the strands where the two neighboring genes are located\n",
    "+ divergent: if left neighbor on - strand and right neighbor on + strand,\n",
    "+ convergent: if left neighbor on + strand and right neighbor on - strand,\n",
    "+ tandem: if left and right neighbors on same strand\n",
    "+ isolated: if the distance between neighbors is higher than the maximal distance given as argument"
   ]
  },
  {
   "cell_type": "code",
   "execution_count": 2,
   "id": "f8e7d657",
   "metadata": {},
   "outputs": [
    {
     "name": "stdout",
     "output_type": "stream",
     "text": [
      "Trying to load annotation from: /home/maiwenn/these/data/ecoli_W3110_Mu/annotation/sequence.gff3\n",
      "Annotation loaded\n"
     ]
    }
   ],
   "source": [
    "g = Genome.Genome(\"ecoli_W3110_Mu\")\n",
    "g.load_annotation()\n",
    "g.load_pos_orientation()"
   ]
  },
  {
   "cell_type": "markdown",
   "id": "0d31b95b",
   "metadata": {},
   "source": [
    "### Chip-Seq signals loading and pre-processing"
   ]
  },
  {
   "cell_type": "code",
   "execution_count": 3,
   "id": "ee769028",
   "metadata": {},
   "outputs": [
    {
     "name": "stdout",
     "output_type": "stream",
     "text": [
      "loading the file obtained with the following parameters:\n",
      "\n",
      "Name: Topo\n",
      "\n",
      " Replicates: ['Sutormin_shift_TopoI_R1', 'Sutormin_shift_TopoI_R2', 'Sutormin_shift_TopoI_R3']\n",
      "\n",
      " Data treatment: No treatment\n",
      "\n",
      " Size (window or bin, in b): NA\n",
      "\n",
      "Please change 'average_name' to use other signals\n",
      "loading the file obtained with the following parameters:\n",
      "\n",
      "Name: rifTopo\n",
      "\n",
      " Replicates: ['Sutormin_TopoI_Rif_R1', 'Sutormin_TopoI_Rif_R3']\n",
      "\n",
      " Data treatment: No treatment\n",
      "\n",
      " Size (window or bin, in b): NA\n",
      "\n",
      "Please change 'average_name' to use other signals\n",
      "loading the file obtained with the following parameters:\n",
      "\n",
      "Name: Gyr\n",
      "\n",
      " Replicates: ['Sutormin_shift_Gyrase_R1', 'Sutormin_shift_Gyrase_R2']\n",
      "\n",
      " Data treatment: No treatment\n",
      "\n",
      " Size (window or bin, in b): NA\n",
      "\n",
      "Please change 'average_name' to use other signals\n",
      "loading the file obtained with the following parameters:\n",
      "\n",
      "Name: rifGyr\n",
      "\n",
      " Replicates: ['Sutormin_CFX_Rif_Gyrase_R2', 'Sutormin_CFX_Rif_Gyrase_R3']\n",
      "\n",
      " Data treatment: No treatment\n",
      "\n",
      " Size (window or bin, in b): NA\n",
      "\n",
      "Please change 'average_name' to use other signals\n"
     ]
    }
   ],
   "source": [
    "# Initialization of the Chipseq object\n",
    "ch = Chipseq.Chipseq(\"ecoli_W3110_Mu\")\n",
    "\n",
    "# Selection of replicates for each signal type\n",
    "cond = {\"Topo\": [\"Sutormin_shift_TopoI_R1\", \"Sutormin_shift_TopoI_R2\", \"Sutormin_shift_TopoI_R3\"],\n",
    "        \"rifTopo\": [\"Sutormin_TopoI_Rif_R1\",\"Sutormin_TopoI_Rif_R3\"],\n",
    "        \"Gyr\": [\"Sutormin_shift_Gyrase_R1\", \"Sutormin_shift_Gyrase_R2\"],\n",
    "        \"rifGyr\":  [\"Sutormin_CFX_Rif_Gyrase_R2\", \"Sutormin_CFX_Rif_Gyrase_R3\"]\n",
    "       }  \n",
    "\n",
    "# Calculates the average signal between replicates for each genomic position\n",
    "for styp in cond.keys():\n",
    "    ch.load_signals_average(list_cond=cond[styp],\n",
    "                            average_name=styp)"
   ]
  },
  {
   "cell_type": "markdown",
   "id": "97c8e32a",
   "metadata": {},
   "source": [
    "# 2 - Statistical analysis of intergenic signal "
   ]
  },
  {
   "cell_type": "markdown",
   "id": "61c38197",
   "metadata": {},
   "source": [
    "### Adding a function specific to this study.\n",
    "\n",
    "This function divides a list of positions into bins and calculates the average signal for each bin. \n",
    "The binning is done in such a way that:\n",
    "+ each bin contains only adjacent positions\n",
    "+ each bin has a size greater than min_bs\n",
    "+ each bin has a size as close as possible to bs\""
   ]
  },
  {
   "cell_type": "code",
   "execution_count": 4,
   "id": "21d3b8fb",
   "metadata": {},
   "outputs": [],
   "source": [
    "def binning(bs, min_bs, signal, positions) :\n",
    "    min_positions = [positions[0]]\n",
    "    max_positions = []\n",
    "\n",
    "    # Step 1: Find adjacent positions to create windows\n",
    "    for p,position in enumerate(positions):\n",
    "        if p != 0 :\n",
    "            if position > positions[p-1] + 1: \n",
    "                min_positions.append(position)\n",
    "                max_positions.append(positions[p-1])\n",
    "    max_positions.append(positions[-1])\n",
    "\n",
    "    # Step 2: Divide the windows into bins and calculate the mean signal in each bin\n",
    "    new_signal = []\n",
    "    for min_position, max_position in zip(min_positions, max_positions):\n",
    "        # Determine the bin edges to respect the chosen binsize\n",
    "        num_bins = (max_position - min_position) // bs + 1\n",
    "        bin_edges = np.linspace(min_position, max_position, num_bins + 1)\n",
    "\n",
    "        # Calculate the mean signal for each bin and store it if it meets the minimum bin size requirement\n",
    "        for bin_start, bin_end in zip(bin_edges[:-1], bin_edges[1:]):\n",
    "            bin_signal = signal[int(bin_start):int(bin_end)]\n",
    "            # Check if the bin size meets the minimum requirement (min_bs)\n",
    "            if len(bin_signal) >= min_bs:\n",
    "                new_signal.append(np.nanmean(bin_signal))\n",
    "\n",
    "    return new_signal"
   ]
  },
  {
   "cell_type": "markdown",
   "id": "be608b48",
   "metadata": {},
   "source": [
    "### Statistical comparison of signal density in intergenic regions based on the orientation of surrounding genes"
   ]
  },
  {
   "cell_type": "code",
   "execution_count": 5,
   "id": "2a216836",
   "metadata": {},
   "outputs": [
    {
     "name": "stdout",
     "output_type": "stream",
     "text": [
      "Results saved in /home/maiwenn/these/resdir/student_test/Topo_bin100b_orientation\n"
     ]
    },
    {
     "data": {
      "image/png": "[encoded data removed]",
      "text/plain": [
       "<Figure size 115.2x158.4 with 1 Axes>"
      ]
     },
     "metadata": {
      "needs_background": "light"
     },
     "output_type": "display_data"
    },
    {
     "name": "stdout",
     "output_type": "stream",
     "text": [
      "Results saved in /home/maiwenn/these/resdir/student_test/rifTopo_bin100b_orientation\n"
     ]
    },
    {
     "data": {
      "image/png": "[encoded data removed]",
      "text/plain": [
       "<Figure size 115.2x158.4 with 1 Axes>"
      ]
     },
     "metadata": {
      "needs_background": "light"
     },
     "output_type": "display_data"
    },
    {
     "name": "stdout",
     "output_type": "stream",
     "text": [
      "Results saved in /home/maiwenn/these/resdir/student_test/Gyr_bin100b_orientation\n"
     ]
    },
    {
     "data": {
      "image/png": "[encoded data removed]",
      "text/plain": [
       "<Figure size 115.2x158.4 with 1 Axes>"
      ]
     },
     "metadata": {
      "needs_background": "light"
     },
     "output_type": "display_data"
    },
    {
     "name": "stdout",
     "output_type": "stream",
     "text": [
      "Results saved in /home/maiwenn/these/resdir/student_test/rifGyr_bin100b_orientation\n"
     ]
    },
    {
     "data": {
      "image/png": "[encoded data removed]",
      "text/plain": [
       "<Figure size 115.2x158.4 with 1 Axes>"
      ]
     },
     "metadata": {
      "needs_background": "light"
     },
     "output_type": "display_data"
    }
   ],
   "source": [
    "min_bs = 50 # in b\n",
    "binsize = 100 # in b\n",
    "binned_signals = {}\n",
    "\n",
    "for styp in ch.signals_average.keys() :\n",
    "    binned_signals[styp] = {}\n",
    "    \n",
    "    # compute the signal density per bin for each orientation\n",
    "    for ori in ['divergent','tandem', 'convergent'] : \n",
    "        binned_signals[styp][ori] = binning(binsize,min_bs,ch.signals_average[styp],g.pos_orientation[\"intergenic\"][ori])\n",
    "    \n",
    "    # performs the statistical tests and plots the results\n",
    "    plot_stat_analysis.plot_student_test(binned_signals[styp],\n",
    "                                         output_file=f\"{styp}_bin{binsize}b_orientation\",\n",
    "                                         ylabel=f\"Mean {styp} coverage\",\n",
    "                                         xticks_labels = [\"div\",\"tand\",\"conv\"]\n",
    "                                        )"
   ]
  },
  {
   "cell_type": "markdown",
   "id": "524fb815",
   "metadata": {},
   "source": [
    "### Analysis of the difference between the signals with and without rifampicin for each orientation"
   ]
  },
  {
   "cell_type": "code",
   "execution_count": 6,
   "id": "06d48d5b",
   "metadata": {},
   "outputs": [
    {
     "name": "stdout",
     "output_type": "stream",
     "text": [
      "Results saved in /home/maiwenn/these/resdir/student_test/Topo_bin100b_orientation\n"
     ]
    },
    {
     "data": {
      "image/png": "[encoded data removed]",
      "text/plain": [
       "<Figure size 115.2x158.4 with 1 Axes>"
      ]
     },
     "metadata": {
      "needs_background": "light"
     },
     "output_type": "display_data"
    },
    {
     "name": "stdout",
     "output_type": "stream",
     "text": [
      "Results saved in /home/maiwenn/these/resdir/student_test/Gyr_bin100b_orientation\n"
     ]
    },
    {
     "data": {
      "image/png": "[encoded data removed]",
      "text/plain": [
       "<Figure size 115.2x158.4 with 1 Axes>"
      ]
     },
     "metadata": {
      "needs_background": "light"
     },
     "output_type": "display_data"
    }
   ],
   "source": [
    "signals_rif_no_rif = {'TopoI' : {}, 'Gyrase' : {}}\n",
    "\n",
    "for styp in [(\"Topo\",\"rifTopo\"),(\"Gyr\",\"rifGyr\")] :\n",
    "    diff_sign = {}\n",
    "    \n",
    "    for ori in ['divergent','tandem', 'convergent'] : \n",
    "        diff_sign[ori] = binned_signals[styp[0]][ori] - np.mean(binned_signals[styp[1]][ori])\n",
    "   \n",
    "    plot_stat_analysis.plot_student_test(diff_sign,\n",
    "                                         output_file=f\"{styp[0]}_bin{binsize}b_orientation\",\n",
    "                                         title = \"(cov - cov$_{Rif}}$)\",\n",
    "                                         ylabel=f\"{styp} coverage difference\",\n",
    "                                         xticks_labels = [\"div\",\"tand\",\"conv\"]\n",
    "                                        )"
   ]
  }
 ],
 "metadata": {
  "kernelspec": {
   "display_name": "Python 3 (ipykernel)",
   "language": "python",
   "name": "python3"
  },
  "language_info": {
   "codemirror_mode": {
    "name": "ipython",
    "version": 3
   },
   "file_extension": ".py",
   "mimetype": "text/x-python",
   "name": "python",
   "nbconvert_exporter": "python",
   "pygments_lexer": "ipython3",
   "version": "3.8.10"
  }
 },
 "nbformat": 4,
 "nbformat_minor": 5
}
