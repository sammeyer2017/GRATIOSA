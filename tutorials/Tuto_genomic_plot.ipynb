{
 "cells": [
  {
   "cell_type": "markdown",
   "id": "8560b564",
   "metadata": {},
   "source": [
    "# How to plot a signal in its genomic context  ? "
   ]
  },
  {
   "cell_type": "code",
   "execution_count": 1,
   "id": "b6494521",
   "metadata": {},
   "outputs": [],
   "source": [
    "# Path indication to the GRATIOSA package\n",
    "import sys\n",
    "sys.path.insert(0, '/home/maiwenn/these/topo_database/') \n",
    "\n",
    "# Loading the modules for data loading\n",
    "from GRATIOSA import Genome, Chipseq\n",
    "\n",
    "# Loading the graphical module\n",
    "from GRATIOSA import plot_genome"
   ]
  },
  {
   "cell_type": "markdown",
   "id": "c1ef3e64",
   "metadata": {},
   "source": [
    "## 1 - Data loading\n",
    "#### Genomic annotation loading"
   ]
  },
  {
   "cell_type": "code",
   "execution_count": 2,
   "id": "1113e30c",
   "metadata": {},
   "outputs": [
    {
     "name": "stdout",
     "output_type": "stream",
     "text": [
      "Trying to load annotation from: /home/maiwenn/these/data/ecoli_W3110_Mu/annotation/sequence.gff3\n",
      "Annotation loaded\n"
     ]
    }
   ],
   "source": [
    "g = Genome.Genome(\"ecoli_W3110_Mu\")\n",
    "g.load_annotation()"
   ]
  },
  {
   "cell_type": "markdown",
   "id": "29d06844",
   "metadata": {},
   "source": [
    "#### ChipSeq signal loading"
   ]
  },
  {
   "cell_type": "code",
   "execution_count": 3,
   "id": "8d2adbfa",
   "metadata": {},
   "outputs": [
    {
     "name": "stdout",
     "output_type": "stream",
     "text": [
      "loading the file obtained with the following parameters:\n",
      "\n",
      "Name: Topo_smooth100b\n",
      "\n",
      " Replicates: ['Sutormin_shift_TopoI_R1', 'Sutormin_shift_TopoI_R2', 'Sutormin_shift_TopoI_R3']\n",
      "\n",
      " Data treatment: smoothing\n",
      "\n",
      " Size (window or bin, in b): 100\n",
      "\n",
      "Please change 'average_name' to use other signals\n",
      "loading the file obtained with the following parameters:\n",
      "\n",
      "Name: Gyr_smooth100b\n",
      "\n",
      " Replicates: ['Sutormin_shift_Gyrase_R1', 'Sutormin_shift_Gyrase_R2']\n",
      "\n",
      " Data treatment: smoothing\n",
      "\n",
      " Size (window or bin, in b): 100\n",
      "\n",
      "Please change 'average_name' to use other signals\n"
     ]
    }
   ],
   "source": [
    "# Initialization of the Chipseq object\n",
    "ch = Chipseq.Chipseq(\"ecoli_W3110_Mu\")\n",
    "\n",
    "# Selection of replicates for each signal type\n",
    "cond = {\"Topo\": [\"Sutormin_shift_TopoI_R1\", \"Sutormin_shift_TopoI_R2\", \"Sutormin_shift_TopoI_R3\"],\n",
    "        \"Gyr\": [\"Sutormin_shift_Gyrase_R1\", \"Sutormin_shift_Gyrase_R2\"]}  \n",
    "\n",
    "# The load_signal_average method performs the following two steps:\n",
    "# 1 - Processes each replicate (here, smoothing with a chosen window size)\n",
    "# 2 - Calculates the average signal between replicates for each genomic position\n",
    "smooth_window = 100  # Choice of the window size (in b) for smoothing\n",
    "for styp in cond.keys():\n",
    "    ch.load_signals_average(list_cond=cond[styp],\n",
    "                            average_name=f\"{styp}_smooth{smooth_window}b\",\n",
    "                            data_treatment=\"smoothing\",\n",
    "                            window=smooth_window)"
   ]
  },
  {
   "cell_type": "markdown",
   "id": "d54865f9",
   "metadata": {},
   "source": [
    "## 2 - Genomic plot "
   ]
  },
  {
   "cell_type": "code",
   "execution_count": 4,
   "id": "fa6a1620",
   "metadata": {},
   "outputs": [
    {
     "name": "stdout",
     "output_type": "stream",
     "text": [
      "Saved as /home/maiwenn/these/resdir/Genome_plot/genomic_plot_TopoI_Gyrase.pdf\n"
     ]
    },
    {
     "data": {
      "image/png": "[encoded data removed]",
      "text/plain": [
       "<Figure size 360x216 with 3 Axes>"
      ]
     },
     "metadata": {
      "needs_background": "light"
     },
     "output_type": "display_data"
    }
   ],
   "source": [
    "plot_genome.plot_region(g,beg=10000,end = 15000,\n",
    "                        signals_cond=[f\"Topo_smooth{smooth_window}b\",f\"Gyr_smooth{smooth_window}b\"],\n",
    "                        gene_names = True, \n",
    "                        hratios = [1.5,2,2],\n",
    "                        S_ylabels=['TopoI','Gyrase'],\n",
    "                        hspace=0.05,\n",
    "                        figsize=(5,3),\n",
    "                        output_file=f\"genomic_plot_TopoI_Gyrase\",\n",
    "                        file_extension='.pdf',\n",
    "                        ch_object=ch\n",
    "                       )"
   ]
  },
  {
   "cell_type": "markdown",
   "id": "a486ff47",
   "metadata": {},
   "source": [
    "See the function description for arguments selection."
   ]
  },
  {
   "cell_type": "code",
   "execution_count": 5,
   "id": "e0be2930",
   "metadata": {},
   "outputs": [
    {
     "name": "stdout",
     "output_type": "stream",
     "text": [
      "Help on function plot_region in module GRATIOSA.plot_genome:\n",
      "\n",
      "plot_region(gen, beg, end, RNASeq_cond=[], signals_cond=[], gene_names=True, output_dir='/home/maiwenn/these/resdir/Genome_plot/', output_file='Genome_2023-09-14 16:32:03.490386', file_extension='.pdf', *args, **kwargs)\n",
      "    Plots experimental information (one subplot per experiment) and gene\n",
      "    annotations for a region. The genes annotation subplot is created with\n",
      "    the subplot_genes function. RNASeq subplots and Chipseq subplots\n",
      "    are created with the subplot_rnaseq_coverage and subplot_signal functions\n",
      "    respectively.\n",
      "    \n",
      "    Args:\n",
      "        gen: Genome instance\n",
      "        beg (int.): beginning of the region to be plotted\n",
      "        end (int.): end of the region to be plotted\n",
      "        RNASeq_cond (list of str.): list of the RNASeq conditions names to\n",
      "            represent. Left empty by default ie no cover is plotted.\n",
      "        tr_object (Transcriptome instance): Transcriptome instance with \n",
      "            loaded RNASeq coverages\n",
      "        signals_cond (list of str.): list of the Chipseq conditions names to\n",
      "            represent. Left empty by default ie no signal is plotted.\n",
      "        ch_object (Chipseq instance): Chipseq instance with loaded signals.\n",
      "        gene_names (Optional [Bool.]): If true, the name of the genes is noted on their\n",
      "            representation. (True by default).\n",
      "        output_dir (Optional [str.]): output directory\n",
      "        output_file (Optional [str.]): output filename for plot\n",
      "        file_extension (Optional [str.]): Graphic file extension type (.pdf by default)\n",
      "        R_ylabels (Optional [list of str.]): y-axis label for RNASeq data subplots.\n",
      "            By default, conditions names given in input with the RNASeq_cond\n",
      "            argument.\n",
      "        S_ylabels (Optional [list of str.]): y-axis label for RNASeq data subplots.\n",
      "            By default, conditions names given in input with the signals_cond\n",
      "            argument.\n",
      "        vlines (Optional [dict.]): Dictionnary of shape {position: annotation text}.\n",
      "            One green vertical line and its annotation are plotted for each\n",
      "            item of this dictionnary.\n",
      "        figsize (Optional [(float,float)]): width and height in inches\n",
      "            (by default: (3.5,n) with n the number of suplots)\n",
      "        hratios (Optional [array-like]): Relative heights of the subplots. If not given,\n",
      "            all rows will have the same height except the genes subplot.\n",
      "        hspace (Optional [float]): Height space between subplots, expressed as a \n",
      "            fraction of the average axis height. By default: 0.05\n",
      "        figpos (Optional [array-like of length 4]): Position of the subplots as a \n",
      "            fraction of figure width or height. The array contains the \n",
      "            positions in the following order: bottom, top, left and right.\n",
      "    \n",
      "    \n",
      "    Warning:\n",
      "        This method needs a genomic annotation. If no annotation is\n",
      "        loaded to the Genome instance, the load_annotation method of with\n",
      "        the default \"sequence.gff3\" file is computed. To use another \n",
      "        annotation, please load an annotation to your Genome instance before \n",
      "        using this method.\n",
      "    \n",
      "    Warning:\n",
      "        To plot a ChIPseq coverage, all the selected conditions must first be loaded \n",
      "        on the Chipseq instance using one of the ChipSeq method (for example\n",
      "        load_signal or load_signals_average). This Chipseq instance must\n",
      "        then be given as input with the argument \"ch_object\".\n",
      "    \n",
      "    Warning:\n",
      "        To plot a RNAseq coverage, all the selected conditions must first be loaded \n",
      "        on the Transcriptome instance using tr.load_rnaseq_cov() and this\n",
      "        instance must be given as input with the argument \"tr_object\".\n",
      "    \n",
      "    Example:\n",
      "        >>> g = Genome.Genome(\"ecoli\")\n",
      "        >>> g.load_annotation()\n",
      "        >>> tr = Transcriptome.Transcriptome(\"ecoli\")\n",
      "        >>> tr.load_rnaseq_cov()\n",
      "        >>> ch = Chipseq.Chipseq(\"ecoli\")\n",
      "        >>> ch.load_signals_average(list_cond=[\"cond1\",\"cond2\"],\n",
      "        ...                         average_name=\"cond12\")\n",
      "        >>> plot_genome.plot_region(g,2101000,2106000,\n",
      "                                    RNASeq_cond = [\"WT\"],\n",
      "                                    signals_cond=[\"cond12\"],\n",
      "                                    R_ylabels=[\"WT\"],\n",
      "                                    S_ylabels=[\"cond12\"],\n",
      "                                    tr_object=tr,\n",
      "                                    ch_object=ch,\n",
      "                                    hratios = [1,2,2,1],\n",
      "                                    figsize=(6,5),\n",
      "                                    figpos=[0.1,0.98,0.15,0.95])\n",
      "\n"
     ]
    }
   ],
   "source": [
    "help(plot_genome.plot_region)"
   ]
  }
 ],
 "metadata": {
  "kernelspec": {
   "display_name": "Python 3 (ipykernel)",
   "language": "python",
   "name": "python3"
  },
  "language_info": {
   "codemirror_mode": {
    "name": "ipython",
    "version": 3
   },
   "file_extension": ".py",
   "mimetype": "text/x-python",
   "name": "python",
   "nbconvert_exporter": "python",
   "pygments_lexer": "ipython3",
   "version": "3.8.10"
  }
 },
 "nbformat": 4,
 "nbformat_minor": 5
}
