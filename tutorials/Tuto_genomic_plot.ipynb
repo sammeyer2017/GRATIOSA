{
 "cells": [
  {
   "cell_type": "markdown",
   "id": "d8835846",
   "metadata": {},
   "source": [
    "# How to plot a signal in its genomic context  ? "
   ]
  },
  {
   "cell_type": "markdown",
   "id": "63f33e1f",
   "metadata": {},
   "source": [
    "Please use the next cell to adjust the two following variables according to your installation: \n",
    "- path to GRATIOSA package\n",
    "- path to database"
   ]
  },
  {
   "cell_type": "code",
   "execution_count": 1,
   "id": "f8e77e8a",
   "metadata": {},
   "outputs": [
    {
     "name": "stdout",
     "output_type": "stream",
     "text": [
      "Please check that the database is stored in: /home/s/maiwenn_PhD/article_GRATIOSA/test_GRATIOSA/GRATIOSA-master/tutorials/../\n"
     ]
    }
   ],
   "source": [
    "import sys\n",
    "## PATH TO PACKAGE:\n",
    "## ----------------\n",
    "## IF ALREADY IN YOUR PYTHON PATH (e.g. installation through Pip): nothing to do\n",
    "## IF NOT IN YOUR PYTHON PATH (e.g. download from GitHub): \n",
    "## uncomment and adjust the following relevant line to the location of the GRATIOSA directory\n",
    "## - For Linux/MacOS:             typical style ;-)\n",
    "#sys.path.append('/home/usr/Python_venv/lib/python3.8/site-packages/') \n",
    "sys.path.append(\"/home/s/Downloads/GRATIOSA-master/\")\n",
    "## - For Windows:                  typical style ;-)\n",
    "#sys.path.append('C:\\\\Downloads\\\\GRATIOSA-master')\n",
    "\n",
    "import os\n",
    "## PATH TO DATABASE:\n",
    "## -----------------\n",
    "## FOR REGULAR USE OF THE PACKAGE:\n",
    "#  Please set your system environment variable \\$GRATIOSA_DB_PATH in order to have \n",
    "#  \\$GRATIOSA_DB_PATH + data/organisms (e.g. export GRATIOSA_DB_PATH=/home/usr/documents/GRATIOSA/).\n",
    "## FOR THIS TUTORIAL ONLY:\n",
    "#  you can skip the system environment variable and just use the following line\n",
    "#  We assume that the \"data\" directory containing the database is in the parent directory (otherwise adjust line)\n",
    "os.environ[\"GRATIOSA_DB_PATH\"]=os.getcwd()+\"/../\"\n",
    "print(\"Please check that the database is stored in: %s\"%(os.environ[\"GRATIOSA_DB_PATH\"]))"
   ]
  },
  {
   "cell_type": "code",
   "execution_count": 6,
   "id": "c71629fa",
   "metadata": {},
   "outputs": [],
   "source": [
    "# Loading the modules for data loading\n",
    "from GRATIOSA import Genome, Chipseq\n",
    "\n",
    "# Loading the statistical analysis and graphic modules\n",
    "from GRATIOSA import stat_analysis, plot_stat_analysis, plot_genome\n",
    "import numpy as np"
   ]
  },
  {
   "cell_type": "markdown",
   "id": "ff6f14a3",
   "metadata": {},
   "source": [
    "## 1 - Data loading\n",
    "#### Genomic annotation loading"
   ]
  },
  {
   "cell_type": "code",
   "execution_count": 3,
   "id": "6672bc85",
   "metadata": {},
   "outputs": [
    {
     "name": "stdout",
     "output_type": "stream",
     "text": [
      "Trying to load annotation from: /home/s/maiwenn_PhD/article_GRATIOSA/test_GRATIOSA/GRATIOSA-master/tutorials/../data/ecoli_W3110_Mu/annotation/sequence.gff3\n",
      "Annotation loaded\n"
     ]
    }
   ],
   "source": [
    "g = Genome.Genome(\"ecoli_W3110_Mu\")\n",
    "g.load_annotation()"
   ]
  },
  {
   "cell_type": "markdown",
   "id": "3324bb6c",
   "metadata": {},
   "source": [
    "#### ChipSeq signal loading"
   ]
  },
  {
   "cell_type": "code",
   "execution_count": 4,
   "id": "fffab43d",
   "metadata": {},
   "outputs": [
    {
     "name": "stdout",
     "output_type": "stream",
     "text": [
      "performing the average\n",
      "data_treatment: smoothing\n",
      "Condition:Sutormin_TopoI_R1_smooth100b\n",
      "performing the smoothing\n",
      "Loading condition Sutormin_TopoI_R1\n",
      "Condition:Sutormin_TopoI_R2_smooth100b\n",
      "performing the smoothing\n",
      "Loading condition Sutormin_TopoI_R2\n",
      "Condition:Sutormin_TopoI_R3_smooth100b\n",
      "performing the smoothing\n",
      "Loading condition Sutormin_TopoI_R3\n",
      "performing the average\n",
      "data_treatment: smoothing\n",
      "Condition:Sutormin_Gyrase_R1_smooth100b\n",
      "performing the smoothing\n",
      "Loading condition Sutormin_Gyrase_R1\n",
      "Condition:Sutormin_Gyrase_R2_smooth100b\n",
      "performing the smoothing\n",
      "Loading condition Sutormin_Gyrase_R2\n"
     ]
    }
   ],
   "source": [
    "# Initialization of the Chipseq object\n",
    "ch = Chipseq.Chipseq(\"ecoli_W3110_Mu\")\n",
    "\n",
    "# Selection of replicates for each signal type\n",
    "cond = {\"Topo\": [\"Sutormin_TopoI_R1\", \"Sutormin_TopoI_R2\", \"Sutormin_TopoI_R3\"],\n",
    "        \"Gyr\": [\"Sutormin_Gyrase_R1\", \"Sutormin_Gyrase_R2\"]}  \n",
    "\n",
    "# The load_signal_average method performs the following two steps:\n",
    "# 1 - Processes each replicate (here, smoothing with a chosen window size)\n",
    "# 2 - Calculates the average signal between replicates for each genomic position\n",
    "smooth_window = 100  # Choice of the window size (in b) for smoothing\n",
    "for styp in cond.keys():\n",
    "    ch.load_signals_average(list_cond=cond[styp],\n",
    "                            average_name=f\"{styp}_smooth{smooth_window}b\",\n",
    "                            data_treatment=\"smoothing\",\n",
    "                            window=smooth_window)"
   ]
  },
  {
   "cell_type": "markdown",
   "id": "6a7d3a82",
   "metadata": {},
   "source": [
    "## 2 - Genomic plot "
   ]
  },
  {
   "cell_type": "code",
   "execution_count": 7,
   "id": "98410a35",
   "metadata": {},
   "outputs": [
    {
     "name": "stdout",
     "output_type": "stream",
     "text": [
      "Saved as /home/s/maiwenn_PhD/article_GRATIOSA/test_GRATIOSA/GRATIOSA-master/tutorials/../resdir/Genome_plot/genomic_plot_TopoI_Gyrase.pdf\n"
     ]
    },
    {
     "data": {
      "image/png": "[encoded data removed]",
      "text/plain": [
       "<Figure size 360x216 with 3 Axes>"
      ]
     },
     "metadata": {
      "needs_background": "light"
     },
     "output_type": "display_data"
    }
   ],
   "source": [
    "plot_genome.plot_region(g,beg=10000,end = 15000,\n",
    "                        signals_cond=[f\"Topo_smooth{smooth_window}b\",f\"Gyr_smooth{smooth_window}b\"],\n",
    "                        gene_names = True, \n",
    "                        hratios = [1.5,2,2],\n",
    "                        S_ylabels=['TopoI','Gyrase'],\n",
    "                        hspace=0.05,\n",
    "                        figsize=(5,3),\n",
    "                        output_file=f\"genomic_plot_TopoI_Gyrase\",\n",
    "                        file_extension='.pdf',\n",
    "                        ch_object=ch\n",
    "                       )"
   ]
  },
  {
   "cell_type": "markdown",
   "id": "36cf64ca",
   "metadata": {},
   "source": [
    "See the function description for arguments selection."
   ]
  },
  {
   "cell_type": "code",
   "execution_count": null,
   "id": "8d87419e",
   "metadata": {},
   "outputs": [],
   "source": [
    "help(plot_genome.plot_region)"
   ]
  },
  {
   "cell_type": "code",
   "execution_count": null,
   "id": "8bb26df8",
   "metadata": {},
   "outputs": [],
   "source": []
  }
 ],
 "metadata": {
  "kernelspec": {
   "display_name": "Python 3 (ipykernel)",
   "language": "python",
   "name": "python3"
  },
  "language_info": {
   "codemirror_mode": {
    "name": "ipython",
    "version": 3
   },
   "file_extension": ".py",
   "mimetype": "text/x-python",
   "name": "python",
   "nbconvert_exporter": "python",
   "pygments_lexer": "ipython3",
   "version": "3.10.12"
  }
 },
 "nbformat": 4,
 "nbformat_minor": 5
}
