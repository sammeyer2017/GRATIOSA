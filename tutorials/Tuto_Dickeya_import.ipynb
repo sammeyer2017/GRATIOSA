{
 "cells": [
  {
   "cell_type": "markdown",
   "id": "6a8d10a3",
   "metadata": {},
   "source": [
    "# Import BAM mapped read files from RNA-Seq data, plot coverage and test some basic properties "
   ]
  },
  {
   "cell_type": "markdown",
   "id": "1827d04f",
   "metadata": {},
   "source": [
    "Please use the next cell to adjust the two following variables according to your installation: \n",
    "- path to GRATIOSA package\n",
    "- path to database"
   ]
  },
  {
   "cell_type": "code",
   "execution_count": 90,
   "id": "80a7bf2d",
   "metadata": {},
   "outputs": [
    {
     "name": "stdout",
     "output_type": "stream",
     "text": [
      "The autoreload extension is already loaded. To reload it, use:\n",
      "  %reload_ext autoreload\n",
      "Using the database stored in: /home/s/maiwenn_PhD/article_GRATIOSA/revision/tutorials/../. Please check that this is correct.\n"
     ]
    }
   ],
   "source": [
    "#%load_ext autoreload\n",
    "#%autoreload 2\n",
    "import sys\n",
    "## PATH TO PACKAGE:\n",
    "## ----------------\n",
    "## IF ALREADY IN YOUR PYTHON PATH (e.g. installation through Pip): nothing to do\n",
    "## IF NOT IN YOUR PYTHON PATH (e.g. download from GitHub): \n",
    "## uncomment and adjust the following relevant line to the location of the GRATIOSA directory\n",
    "## - For Linux/MacOS:             typical style ;-)\n",
    "#sys.path.append('/home/usr/Python_venv/lib/python3.8/site-packages/') \n",
    "sys.path.insert(0,\"/home/s/Downloads/GRATIOSA-master/\")\n",
    "#sys.path.append(\"/home/s/Downloads/GRATIOSA-master/\")\n",
    "## (- For Windows:                  typical style ;-)\n",
    "#sys.path.append('C:\\\\Downloads\\\\GRATIOSA-master')\n",
    "\n",
    "import os\n",
    "## PATH TO DATABASE:\n",
    "## -----------------\n",
    "## FOR REGULAR USE OF THE PACKAGE:\n",
    "#  Please set your system environment variable \\$GRATIOSA_DB_PATH in order to have \n",
    "#  \\$GRATIOSA_DB_PATH + data/organisms (e.g. export GRATIOSA_DB_PATH=/home/usr/documents/GRATIOSA/).\n",
    "## FOR THIS TUTORIAL ONLY:\n",
    "#  you can skip the system environment variable and just use the following line\n",
    "#  We assume that the \"data\" directory containing the database is in the parent directory (otherwise adjust line)\n",
    "os.environ[\"GRATIOSA_DB_PATH\"]=os.getcwd()+\"/../\"\n",
    "print(\"Using the database stored in: %s. Please check that this is correct.\"%(os.environ[\"GRATIOSA_DB_PATH\"]))"
   ]
  },
  {
   "cell_type": "code",
   "execution_count": 91,
   "id": "e7bde5b4",
   "metadata": {},
   "outputs": [],
   "source": [
    "# Loading the modules for data loading\n",
    "from GRATIOSA import Genome, Transcriptome, GO\n",
    "\n",
    "# Loading the statistical analysis and graphic modules\n",
    "from GRATIOSA import plot_genome, plot_stat_analysis\n",
    "import numpy as np"
   ]
  },
  {
   "cell_type": "markdown",
   "id": "bc3698ba",
   "metadata": {},
   "source": [
    "## 1 - Import and plot the RNA-Seq coverage"
   ]
  },
  {
   "cell_type": "code",
   "execution_count": 92,
   "id": "2bc8d422",
   "metadata": {},
   "outputs": [
    {
     "name": "stdout",
     "output_type": "stream",
     "text": [
      "Detected a genome with 1 chromosome\n",
      "Chromosome Chromosome of length 4922802\n",
      "Sequence of organism dickeya loaded\n",
      "Trying to load annotation from: /home/s/maiwenn_PhD/article_GRATIOSA/revision/tutorials/../data/dickeya/annotation/sequence.gff3\n",
      "Annotation of dickeya loaded\n",
      "Number of genes: 4351\n"
     ]
    }
   ],
   "source": [
    "g = Genome.Genome(\"dickeya\")\n",
    "g.load_seq()\n",
    "g.load_annotation(features=[\"CDS\"])"
   ]
  },
  {
   "cell_type": "code",
   "execution_count": 93,
   "id": "57716fd5",
   "metadata": {},
   "outputs": [
    {
     "name": "stdout",
     "output_type": "stream",
     "text": [
      "Detected a genome with 1 chromosome\n",
      "Chromosome Chromosome of length 4922802\n",
      "Sequence of organism dickeya loaded\n",
      "Loading condition seco_TNS1\n",
      "Loading condition seco_TS1\n"
     ]
    }
   ],
   "source": [
    "tr=Transcriptome.Transcriptome(g)\n",
    "# The BAM files were copied in the \"rnaseq_reads\" directory, and the \"reads.info\" file was modified to point to them\n",
    "# Load coverage files, asking to compute it from the BAM files\n",
    "# CAUTION: long at first execution, because the coverage files need to be computed\n",
    "# and the \"cov.info\" file in \"rnaseq_cov\" directory is modified\n",
    "# Subsequently, the same function can be run without re-computing the coverage files (change option to False)\n",
    "# CAUTION: in this dataset, the sequencing was carried on the opposite strand, so the coverage needs to be computed\n",
    "# on the complementary strand compared to the coordinates in the BAM files (rev=True)\n",
    "#tr.load_rnaseq_cov(compute_from_bam=True, rev=True)\n",
    "tr.load_rnaseq_cov(compute_from_bam=True,rev=True)"
   ]
  },
  {
   "cell_type": "code",
   "execution_count": 94,
   "id": "af0c541e",
   "metadata": {},
   "outputs": [
    {
     "data": {
      "text/plain": [
       "dict_keys(['seco_TNS1', 'seco_TS1'])"
      ]
     },
     "execution_count": 94,
     "metadata": {},
     "output_type": "execute_result"
    }
   ],
   "source": [
    "# Check the list of experimental conditions where the coverage was loaded\n",
    "tr.rnaseq_cov_pos.keys()"
   ]
  },
  {
   "cell_type": "code",
   "execution_count": 95,
   "id": "b8b643f5",
   "metadata": {},
   "outputs": [],
   "source": [
    "# Look for help on plotting function\n",
    "?plot_genome.plot_region"
   ]
  },
  {
   "cell_type": "code",
   "execution_count": 96,
   "id": "a0d6bf85",
   "metadata": {},
   "outputs": [
    {
     "name": "stdout",
     "output_type": "stream",
     "text": [
      "Saved as /home/s/maiwenn_PhD/article_GRATIOSA/revision/tutorials/../resdir/Genome_plot/Genome_2024-06-11 16:02:33.023013.pdf\n"
     ]
    },
    {
     "data": {
      "image/png": "[encoded data removed]",
      "text/plain": [
       "<Figure size 360x288 with 3 Axes>"
      ]
     },
     "metadata": {
      "needs_background": "light"
     },
     "output_type": "display_data"
    }
   ],
   "source": [
    "# Plot the coverage at a particular location\n",
    "# In this case we see the extinction of the desAB operon when TopoI is inhibited by seconeolitsine\n",
    "plot_genome.plot_region(g, beg=1608000, end=1618000, RNASeq_cond=[\"seco_TNS1\", \"seco_TS1\"], tr_object=tr, R_ylabels=[\"seco_trans\", \"control_trans\"], figsize=(5,4), gene_names=True)"
   ]
  },
  {
   "cell_type": "markdown",
   "id": "01ceb272",
   "metadata": {},
   "source": [
    "## 2 - Load the differential expression between conditions"
   ]
  },
  {
   "cell_type": "code",
   "execution_count": 97,
   "id": "190a32d8",
   "metadata": {},
   "outputs": [
    {
     "name": "stdout",
     "output_type": "stream",
     "text": [
      "Loading condition: seco_trans\n",
      "\t66 locus are not in annotation\n"
     ]
    }
   ],
   "source": [
    "# The differential expression could be cosmputed from the coverage values\n",
    "# using two functions successively: compute_rpkm_from_cov and compute_fc_from_expr\n",
    "# However, we recommend loading the differential expression files obtained from a standard specialized external program such as DESeq2 (from the BAM files), which optimizes statistical power\n",
    "# The output files from DESeq2 were saved in the \"fold_changes\" directory, and the \"fc.info\" file was modified accordingly\n",
    "tr.load_fc_pval()"
   ]
  },
  {
   "cell_type": "code",
   "execution_count": 98,
   "id": "2c47c980",
   "metadata": {},
   "outputs": [],
   "source": [
    "# Separate the genes into categories: activated, repressed or non-responsive to topoI inhibition\n",
    "tr.compute_state_from_fc(thresh_pval=0.1)"
   ]
  },
  {
   "cell_type": "markdown",
   "id": "799b4a8c",
   "metadata": {},
   "source": [
    "## 3 - Simple test on the relation between orientation and response to topoisomerase I inhibition "
   ]
  },
  {
   "cell_type": "code",
   "execution_count": 99,
   "id": "bdfc0b86",
   "metadata": {},
   "outputs": [
    {
     "name": "stdout",
     "output_type": "stream",
     "text": [
      "Operation load_neighbor_all completed for genome dickeya\n",
      "Operation load_gene_orientation completed for genome dickeya\n"
     ]
    }
   ],
   "source": [
    "# Compute the orientation of each gene\n",
    "g.load_gene_orientation()"
   ]
  },
  {
   "cell_type": "code",
   "execution_count": 105,
   "id": "25b61c72",
   "metadata": {},
   "outputs": [
    {
     "name": "stdout",
     "output_type": "stream",
     "text": [
      "convergent: 90 elements\n",
      "tandem: 301 elements\n",
      "divergent: 100 elements\n",
      "One-sided test\tp-value between convergent and tandem\n",
      "\n",
      "Larger\t0.09778575315537602\n",
      "\n",
      "Smaller\t0.9022142468446239\n",
      "\n",
      "One-sided test\tp-value between convergent and divergent\n",
      "\n",
      "Larger\t0.03187303366799421\n",
      "\n",
      "Smaller\t0.9681269663320058\n",
      "\n",
      "One-sided test\tp-value between tandem and divergent\n",
      "\n",
      "Larger\t0.15924108988145536\n",
      "\n",
      "Smaller\t0.8407589101185446\n",
      "\n",
      "Results saved in /home/s/maiwenn_PhD/article_GRATIOSA/revision/tutorials/../resdir/proportion_test/prop_test2024-06-11 16:10:19.188588\n"
     ]
    },
    {
     "data": {
      "image/png": "[encoded data removed]",
      "text/plain": [
       "<Figure size 144x144 with 1 Axes>"
      ]
     },
     "metadata": {
      "needs_background": "light"
     },
     "output_type": "display_data"
    }
   ],
   "source": [
    "plot_stat_analysis.plot_proportion_test(dict_cats=g.orientation, dict_features=tr.statesFC[\"seco_trans\"], targ_features=[\"act\"], all_features=[\"act\",\"rep\"], cats=[\"convergent\",\"tandem\",\"divergent\"], alt_hyp=\"one-sided\", ylabel=\"Proportion of act genes\\namong DE genes\", figsize=(2,2), output_file=\"Dickeya_orientation_TopoI\")"
   ]
  },
  {
   "cell_type": "markdown",
   "id": "59a1bc7f",
   "metadata": {},
   "source": [
    "Divergent genes are significantly more inhibited by topoisomerase I inhibition than convergent ones, whereas tandem genes are in the middle. "
   ]
  }
 ],
 "metadata": {
  "kernelspec": {
   "display_name": "Python 3 (ipykernel)",
   "language": "python",
   "name": "python3"
  },
  "language_info": {
   "codemirror_mode": {
    "name": "ipython",
    "version": 3
   },
   "file_extension": ".py",
   "mimetype": "text/x-python",
   "name": "python",
   "nbconvert_exporter": "python",
   "pygments_lexer": "ipython3",
   "version": "3.12.3"
  }
 },
 "nbformat": 4,
 "nbformat_minor": 5
}
