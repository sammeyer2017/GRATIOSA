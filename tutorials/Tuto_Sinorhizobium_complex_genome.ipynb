{
 "cells": [
  {
   "cell_type": "markdown",
   "id": "731878f1",
   "metadata": {},
   "source": [
    "#  Import a species with complex genome (chromosome and plasmids) and make some operations"
   ]
  },
  {
   "cell_type": "markdown",
   "id": "460f85dc",
   "metadata": {},
   "source": [
    "Please use the next cell to adjust the two following variables according to your installation: \n",
    "- path to GRATIOSA package\n",
    "- path to database"
   ]
  },
  {
   "cell_type": "code",
   "execution_count": 5,
   "id": "539f34f9",
   "metadata": {},
   "outputs": [
    {
     "name": "stdout",
     "output_type": "stream",
     "text": [
      "Using the database stored in: /home/s/GRATIOSA/tutorials/../. Please check that this is correct.\n"
     ]
    }
   ],
   "source": [
    "import sys\n",
    "## PATH TO PACKAGE:\n",
    "## ----------------\n",
    "## IF ALREADY IN YOUR PYTHON PATH (e.g. installation through Pip): nothing to do\n",
    "## IF NOT IN YOUR PYTHON PATH (e.g. download from GitHub): \n",
    "## uncomment and adjust the following relevant line to the location of the GRATIOSA directory\n",
    "## - For Linux/MacOS:             typical style ;-)\n",
    "#sys.path.append('/home/usr/Python_venv/lib/python3.8/site-packages/') \n",
    "sys.path.insert(0,\"/home/s/Downloads/GRATIOSA-master/\")\n",
    "#sys.path.append(\"/home/s/Downloads/GRATIOSA-master/\")\n",
    "## (- For Windows:                  typical style ;-)\n",
    "#sys.path.append('C:\\\\Downloads\\\\GRATIOSA-master')\n",
    "\n",
    "\n",
    "import os\n",
    "## PATH TO DATABASE:\n",
    "## -----------------\n",
    "## FOR REGULAR USE OF THE PACKAGE:\n",
    "#  Please set your system environment variable \\$GRATIOSA_DB_PATH in order to have \n",
    "#  \\$GRATIOSA_DB_PATH + data/organisms (e.g. export GRATIOSA_DB_PATH=/home/usr/documents/GRATIOSA/).\n",
    "## FOR THIS TUTORIAL ONLY:\n",
    "#  you can skip the system environment variable and just use the following line\n",
    "#  We assume that the \"data\" directory containing the database is in the parent directory (otherwise adjust line)\n",
    "os.environ[\"GRATIOSA_DB_PATH\"]=os.getcwd()+\"/../\"\n",
    "print(\"Using the database stored in: %s. Please check that this is correct.\"%(os.environ[\"GRATIOSA_DB_PATH\"]))"
   ]
  },
  {
   "cell_type": "code",
   "execution_count": 6,
   "id": "0b92472b",
   "metadata": {},
   "outputs": [],
   "source": [
    "# Loading the modules for data loading\n",
    "from GRATIOSA import Genome, HiC, Transcriptome, GO\n",
    "\n",
    "# Loading the statistical analysis and graphic modules\n",
    "from GRATIOSA import stat_analysis, plot_stat_analysis\n",
    "import numpy as np"
   ]
  },
  {
   "cell_type": "markdown",
   "id": "496c3300",
   "metadata": {},
   "source": [
    "## 1 - Creating a new dataset for Sinorhizobium (\"sino\") and import data files"
   ]
  },
  {
   "cell_type": "markdown",
   "id": "61cfd9a6",
   "metadata": {},
   "source": [
    "### Automatic creation of the database: only for Unix/Linux systems"
   ]
  },
  {
   "cell_type": "code",
   "execution_count": 7,
   "id": "b950a8c2",
   "metadata": {},
   "outputs": [
    {
     "name": "stdout",
     "output_type": "stream",
     "text": [
      "Created directory sino with standard file hierarchy\n",
      "The attempt to fetch the annotation using the NCBI command-line tool failed. Trying to directly download from NCBI.\n",
      "Downloading the current version of the NCBI complete genome list to accession_number_complete.txt file in the base directory\n",
      "It may take a while, the complete file is ~600 Mb to download\n",
      "Check the large temporary file at location /home/s/GRATIOSA/tutorials/assembly_summary.txt\n",
      "Genome GCA_000006965.1 not found in the NCBI file (or no file)\n",
      "Impossible to download annotation from NCBI, sorry.\n"
     ]
    },
    {
     "name": "stderr",
     "output_type": "stream",
     "text": [
      "grep: /home/s/GRATIOSA/tutorials/../data/assembly_summary_complete.txt: No such file or directory\n"
     ]
    }
   ],
   "source": [
    "# We STRONGLY recommend installing the command-line tools from NCBI beforehand: https://www.ncbi.nlm.nih.gov/datasets/docs/v2/download-and-install/\n",
    "# An alternate method (Linux only) downloads a large file manually from NCBI, which may take a LONG time depending on the internet connection. \n",
    "g = Genome.Genome(\"sino\") \n",
    "g.create_database(NCBI_accession=\"GCA_000006965.1\")"
   ]
  },
  {
   "cell_type": "markdown",
   "id": "2bca3eca",
   "metadata": {},
   "source": [
    "### Manual creation of the database: for other systems. "
   ]
  },
  {
   "cell_type": "markdown",
   "id": "970acdb4",
   "metadata": {},
   "source": [
    "#### 1. Execute the following command to create the file directories"
   ]
  },
  {
   "cell_type": "code",
   "execution_count": 8,
   "id": "76585b60",
   "metadata": {},
   "outputs": [
    {
     "name": "stdout",
     "output_type": "stream",
     "text": [
      "CAUTION: the directory/organism sino already exists\n",
      "Please delete the directory from the GRATIOSA base directory if you wish to create this organism in the database\n"
     ]
    },
    {
     "data": {
      "text/plain": [
       "1"
      ]
     },
     "execution_count": 8,
     "metadata": {},
     "output_type": "execute_result"
    }
   ],
   "source": [
    "g = Genome.Genome(\"sino\") \n",
    "g.create_database()"
   ]
  },
  {
   "cell_type": "markdown",
   "id": "10b3f276",
   "metadata": {},
   "source": [
    "#### 2. Download the reference sequence () and annotation () and put them at the right locations (sino/ and sino/annotation/ respectively)"
   ]
  },
  {
   "cell_type": "markdown",
   "id": "3c208968",
   "metadata": {},
   "source": [
    "## 2. Loading the appropriate data files"
   ]
  },
  {
   "cell_type": "markdown",
   "id": "7ca2b0a7",
   "metadata": {},
   "source": [
    "#### The lines for automatic copying of data files below are written for Unix/Linux/MacOS systems. For Windows, it may lead to errors.  "
   ]
  },
  {
   "cell_type": "code",
   "execution_count": 4,
   "id": "ed833264",
   "metadata": {},
   "outputs": [
    {
     "name": "stdout",
     "output_type": "stream",
     "text": [
      "Detected a genome with 3 chromosomes\n",
      "Chromosome/plasmid AL591688.1 of length 3654135\n",
      "Chromosome/plasmid AE006469.1 of length 1354226\n",
      "Chromosome/plasmid AL591985.1 of length 1683333\n",
      "Sequence of organism sino loaded\n",
      "Trying to load annotation from: /home/s/topo_data/data/sino/annotation/sequence.gff3\n",
      "Annotation of sino loaded\n",
      "Number of genes: 6527\n"
     ]
    }
   ],
   "source": [
    "g.load_seq()\n",
    "g.load_annotation()"
   ]
  },
  {
   "cell_type": "code",
   "execution_count": 8,
   "id": "0bf2c211",
   "metadata": {},
   "outputs": [
    {
     "data": {
      "text/plain": [
       "0"
      ]
     },
     "execution_count": 8,
     "metadata": {},
     "output_type": "execute_result"
    }
   ],
   "source": [
    "# We import differential gene expression analysis data from Pini et al., Plos Gen, 2015: 10.1371/journal.pgen.1005232\n",
    "# Transcriptome in the ctrA mutant compared to wild-type\n",
    "# The Excel file was downloaded and converted to sino_2015_S3.csv (with tab delimited fields) \n",
    "# The user must move it to the fold_changes directory of the \"sino\" species and add relevant line(s) to fc.info file. \n",
    "# For simplicity, the following lines do that automatically\n",
    "# First copy the file in the right directory\n",
    "os.system(\"cp sino_2015_s3.csv %sdata/sino/fold_changes/\"%os.environ[\"GRATIOSA_DB_PATH\"])\n",
    "# Then add a line to the info file. We select the expression after 2h of growth (columns 3 and 4)\n",
    "os.system(\"cp fc.info %sdata/sino/fold_changes/\"%os.environ[\"GRATIOSA_DB_PATH\"])"
   ]
  },
  {
   "cell_type": "code",
   "execution_count": 9,
   "id": "727c8465",
   "metadata": {},
   "outputs": [
    {
     "data": {
      "text/plain": [
       "0"
      ]
     },
     "execution_count": 9,
     "metadata": {},
     "output_type": "execute_result"
    }
   ],
   "source": [
    "# Same for expression\n",
    "# First copy the file in the right directory\n",
    "os.system(\"cp sino_2015_s3_levels.csv %sdata/sino/expression/\"%os.environ[\"GRATIOSA_DB_PATH\"])\n",
    "# Then add a line to the info file. We select the expression after 2h of growth (columns 3 and 4)\n",
    "os.system(\"cp expression.info %sdata/sino/expression/\"%os.environ[\"GRATIOSA_DB_PATH\"])"
   ]
  },
  {
   "cell_type": "code",
   "execution_count": 10,
   "id": "e1529dbf",
   "metadata": {},
   "outputs": [
    {
     "name": "stdout",
     "output_type": "stream",
     "text": [
      "Loading condition: Ctl\n",
      "6080 expressions were successfully loaded\n",
      "63 locus are not in annotation\n",
      "6080 expressions were successfully loaded\n",
      "63 locus are not in annotation\n",
      "6080 expressions were successfully loaded\n",
      "63 locus are not in annotation\n",
      "6080 expressions were successfully loaded\n",
      "63 locus are not in annotation\n",
      "Loading condition: 2h\n",
      "\t62 locus are not in annotation\n",
      "\t62 locus are not in annotation\n",
      "\t62 locus are not in annotation\n",
      "\t62 locus are not in annotation\n"
     ]
    }
   ],
   "source": [
    "tr=Transcriptome.Transcriptome(g)\n",
    "tr.load_expression()\n",
    "tr.load_fc_pval()"
   ]
  },
  {
   "cell_type": "markdown",
   "id": "d5844027",
   "metadata": {},
   "source": [
    "## 3 - Compare expression levels and fold-changes under crtA mutation between chromosomes"
   ]
  },
  {
   "cell_type": "code",
   "execution_count": 11,
   "id": "9e840000",
   "metadata": {},
   "outputs": [],
   "source": [
    "chromosomes_genes_vals={}\n",
    "chromosomes_genes_fc={}\n",
    "for i,chrom in enumerate(g.chromosome_name):\n",
    "    chromosomes_genes_vals[chrom]=[g.genes[x].expression[\"Ctl\"]-8 for x in g.genomes[i].genes.keys() if x in tr.genes_valid_fc[\"2h\"]]    # we reduce the expression levels by an arbitrary constant to improve visualization\n",
    "    chromosomes_genes_fc[chrom]=[g.genes[x].fc_pval[\"2h\"][0] for x in g.genomes[i].genes.keys() if x in tr.genes_valid_fc[\"2h\"]]"
   ]
  },
  {
   "cell_type": "code",
   "execution_count": 17,
   "id": "6d697772",
   "metadata": {},
   "outputs": [
    {
     "name": "stdout",
     "output_type": "stream",
     "text": [
      "Results saved in /home/s/topo_data/resdir/student_test/student_test2024-06-11 14:53:12.648754\n"
     ]
    },
    {
     "data": {
      "image/png": "[encoded data removed]",
      "text/plain": [
       "<Figure size 180x180 with 1 Axes>"
      ]
     },
     "metadata": {
      "needs_background": "light"
     },
     "output_type": "display_data"
    }
   ],
   "source": [
    "# Comopare the expression level between the three contigs (one chromosome and two large plasmids)\n",
    "plot_stat_analysis.plot_student_test(chromosomes_genes_vals, ylabel=\"Average log2 expression\", figsize=(2.5,2.5), output_file=\"Sino_chrom_expr\")"
   ]
  },
  {
   "cell_type": "code",
   "execution_count": 18,
   "id": "c3124caf",
   "metadata": {},
   "outputs": [
    {
     "name": "stdout",
     "output_type": "stream",
     "text": [
      "Results saved in /home/s/topo_data/resdir/student_test/student_test2024-06-11 14:53:12.648754\n"
     ]
    },
    {
     "data": {
      "image/png": "[encoded data removed]",
      "text/plain": [
       "<Figure size 180x180 with 1 Axes>"
      ]
     },
     "metadata": {
      "needs_background": "light"
     },
     "output_type": "display_data"
    }
   ],
   "source": [
    "plot_stat_analysis.plot_student_test(chromosomes_genes_fc,ylabel=\"Average log2FC (ctrA vs WT)\", figsize=(2.5,2.5), output_file=\"Sino_chrom_DE\")"
   ]
  },
  {
   "cell_type": "markdown",
   "id": "d72c0642",
   "metadata": {},
   "source": [
    "The genes located on the chromosome are significantly more expressed than those on the two large plasmids (by a factor of around 4). Those two are expressed similarly. \n",
    "The chromosome is less activated by the mutation than the plasmids, but it is not statistically significant. "
   ]
  },
  {
   "cell_type": "markdown",
   "id": "914ce419",
   "metadata": {},
   "source": [
    "## 4 - Compare the expression level of genes in different orientations on the chromosome vs plasmids (one graph for each contig)"
   ]
  },
  {
   "cell_type": "markdown",
   "id": "f019e622",
   "metadata": {},
   "source": [
    "The analysis of gene orientation effects are not implemented for a multi-contig genome. However, it is very easy to work with each chromosome/plasmid successively, and analyze the orientation effects in each of them, as if they were single-chromosome genomes from different organisms. "
   ]
  },
  {
   "cell_type": "code",
   "execution_count": 20,
   "id": "68553006",
   "metadata": {},
   "outputs": [
    {
     "name": "stdout",
     "output_type": "stream",
     "text": [
      "Operation load_neighbor_all completed for genome AL591688.1\n",
      "Operation load_gene_orientation completed for genome AL591688.1\n",
      "Results saved in /home/s/topo_data/resdir/student_test/student_test2024-06-11 14:53:12.648754\n"
     ]
    },
    {
     "data": {
      "image/png": "[encoded data removed]",
      "text/plain": [
       "<Figure size 180x180 with 1 Axes>"
      ]
     },
     "metadata": {
      "needs_background": "light"
     },
     "output_type": "display_data"
    },
    {
     "name": "stdout",
     "output_type": "stream",
     "text": [
      "Operation load_neighbor_all completed for genome AE006469.1\n",
      "Operation load_gene_orientation completed for genome AE006469.1\n",
      "Results saved in /home/s/topo_data/resdir/student_test/student_test2024-06-11 14:53:12.648754\n"
     ]
    },
    {
     "data": {
      "image/png": "[encoded data removed]",
      "text/plain": [
       "<Figure size 180x180 with 1 Axes>"
      ]
     },
     "metadata": {
      "needs_background": "light"
     },
     "output_type": "display_data"
    },
    {
     "name": "stdout",
     "output_type": "stream",
     "text": [
      "Operation load_neighbor_all completed for genome AL591985.1\n",
      "Operation load_gene_orientation completed for genome AL591985.1\n",
      "Results saved in /home/s/topo_data/resdir/student_test/student_test2024-06-11 14:53:12.648754\n"
     ]
    },
    {
     "data": {
      "image/png": "[encoded data removed]",
      "text/plain": [
       "<Figure size 180x180 with 1 Axes>"
      ]
     },
     "metadata": {
      "needs_background": "light"
     },
     "output_type": "display_data"
    }
   ],
   "source": [
    "# Each contig (chromosome/plasmid) is associated to a separate genome object, \n",
    "# and we can work with each of them successively\n",
    "for ge in g.genomes:\n",
    "    # Load the orientation of genes within the considered contig\n",
    "    ge.load_gene_orientation()\n",
    "    ori={}\n",
    "    for k in list(ge.orientation.keys())[:3]:\n",
    "        ori[k]=[ge.genes[gene].expression[\"Ctl\"]-8 for gene in ge.orientation[k] if gene in tr.genes_valid_fc[\"2h\"]]\n",
    "    plot_stat_analysis.plot_student_test(ori, ylabel=\"Average log2 expression\", figsize=(2.5,2.5), output_file=\"Sino_ori_expr\")"
   ]
  },
  {
   "cell_type": "markdown",
   "id": "c5e2ea0c",
   "metadata": {},
   "source": [
    "On the chromosome, the expression level is not significantly different depending on the orientation. However, it is on plasmids, with tandem genes being less expressed. Surprisingly, in one plasmid, convergent genes are more expressed, whereas on the other, it is divergent genes. "
   ]
  }
 ],
 "metadata": {
  "kernelspec": {
   "display_name": "Python 3 (ipykernel)",
   "language": "python",
   "name": "python3"
  },
  "language_info": {
   "codemirror_mode": {
    "name": "ipython",
    "version": 3
   },
   "file_extension": ".py",
   "mimetype": "text/x-python",
   "name": "python",
   "nbconvert_exporter": "python",
   "pygments_lexer": "ipython3",
   "version": "3.12.3"
  }
 },
 "nbformat": 4,
 "nbformat_minor": 5
}
