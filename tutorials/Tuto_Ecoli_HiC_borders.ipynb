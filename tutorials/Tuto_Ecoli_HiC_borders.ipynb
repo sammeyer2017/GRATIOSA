{
 "cells": [
  {
   "cell_type": "markdown",
   "id": "b16584bb",
   "metadata": {},
   "source": [
    "#  Test a few statistical analyses on the borders of chromatin interaction domains identified in a HiC map from E. coli"
   ]
  },
  {
   "cell_type": "markdown",
   "id": "30af7bd5",
   "metadata": {},
   "source": [
    "Please use the next cell to adjust the two following variables according to your installation: \n",
    "- path to GRATIOSA package\n",
    "- path to database"
   ]
  },
  {
   "cell_type": "code",
   "execution_count": 3,
   "id": "bbed40aa",
   "metadata": {},
   "outputs": [
    {
     "name": "stdout",
     "output_type": "stream",
     "text": [
      "Using the database stored in: /home/s/maiwenn_PhD/article_GRATIOSA/revision/tutorials/../. Please check that this is correct.\n"
     ]
    }
   ],
   "source": [
    "import sys\n",
    "## PATH TO PACKAGE:\n",
    "## ----------------\n",
    "## IF ALREADY IN YOUR PYTHON PATH (e.g. installation through Pip): nothing to do\n",
    "## IF NOT IN YOUR PYTHON PATH (e.g. download from GitHub): \n",
    "## uncomment and adjust the following relevant line to the location of the GRATIOSA directory\n",
    "## - For Linux/MacOS:             typical style ;-)\n",
    "#sys.path.append('/home/usr/Python_venv/lib/python3.8/site-packages/') \n",
    "# sys.path.insert(0,\"/home/s/Téléchargements/GRATIOSA-master/\")\n",
    "#sys.path.append(\"/home/s/Downloads/GRATIOSA-master/\")\n",
    "## (- For Windows:                  typical style ;-)\n",
    "#sys.path.append('C:\\\\Downloads\\\\GRATIOSA-master')\n",
    "\n",
    "import os\n",
    "## PATH TO DATABASE:\n",
    "## -----------------\n",
    "## FOR REGULAR USE OF THE PACKAGE:\n",
    "#  Please set your system environment variable \\$GRATIOSA_DB_PATH in order to have \n",
    "#  \\$GRATIOSA_DB_PATH + data/organisms (e.g. export GRATIOSA_DB_PATH=/home/usr/documents/GRATIOSA/).\n",
    "## FOR THIS TUTORIAL ONLY:\n",
    "#  you can skip the system environment variable and just use the following line\n",
    "#  We assume that the \"data\" directory containing the database is in the parent directory (otherwise adjust line)\n",
    "os.environ[\"GRATIOSA_DB_PATH\"]=os.getcwd()+\"/../\"\n",
    "print(\"Using the database stored in: %s. Please check that this is correct.\"%(os.environ[\"GRATIOSA_DB_PATH\"]))"
   ]
  },
  {
   "cell_type": "code",
   "execution_count": 4,
   "id": "ad4104f9",
   "metadata": {},
   "outputs": [],
   "source": [
    "# Loading the modules for data loading\n",
    "from GRATIOSA import Genome, HiC, Transcriptome, GO\n",
    "\n",
    "# Loading the statistical analysis and graphic modules\n",
    "from GRATIOSA import stat_analysis, plot_stat_analysis\n",
    "import numpy as np"
   ]
  },
  {
   "cell_type": "markdown",
   "id": "4cdc20a3",
   "metadata": {},
   "source": [
    "## 1 - Data loading\n",
    "#### Genomic annotation loading"
   ]
  },
  {
   "cell_type": "code",
   "execution_count": 5,
   "id": "d5812313",
   "metadata": {},
   "outputs": [
    {
     "name": "stdout",
     "output_type": "stream",
     "text": [
      "Detected a genome with 1 chromosome\n",
      "Chromosome U00096.3 of length 4641652\n",
      "Sequence of organism ecoli loaded\n",
      "Trying to load annotation from: /home/s/maiwenn_PhD/article_GRATIOSA/revision/tutorials/../data/ecoli/annotation/sequence.gff3\n",
      "Annotation of ecoli loaded\n",
      "Number of genes: 4314\n"
     ]
    }
   ],
   "source": [
    "g = Genome.Genome(\"ecoli\")\n",
    "g.load_seq()\n",
    "g.load_annotation()"
   ]
  },
  {
   "cell_type": "markdown",
   "id": "dfaa32ab",
   "metadata": {},
   "source": [
    "#### Load the borders of chromatin interactions domains obtained from a HiC dataset"
   ]
  },
  {
   "cell_type": "markdown",
   "id": "6adea70e",
   "metadata": {},
   "source": [
    "The employed dataset is https://www.ncbi.nlm.nih.gov/sra/SRX7095271. The borders between adjacent domains were computed using Chromosight (https://github.com/koszullab/chromosight), using standard parameters and 2-kb bins. The output file SRR10394904.tsv contains the coordinates of these borders. \n",
    "We placed that file into the \"ecoli/sites\" directory and updated the \"sites.info\" file to indicate the relevant information. "
   ]
  },
  {
   "cell_type": "code",
   "execution_count": 6,
   "id": "83ea04e4",
   "metadata": {},
   "outputs": [
    {
     "name": "stdout",
     "output_type": "stream",
     "text": [
      "Loading condition ['all']\n",
      "Successful loading of sites\n"
     ]
    }
   ],
   "source": [
    "g.load_sites()"
   ]
  },
  {
   "cell_type": "code",
   "execution_count": 7,
   "id": "2dc9dabb",
   "metadata": {},
   "outputs": [
    {
     "data": {
      "text/plain": [
       "dict_keys(['borders_SRR10394904'])"
      ]
     },
     "execution_count": 7,
     "metadata": {},
     "output_type": "execute_result"
    }
   ],
   "source": [
    "# The borders are contained in a dictionary with key \"borders_SRR10394904\"\n",
    "g.sites.keys()"
   ]
  },
  {
   "cell_type": "code",
   "execution_count": 8,
   "id": "3c35a1f2",
   "metadata": {},
   "outputs": [
    {
     "data": {
      "text/plain": [
       "array([[1140000, 1142000],\n",
       "       [1968000, 1970000],\n",
       "       [  34000,   36000],\n",
       "       [ 110000,  112000]])"
      ]
     },
     "execution_count": 8,
     "metadata": {},
     "output_type": "execute_result"
    }
   ],
   "source": [
    "# We verify that each site has a width of 2000 bp\n",
    "g.sites['borders_SRR10394904'][:4]"
   ]
  },
  {
   "cell_type": "markdown",
   "id": "d76083b6",
   "metadata": {},
   "source": [
    "## 2 - Attribute genes to sites"
   ]
  },
  {
   "cell_type": "code",
   "execution_count": 9,
   "id": "e8f84a3e",
   "metadata": {},
   "outputs": [
    {
     "name": "stdout",
     "output_type": "stream",
     "text": [
      "Operation genes_per_pos completed for genome ecoli\n"
     ]
    }
   ],
   "source": [
    "# use a function to compute genes that overlap each border\n",
    "# each border is 2000 bp long\n",
    "g.load_genes_per_pos(2000)"
   ]
  },
  {
   "cell_type": "code",
   "execution_count": 10,
   "id": "26848fa7",
   "metadata": {},
   "outputs": [],
   "source": [
    "# Then associate the list of genes around the central position of each border. \n",
    "border_genes = []\n",
    "for site in g.sites[\"borders_SRR10394904\"]:\n",
    "    genes = g.genes_per_pos[(site[0]+site[1])/2]\n",
    "    if genes != [None] : \n",
    "        border_genes.extend(genes)\n",
    "border_genes =  list(dict.fromkeys(border_genes))\n",
    "no_border_genes = [i for i in list(g.genes.keys()) if i not in border_genes]\n",
    "border_dict = {\"border\": border_genes, \"else\": no_border_genes}"
   ]
  },
  {
   "cell_type": "code",
   "execution_count": 11,
   "id": "0a35acb2",
   "metadata": {},
   "outputs": [
    {
     "data": {
      "text/plain": [
       "246"
      ]
     },
     "execution_count": 11,
     "metadata": {},
     "output_type": "execute_result"
    }
   ],
   "source": [
    "len(border_genes)"
   ]
  },
  {
   "cell_type": "markdown",
   "id": "eb8ce785",
   "metadata": {},
   "source": [
    "## 3 - Gene orientation \n",
    "\n",
    "Test if we observe an enrichment in particular orientations between neighboring genes at the borders. "
   ]
  },
  {
   "cell_type": "code",
   "execution_count": 12,
   "id": "aff27fe3",
   "metadata": {},
   "outputs": [
    {
     "name": "stdout",
     "output_type": "stream",
     "text": [
      "Operation load_neighbor_all completed for genome ecoli\n",
      "Operation load_gene_orientation completed for genome ecoli\n"
     ]
    }
   ],
   "source": [
    "g.load_gene_orientation()"
   ]
  },
  {
   "cell_type": "code",
   "execution_count": 13,
   "id": "363b1e9e",
   "metadata": {},
   "outputs": [
    {
     "data": {
      "text/plain": [
       "dict_keys(['tandem', 'divergent', 'convergent', 'isolated'])"
      ]
     },
     "execution_count": 13,
     "metadata": {},
     "output_type": "execute_result"
    }
   ],
   "source": [
    "# has created dictionaries with lists of genes by orientation\n",
    "g.orientation.keys()"
   ]
  },
  {
   "cell_type": "code",
   "execution_count": 14,
   "id": "5a5d0683",
   "metadata": {},
   "outputs": [
    {
     "name": "stdout",
     "output_type": "stream",
     "text": [
      "tandem: 2703 valid elements\n",
      "convergent: 797 valid elements\n",
      "divergent: 800 valid elements\n",
      "Results saved in /home/s/maiwenn_PhD/article_GRATIOSA/revision/tutorials/../resdir/enrichment_test/test_border_orientation.csv\n",
      "     Category  Selected_gene_nb  Expected_selected_nb  Adj p-value (FDR)\n",
      "1  convergent                58             45.447844           0.069001\n",
      "0      tandem               147            154.134910           0.849903\n",
      "2   divergent                41             45.618915           0.849903\n",
      "     Category  Selected_gene_nb  Total_gene_nb  Proportion     Prop_conf_int  \\\n",
      "1  convergent                58            797    0.072773  [0.0583, 0.0872]   \n",
      "0      tandem               147           2703    0.054384  [0.0492, 0.0596]   \n",
      "2   divergent                41            800    0.051250  [0.0369, 0.0656]   \n",
      "\n",
      "    p-value  Adj p-value (FDR)  Global_proportion  Expected_selected_nb  \n",
      "1  0.023000           0.069001           0.057024             45.447844  \n",
      "0  0.849903           0.849903           0.057024            154.134910  \n",
      "2  0.805344           0.849903           0.057024             45.618915  \n"
     ]
    },
    {
     "data": {
      "image/png": "[encoded data removed]",
      "text/plain": [
       "<Figure size 216x144 with 1 Axes>"
      ]
     },
     "metadata": {
      "needs_background": "light"
     },
     "output_type": "display_data"
    }
   ],
   "source": [
    "# Compute and plot the enrichment graph for the different orientations of genes at/around borders\n",
    "plot_stat_analysis.plot_enrichment_test(\n",
    "    # insert the two dictionaries of genes: orientation and border\n",
    "    g.orientation, border_dict,\n",
    "    targ_features=[\"border\"],\n",
    "    targ_cats=[\"tandem\",\"convergent\",\"divergent\"],\n",
    "    figsize = (3,2),\n",
    "    output_file=\"test_border_orientation\")"
   ]
  },
  {
   "cell_type": "markdown",
   "id": "cd8eeabc",
   "metadata": {},
   "source": [
    "The borders are (maybe surprisingly) enriched in convergent genes, at the limit of statistical detection (P-value of 0.023 adjusted to 0.069). This was not observed before, especially since borders are thought to contain many highly expressed operons that are usually rarely convergent. "
   ]
  },
  {
   "cell_type": "markdown",
   "id": "a4af4b2a",
   "metadata": {},
   "source": [
    "## 4 - Expression level \n",
    "\n",
    "Test on this dataset if we detect the presence of highly expressed operons at domain borders, as previously observed with other data. "
   ]
  },
  {
   "cell_type": "code",
   "execution_count": 15,
   "id": "7f3ac35f",
   "metadata": {},
   "outputs": [
    {
     "name": "stdout",
     "output_type": "stream",
     "text": [
      "Loading condition: base\n",
      "3367 expressions were successfully loaded\n",
      "240 locus are not in annotation\n",
      "745 expressions are null and led to math domain error\n"
     ]
    }
   ],
   "source": [
    "# Import of an arbitrary dataset of RNA-Seq data in standard growth conditions (processed data imported from publication)\n",
    "# We used Supp Table S3 from Zhang et al., Mol Cell 2019, https://doi.org/10.1016%2Fj.molcel.2018.02.035\n",
    "# The file was located in /ecoli/expression and the expression.info file was formatted accordingly\n",
    "# Gene expressions are given there as the fraction of RPKM for each gene compared to the total RPKMs\n",
    "tr=Transcriptome.Transcriptome(g)\n",
    "tr.load_expression()"
   ]
  },
  {
   "cell_type": "code",
   "execution_count": 41,
   "id": "7039acc0",
   "metadata": {},
   "outputs": [],
   "source": [
    "?plot_stat_analysis.plot_student_test"
   ]
  },
  {
   "cell_type": "code",
   "execution_count": 16,
   "id": "47b4b130",
   "metadata": {},
   "outputs": [],
   "source": [
    "# Create dictionary with log-expression of each gene, in borders and outside borders\n",
    "# Add an arbitrary constant to gene log2RPKM values to obtain positive expression values (does not affect the results)\n",
    "expr_dict={}\n",
    "for b in border_dict.keys():\n",
    "    expr_dict[b]=[g.genes[ge].expression[\"base\"]+16 for ge in tr.genes_valid_expr[\"base\"].keys() if ge in border_dict[b]]"
   ]
  },
  {
   "cell_type": "code",
   "execution_count": 17,
   "id": "21aa25e9",
   "metadata": {},
   "outputs": [
    {
     "name": "stdout",
     "output_type": "stream",
     "text": [
      "Results saved in /home/s/maiwenn_PhD/article_GRATIOSA/revision/tutorials/../resdir/student_test/student_test2024-06-11 16:33:02.773310\n"
     ]
    },
    {
     "data": {
      "image/png": "[encoded data removed]",
      "text/plain": [
       "<Figure size 81.6x158.4 with 1 Axes>"
      ]
     },
     "metadata": {
      "needs_background": "light"
     },
     "output_type": "display_data"
    }
   ],
   "source": [
    "plot_stat_analysis.plot_student_test(expr_dict,ylabel=\"Average expression (log2 RPKM)\")"
   ]
  },
  {
   "cell_type": "markdown",
   "id": "08b5a1b6",
   "metadata": {},
   "source": [
    "As expected, we observe a stronger average expression for genes located at domain borders, with high statistical confidence (see exported file, P=2.5e-4). The average expression is around two-fold higher for genes located at/around borders. "
   ]
  },
  {
   "cell_type": "markdown",
   "id": "19ac4881",
   "metadata": {},
   "source": [
    "### Check that, usually (in the genome), there are less highly expressed genes among convergent genes than others, for comparison. We divide genes into strongly/weakly expressed (compared to the median) and check the proportion of weakly expressed genes by orientation"
   ]
  },
  {
   "cell_type": "code",
   "execution_count": 19,
   "id": "7878ea65",
   "metadata": {},
   "outputs": [
    {
     "name": "stdout",
     "output_type": "stream",
     "text": [
      "tandem: 2071 valid elements\n",
      "convergent: 641 valid elements\n",
      "divergent: 645 valid elements\n",
      "Results saved in /home/s/maiwenn_PhD/article_GRATIOSA/revision/tutorials/../resdir/enrichment_test/test_orientation_high_expr.csv\n",
      "     Category  Selected_gene_nb  Expected_selected_nb  Adj p-value (FDR)\n",
      "1  convergent               372            320.595189           0.000011\n",
      "0      tandem               994           1035.807544           0.998640\n",
      "2   divergent               312            322.595783           0.998640\n",
      "     Category  Selected_gene_nb  Total_gene_nb  Proportion     Prop_conf_int  \\\n",
      "1  convergent               372            641    0.580343  [0.5452, 0.6154]   \n",
      "0      tandem               994           2071    0.479961  [0.4667, 0.4932]   \n",
      "2   divergent               312            645    0.483721  [0.4488, 0.5186]   \n",
      "\n",
      "    p-value  Adj p-value (FDR)  Global_proportion  Expected_selected_nb  \n",
      "1  0.000004           0.000011           0.500149            320.595189  \n",
      "0  0.998640           0.998640           0.500149           1035.807544  \n",
      "2  0.834429           0.998640           0.500149            322.595783  \n"
     ]
    },
    {
     "data": {
      "image/png": "[encoded data removed]",
      "text/plain": [
       "<Figure size 216x144 with 1 Axes>"
      ]
     },
     "metadata": {
      "needs_background": "light"
     },
     "output_type": "display_data"
    }
   ],
   "source": [
    "# Create a dictionary with genes separated into above or below median expression\n",
    "med_expr=np.median([g.genes[ge].expression[\"base\"] for ge in tr.genes_valid_expr[\"base\"]])\n",
    "high_expr_genes = [ge for ge in list(tr.genes_valid_expr[\"base\"].keys()) if g.genes[ge].expression[\"base\"]>med_expr]\n",
    "low_expr_genes = [i for i in list(tr.genes_valid_expr[\"base\"].keys()) if i not in high_expr_genes]\n",
    "expr_dict = {\"high\": high_expr_genes, \"low\": low_expr_genes}\n",
    "# Compute enrichment graph of weakly expressed genes in different orientations\n",
    "# CAUTION: in the present version, the enrichment test only looks for ENRICHED categories. \n",
    "plot_stat_analysis.plot_enrichment_test(\n",
    "    # insert the two dictionaries of genes: orientation and border\n",
    "    g.orientation, expr_dict,\n",
    "    targ_features=[\"low\"],\n",
    "    targ_cats=[\"tandem\",\"convergent\",\"divergent\"],\n",
    "    ylabel=\"Proportion of weakly expr genes\",\n",
    "    figsize = (3,2),\n",
    "    output_file=\"test_orientation_high_expr\")"
   ]
  },
  {
   "cell_type": "markdown",
   "id": "cf57c0b6",
   "metadata": {},
   "source": [
    "This shows that convergent genes are enriched in WEAKLY expressed genes. The presence of convergent and highly expressed genes at the borders is an unusual feature. "
   ]
  },
  {
   "cell_type": "markdown",
   "id": "011b8e67",
   "metadata": {},
   "source": [
    "## 5 - Functional enrichment analysis (GO annotation)\n",
    "\n",
    "See if we observe an enrichment of particular functional categories at domain borders\n",
    "\n",
    "#### GO annotation loading"
   ]
  },
  {
   "cell_type": "code",
   "execution_count": 22,
   "id": "77f8cfd7",
   "metadata": {},
   "outputs": [
    {
     "name": "stdout",
     "output_type": "stream",
     "text": [
      "Loading GO...\n",
      "\t4128 genes were successfully associated with some GO terms\n",
      "\t186 genes were not associated with any GO term\n"
     ]
    }
   ],
   "source": [
    "g.load_GO()\n",
    "dict_GO = g.GO['GO']"
   ]
  },
  {
   "cell_type": "markdown",
   "id": "fbec55e1",
   "metadata": {},
   "source": [
    "#### Functional enrichment analysis"
   ]
  },
  {
   "cell_type": "code",
   "execution_count": 23,
   "id": "8a326612",
   "metadata": {},
   "outputs": [
    {
     "name": "stdout",
     "output_type": "stream",
     "text": [
      "48 GO terms are not in the GO annotation\n",
      "Results saved in /home/s/maiwenn_PhD/article_GRATIOSA/revision/tutorials/../resdir/enrichment_test/enrich_test2024-06-11 16:33:02.773059_GOc.csv\n",
      "Results saved in /home/s/maiwenn_PhD/article_GRATIOSA/revision/tutorials/../resdir/enrichment_test/enrich_test2024-06-11 16:33:02.773059_GOp.csv\n",
      "Results saved in /home/s/maiwenn_PhD/article_GRATIOSA/revision/tutorials/../resdir/enrichment_test/enrich_test2024-06-11 16:33:02.773059_GOf.csv\n",
      "Results saved in /home/s/maiwenn_PhD/article_GRATIOSA/revision/tutorials/../resdir/enrichment_test/enrich_test2024-06-11 16:33:02.773059_significant.csv\n"
     ]
    }
   ],
   "source": [
    "# Use the built-in function to compute the enrichment of ALL GO terms in genes located at/around borders\n",
    "# Beware that, because we test 600 GO terms simultaneously, this operation results in huge corrections of p-values and a loss of statistical power if the focus is on a particular function\n",
    "GO.GO_enrichment_test(dict_GOterms=g.GO[\"GO\"],dict_features=border_dict,targ_features=\"border\")"
   ]
  },
  {
   "cell_type": "markdown",
   "id": "f307701c",
   "metadata": {},
   "source": [
    "Focusing on GO \"biological process\" components (file ending in \"_GOp\"), we find 10 terms with enrichment associated to a p-value < 0.01. Because of the huge number of simultaneous tests, the adjusted p-value is not significant, so additional (more focused) tests would be required to validate the observed enrichments. The enriched functions are associated to biosynthetic processes, translation, flagellum assembly, and transport - in agreement with the expected presence of strongly expressed operons. "
   ]
  }
 ],
 "metadata": {
  "kernelspec": {
   "display_name": "Python 3 (ipykernel)",
   "language": "python",
   "name": "python3"
  },
  "language_info": {
   "codemirror_mode": {
    "name": "ipython",
    "version": 3
   },
   "file_extension": ".py",
   "mimetype": "text/x-python",
   "name": "python",
   "nbconvert_exporter": "python",
   "pygments_lexer": "ipython3",
   "version": "3.10.12"
  }
 },
 "nbformat": 4,
 "nbformat_minor": 5
}
