{
 "cells": [
  {
   "cell_type": "markdown",
   "id": "d8835846",
   "metadata": {},
   "source": [
    "# How to plot a RNA-Seq converage from tabulated files (e.g., from bedTools) and carry out a statistical test on the activation/repression of genes depending on their genomic context "
   ]
  },
  {
   "cell_type": "markdown",
   "id": "63f33e1f",
   "metadata": {},
   "source": [
    "Please use the next cell to adjust the two following variables according to your installation: \n",
    "- path to GRATIOSA package\n",
    "- path to database"
   ]
  },
  {
   "cell_type": "code",
   "execution_count": 1,
   "id": "f8e77e8a",
   "metadata": {},
   "outputs": [
    {
     "name": "stdout",
     "output_type": "stream",
     "text": [
      "Please check that the database is stored in: /home/s/maiwenn_PhD/article_GRATIOSA/revision/tutorials/../\n"
     ]
    }
   ],
   "source": [
    "import sys\n",
    "## PATH TO PACKAGE:\n",
    "## ----------------\n",
    "## IF ALREADY IN YOUR PYTHON PATH (e.g. installation through Pip): nothing to do\n",
    "## IF NOT IN YOUR PYTHON PATH (e.g. download from GitHub): \n",
    "## uncomment and adjust the following relevant line to the location of the GRATIOSA directory\n",
    "## - For Linux/MacOS:             typical style ;-)\n",
    "#sys.path.append('/home/usr/Python_venv/lib/python3.8/site-packages/') \n",
    "# sys.path.insert(0,\"/home/s/Téléchargements/GRATIOSA-master/\")\n",
    "#sys.path.append(\"/home/s/Downloads/GRATIOSA-master/\")\n",
    "## (- For Windows:                  typical style ;-)\n",
    "#sys.path.append('C:\\\\Downloads\\\\GRATIOSA-master')\n",
    "\n",
    "\n",
    "import os\n",
    "## PATH TO DATABASE:\n",
    "## -----------------\n",
    "## FOR REGULAR USE OF THE PACKAGE:\n",
    "##  Please set your system environment variable \\$GRATIOSA_DB_PATH in order to have \n",
    "##  \\$GRATIOSA_DB_PATH + data/organisms (e.g. export GRATIOSA_DB_PATH=/home/usr/documents/GRATIOSA/).\n",
    "## FOR THIS TUTORIAL ONLY:\n",
    "##  you can skip the system environment variable and just use the following line\n",
    "##  We assume that the \"data\" directory containing the database is in the parent directory (otherwise adjust line)\n",
    "os.environ[\"GRATIOSA_DB_PATH\"]=os.getcwd()+\"/../\"\n",
    "print(\"Please check that the database is stored in: %s\"%(os.environ[\"GRATIOSA_DB_PATH\"]))"
   ]
  },
  {
   "cell_type": "code",
   "execution_count": 2,
   "id": "c71629fa",
   "metadata": {},
   "outputs": [],
   "source": [
    "# Loading the modules for data loading\n",
    "from GRATIOSA import Genome, Transcriptome\n",
    "\n",
    "# Loading the statistical analysis and graphic modules\n",
    "from GRATIOSA import stat_analysis, plot_stat_analysis, plot_genome\n",
    "import numpy as np"
   ]
  },
  {
   "cell_type": "markdown",
   "id": "ff6f14a3",
   "metadata": {},
   "source": [
    "## 1 - Data loading\n",
    "#### Genomic annotation loading"
   ]
  },
  {
   "cell_type": "code",
   "execution_count": 3,
   "id": "6672bc85",
   "metadata": {},
   "outputs": [
    {
     "name": "stdout",
     "output_type": "stream",
     "text": [
      "Detected a genome with 1 chromosome\n",
      "Chromosome U00096.3 of length 4641652\n",
      "Sequence of organism ecoli loaded\n",
      "Trying to load annotation from: /home/s/maiwenn_PhD/article_GRATIOSA/revision/tutorials/../data/ecoli/annotation/sequence.gff3\n",
      "Annotation of ecoli loaded\n",
      "Number of genes: 4314\n"
     ]
    }
   ],
   "source": [
    "g = Genome.Genome(\"ecoli\")\n",
    "g.load_annotation()"
   ]
  },
  {
   "cell_type": "markdown",
   "id": "3324bb6c",
   "metadata": {},
   "source": [
    "#### Transcriptome signal and fold-changes loading"
   ]
  },
  {
   "cell_type": "code",
   "execution_count": 4,
   "id": "fffab43d",
   "metadata": {},
   "outputs": [],
   "source": [
    "# Initialization of the Transcriptome object\n",
    "tr = Transcriptome.Transcriptome(g)"
   ]
  },
  {
   "cell_type": "code",
   "execution_count": 11,
   "id": "61736a77",
   "metadata": {},
   "outputs": [
    {
     "name": "stdout",
     "output_type": "stream",
     "text": [
      "Reading the coverage data from text file /home/s/maiwenn_PhD/article_GRATIOSA/revision/tutorials/../data/ecoli/rnaseq_cov/cov_txt.info\n",
      "Loading condition WT\n",
      "Loading condition cold_shock_10mn\n"
     ]
    }
   ],
   "source": [
    "# Loading RNA-Seq coverages\n",
    "# The first execution is longer because the code reads the wig text files with RNA-Seq coverage \n",
    "# for dataset GEO GSM2771004 (cold-shock)\n",
    "# and replaces it with .npz Python coverage files for faster subsequent loading\n",
    "tr.load_rnaseq_cov()\n",
    "# This was requested because the cov_txt.info file contained the list of .wig files.\n",
    "# You can check that the operation worked by comparing the new files cov.info and .npz files\n",
    "# with the content of the npz_check directory in data/ecoli/rnaseq_cov/\n",
    "# after this initial step, you can delete the .wig files if you wish, as the .npz files contain the same information\n",
    "# The cov_txt.info should now be empty after the header line. "
   ]
  },
  {
   "cell_type": "markdown",
   "id": "6a7d3a82",
   "metadata": {},
   "source": [
    "## 2 - Genomic plot "
   ]
  },
  {
   "cell_type": "markdown",
   "id": "d794aabb",
   "metadata": {},
   "source": [
    "Plots the RNA-Seq coverage in a chosen location, for the two RNA-Seq coverage datasets that we loaded"
   ]
  },
  {
   "cell_type": "code",
   "execution_count": 12,
   "id": "98410a35",
   "metadata": {},
   "outputs": [
    {
     "name": "stdout",
     "output_type": "stream",
     "text": [
      "Saved as /home/s/maiwenn_PhD/article_GRATIOSA/revision/tutorials/../resdir/Genome_plot/genomic_plot_coli.pdf\n"
     ]
    },
    {
     "data": {
      "image/png": "[encoded data removed]",
      "text/plain": [
       "<Figure size 360x252 with 3 Axes>"
      ]
     },
     "metadata": {
      "needs_background": "light"
     },
     "output_type": "display_data"
    }
   ],
   "source": [
    "plot_genome.plot_region(g,beg=1002000,end = 1010000, \n",
    "                        RNASeq_cond=[\"WT\",\"cold_shock_10mn\"],\n",
    "                        R_ylabels=[\"WT\",\"cold shock\"],\n",
    "                        hspace=0.05,\n",
    "                        figsize=(5,3.5),\n",
    "                        output_file=f\"genomic_plot_coli\",\n",
    "                        file_extension='.pdf',\n",
    "                        tr_object=tr\n",
    "                       )"
   ]
  },
  {
   "cell_type": "markdown",
   "id": "36cf64ca",
   "metadata": {},
   "source": [
    "See the function description for arguments selection:"
   ]
  },
  {
   "cell_type": "code",
   "execution_count": 7,
   "id": "d1872d11",
   "metadata": {},
   "outputs": [
    {
     "name": "stdout",
     "output_type": "stream",
     "text": [
      "Help on function plot_region in module GRATIOSA.plot_genome:\n",
      "\n",
      "plot_region(gen, beg, end, RNASeq_cond=[], signals_cond=[], gene_names=True, output_dir='/home/s/GRATIOSA/tutorials/../resdir/Genome_plot/', output_file='Genome_2024-01-10 22:07:31.708943', file_extension='.pdf', *args, **kwargs)\n",
      "    Plots experimental information (one subplot per experiment) and gene\n",
      "    annotations for a region. The genes annotation subplot is created with\n",
      "    the subplot_genes function. RNASeq subplots and Chipseq subplots\n",
      "    are created with the subplot_rnaseq_coverage and subplot_signal functions\n",
      "    respectively.\n",
      "    \n",
      "    Args:\n",
      "        gen: Genome instance\n",
      "        beg (int.): beginning of the region to be plotted\n",
      "        end (int.): end of the region to be plotted\n",
      "        RNASeq_cond (list of str.): list of the RNASeq conditions names to\n",
      "            represent. Left empty by default ie no cover is plotted.\n",
      "        tr_object (Transcriptome instance): Transcriptome instance with \n",
      "            loaded RNASeq coverages\n",
      "        signals_cond (list of str.): list of the Chipseq conditions names to\n",
      "            represent. Left empty by default ie no signal is plotted.\n",
      "        ch_object (Chipseq instance): Chipseq instance with loaded signals.\n",
      "        gene_names (Optional [Bool.]): If true, the name of the genes is noted on their\n",
      "            representation. (True by default).\n",
      "        output_dir (Optional [str.]): output directory\n",
      "        output_file (Optional [str.]): output filename for plot\n",
      "        file_extension (Optional [str.]): Graphic file extension type (.pdf by default)\n",
      "        R_ylabels (Optional [list of str.]): y-axis label for RNASeq data subplots.\n",
      "            By default, conditions names given in input with the RNASeq_cond\n",
      "            argument.\n",
      "        S_ylabels (Optional [list of str.]): y-axis label for RNASeq data subplots.\n",
      "            By default, conditions names given in input with the signals_cond\n",
      "            argument.\n",
      "        vlines (Optional [dict.]): Dictionnary of shape {position: annotation text}.\n",
      "            One green vertical line and its annotation are plotted for each\n",
      "            item of this dictionnary.\n",
      "        figsize (Optional [(float,float)]): width and height in inches\n",
      "            (by default: (3.5,n) with n the number of suplots)\n",
      "        hratios (Optional [array-like]): Relative heights of the subplots. If not given,\n",
      "            all rows will have the same height except the genes subplot.\n",
      "        hspace (Optional [float]): Height space between subplots, expressed as a \n",
      "            fraction of the average axis height. By default: 0.05\n",
      "        figpos (Optional [array-like of length 4]): Position of the subplots as a \n",
      "            fraction of figure width or height. The array contains the \n",
      "            positions in the following order: bottom, top, left and right.\n",
      "    \n",
      "    \n",
      "    Warning:\n",
      "        This method needs a genomic annotation. If no annotation is\n",
      "        loaded to the Genome instance, the load_annotation method of with\n",
      "        the default \"sequence.gff3\" file is computed. To use another \n",
      "        annotation, please load an annotation to your Genome instance before \n",
      "        using this method.\n",
      "    \n",
      "    Warning:\n",
      "        To plot a ChIPseq coverage, all the selected conditions must first be loaded \n",
      "        on the Chipseq instance using one of the ChipSeq method (for example\n",
      "        load_signal or load_signals_average). This Chipseq instance must\n",
      "        then be given as input with the argument \"ch_object\".\n",
      "    \n",
      "    Warning:\n",
      "        To plot a RNAseq coverage, all the selected conditions must first be loaded \n",
      "        on the Transcriptome instance using tr.load_rnaseq_cov() and this\n",
      "        instance must be given as input with the argument \"tr_object\".\n",
      "    \n",
      "    Example:\n",
      "        >>> from GRATIOSA import Genome, Transcriptome, Chipseq, plot_genome\n",
      "        >>> g = Genome.Genome(\"ecoli\")\n",
      "        >>> g.load_annotation()\n",
      "        >>> tr = Transcriptome.Transcriptome(\"ecoli\")\n",
      "        >>> tr.load_rnaseq_cov()\n",
      "        >>> ch = Chipseq.Chipseq(\"ecoli\")\n",
      "        >>> ch.load_signals_average(list_cond=[\"cond1\",\"cond2\"],\n",
      "        ...                         average_name=\"cond12\")\n",
      "        >>> plot_genome.plot_region(g,2101000,2106000,\n",
      "                                    RNASeq_cond = [\"WT\"],\n",
      "                                    signals_cond=[\"cond12\"],\n",
      "                                    R_ylabels=[\"WT\"],\n",
      "                                    S_ylabels=[\"cond12\"],\n",
      "                                    tr_object=tr,\n",
      "                                    ch_object=ch,\n",
      "                                    hratios = [1,2,2,1],\n",
      "                                    figsize=(6,5),\n",
      "                                    figpos=[0.1,0.98,0.15,0.95])\n",
      "\n"
     ]
    }
   ],
   "source": [
    "help(plot_genome.plot_region)"
   ]
  },
  {
   "cell_type": "markdown",
   "id": "c0309cc5",
   "metadata": {},
   "source": [
    "# 3 - Test the relation between fold-change and gene orientation"
   ]
  },
  {
   "cell_type": "code",
   "execution_count": 13,
   "id": "965e5d2f",
   "metadata": {},
   "outputs": [
    {
     "name": "stdout",
     "output_type": "stream",
     "text": [
      "Loading condition: Blot\n",
      "\t29 locus are not in annotation\n",
      "Loading condition: Peter\n",
      "\t260 locus are not in annotation\n",
      "Loading condition: osmotic\n",
      "No p-value column found in fc.info file\n",
      "\t100 locus are not in annotation\n",
      "Loading condition: heat\n",
      "No p-value column found in fc.info file\n",
      "\t100 locus are not in annotation\n",
      "Loading condition: cold_shock_table10\n",
      "No p-value column found in fc.info file\n",
      "\t240 locus are not in annotation\n",
      "Loading condition: cold_shock_table30\n",
      "No p-value column found in fc.info file\n",
      "\t240 locus are not in annotation\n"
     ]
    }
   ],
   "source": [
    "# Loading RNA-Seq fold-change values from different datasets: \n",
    "# - Peter et al. 2004 Novobiocin treatment\n",
    "# - Blot et al. 2006 Novobiocin treatment\n",
    "# - Cold shock 10 and 30 min (see above, https://doi.org/10.1016/j.molcel.2018.02.035)\n",
    "# - Osmotic and other shocks (https://doi.org/10.1098/rsta.2015.0069)\n",
    "tr.load_fc_pval()\n",
    "# this generates a lot of warnings\n",
    "# the data are heterogeneous, were obtained with different microarray probes\n",
    "# as a result, some \"newer\" datasets have values for more genes, and some p-values are missing\n",
    "# it is easier with RNA-Seq data, but we show this as an example"
   ]
  },
  {
   "cell_type": "code",
   "execution_count": 14,
   "id": "a4d3e3b2",
   "metadata": {},
   "outputs": [
    {
     "name": "stdout",
     "output_type": "stream",
     "text": [
      "['b0463', 'b4117', 'b0474', 'b2000', 'b0049', 'b0978', 'b0469', 'b2923', 'b3237', 'b0908']\n",
      "-------------\n",
      "b0463 {'Blot': (-0.6647454347589391, 0.0443), 'Peter': (nan, nan), 'osmotic': (-0.451675533132837, 0.0), 'heat': (-0.067430577074264, 0.0), 'cold_shock_table10': (0.20144202617955476, 0.0), 'cold_shock_table30': (0.1306689517661742, 0.0)}\n",
      "b4117 {'Blot': (0.6454249887072632, 0.0083), 'Peter': (-0.9159, 1.0), 'osmotic': (-0.175445658483895, 0.0), 'heat': (-1.18423976851509, 0.0), 'cold_shock_table10': (0.16476065673761175, 0.0), 'cold_shock_table30': (0.5225049309689458, 0.0)}\n",
      "b0474 {'Blot': (-0.7836382650288727, 0.0178), 'Peter': (-0.2515, 0.825375), 'osmotic': (-1.10491207155466, 0.0), 'heat': (-1.30089975703575, 0.0), 'cold_shock_table10': (-0.021238796374338977, 0.0), 'cold_shock_table30': (-0.030437733220803623, 0.0)}\n"
     ]
    }
   ],
   "source": [
    "# Look at a few genes\n",
    "# -------------------\n",
    "# List of gene ids with experimental value in a specific dataset\n",
    "print(tr.genes_valid_fc[\"Blot\"][:10])\n",
    "print(\"-------------\")\n",
    "# A few example of the data: \n",
    "# one value per dataset: log2-fold-change and associated p-value\n",
    "# note that some datasets were imported from supplementary data with missing p-values (assigned to 0). \n",
    "for gene in tr.genes_valid_fc[\"Blot\"][:3]:\n",
    "    print(gene,tr.genes[gene].fc_pval)"
   ]
  },
  {
   "cell_type": "code",
   "execution_count": 15,
   "id": "b6c8ab6f",
   "metadata": {},
   "outputs": [
    {
     "name": "stdout",
     "output_type": "stream",
     "text": [
      "Operation load_neighbor_all completed for genome ecoli\n",
      "Operation load_gene_orientation completed for genome ecoli\n"
     ]
    }
   ],
   "source": [
    "# Add an orientation attribute to each gene, depending on its neighbors\n",
    "# This is an attribute of the Genome object\n",
    "g.load_gene_orientation()"
   ]
  },
  {
   "cell_type": "code",
   "execution_count": 16,
   "id": "482217e2",
   "metadata": {},
   "outputs": [
    {
     "data": {
      "text/plain": [
       "'tandem'"
      ]
     },
     "execution_count": 16,
     "metadata": {},
     "output_type": "execute_result"
    }
   ],
   "source": [
    "# example\n",
    "g.genes[\"b2000\"].orientation"
   ]
  },
  {
   "cell_type": "code",
   "execution_count": 17,
   "id": "c7f4ce8b",
   "metadata": {},
   "outputs": [],
   "source": [
    "# Define categories of activated, repressed or non-affected genes for each condition\n",
    "# This is an attribute of the Tr object (transcriptome)\n",
    "# We use the default values of the function (p-value=0.05)\n",
    "tr.compute_state_from_fc()"
   ]
  },
  {
   "cell_type": "code",
   "execution_count": 18,
   "id": "616377d7",
   "metadata": {},
   "outputs": [
    {
     "data": {
      "text/plain": [
       "{'Blot': 'act',\n",
       " 'Peter': 'non',\n",
       " 'osmotic': 'rep',\n",
       " 'heat': 'rep',\n",
       " 'cold_shock_table10': 'rep',\n",
       " 'cold_shock_table30': 'rep'}"
      ]
     },
     "execution_count": 18,
     "metadata": {},
     "output_type": "execute_result"
    }
   ],
   "source": [
    "# Check the resulting transcriptional \"state\" for an example gene\n",
    "tr.genes[\"b2000\"].state"
   ]
  },
  {
   "cell_type": "code",
   "execution_count": 19,
   "id": "82610e44",
   "metadata": {},
   "outputs": [],
   "source": [
    "# define dictionaries for the proportion test: \n",
    "# first create the dict containing the orientation of each gene\n",
    "dict_ori=dict([(\"tandem\",[]),(\"divergent\",[]),(\"convergent\",[]),(\"isolated\",[])])\n",
    "for gene in g.genes.keys():\n",
    "    dict_ori[g.genes[gene].orientation].append(gene)\n",
    "# then the dict with the transcriptional response to novobiocin of each gene\n",
    "dict_response=dict([(\"act\",[]),(\"rep\",[]),(\"non\",[])])\n",
    "for gene in tr.genes_valid_fc[\"Blot\"]:\n",
    "    dict_response[tr.genes[gene].state[\"Blot\"]].append(gene)"
   ]
  },
  {
   "cell_type": "code",
   "execution_count": 20,
   "id": "9cf1e187",
   "metadata": {},
   "outputs": [
    {
     "name": "stdout",
     "output_type": "stream",
     "text": [
      "convergent: 99 elements\n",
      "divergent: 151 elements\n",
      "Two-sided test p-value between convergent and divergent\t0.03575917961319633\n",
      "\n",
      "Results saved in /home/s/maiwenn_PhD/article_GRATIOSA/revision/tutorials/../resdir/proportion_test/prop_test2024-06-11 16:47:01.104650\n"
     ]
    },
    {
     "data": {
      "image/png": "[encoded data removed]",
      "text/plain": [
       "<Figure size 180x216 with 1 Axes>"
      ]
     },
     "metadata": {
      "needs_background": "light"
     },
     "output_type": "display_data"
    }
   ],
   "source": [
    "# plot and check the statistical significance of \n",
    "# the proportion of activated genes (among act+rep, i.e., among differentially expressed genes)\n",
    "# in the divergent versus convergent sets\n",
    "plot_stat_analysis.plot_proportion_test(dict_ori,dict_response,targ_features=[\"act\"],all_features=[\"act\",\"rep\"],cats=[\"convergent\",\"divergent\"],alt_hyp=\"two-sided\",figsize=(2.5,3))\n",
    "# We see that convergent genes are significantly more activated than divergent ones by novobiocin!  \n",
    "# Find more details in the exported text file"
   ]
  },
  {
   "cell_type": "code",
   "execution_count": null,
   "id": "91231563",
   "metadata": {},
   "outputs": [],
   "source": []
  }
 ],
 "metadata": {
  "kernelspec": {
   "display_name": "Python 3 (ipykernel)",
   "language": "python",
   "name": "python3"
  },
  "language_info": {
   "codemirror_mode": {
    "name": "ipython",
    "version": 3
   },
   "file_extension": ".py",
   "mimetype": "text/x-python",
   "name": "python",
   "nbconvert_exporter": "python",
   "pygments_lexer": "ipython3",
   "version": "3.10.12"
  }
 },
 "nbformat": 4,
 "nbformat_minor": 5
}
