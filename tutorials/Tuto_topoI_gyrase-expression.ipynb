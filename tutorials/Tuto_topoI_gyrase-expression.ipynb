{
 "cells": [
  {
   "cell_type": "code",
   "execution_count": 3,
   "id": "3dc9e49b",
   "metadata": {},
   "outputs": [],
   "source": [
    "import pandas as pd\n",
    "import numpy as np\n",
    "import sys\n",
    "sys.path.insert(0, '/home/maiwenn/these/topo_database/GRATIOSA')\n",
    "import Genome\n",
    "from scipy import interpolate\n",
    "from scipy.integrate import trapz\n",
    "import matplotlib.pyplot as plt\n",
    "import Chipseq, Transcriptome, GO\n",
    "import stat_analysis\n",
    "import plot_stat_analysis\n",
    "cm = 1/2.54  # centimeters in inches\n",
    "outdir = \"/home/maiwenn/these/resdir/\""
   ]
  },
  {
   "cell_type": "markdown",
   "id": "1718bd14",
   "metadata": {},
   "source": [
    "# 1 - Data importation and pre-processing"
   ]
  },
  {
   "cell_type": "markdown",
   "id": "f554098c",
   "metadata": {},
   "source": [
    "Genome object initialization and sequence loading"
   ]
  },
  {
   "cell_type": "code",
   "execution_count": 4,
   "id": "f8e7d657",
   "metadata": {},
   "outputs": [],
   "source": [
    "g = Genome.Genome(\"ecoli_W3110_Mu\")\n",
    "g.load_seq()"
   ]
  },
  {
   "cell_type": "markdown",
   "id": "bf6361e6",
   "metadata": {},
   "source": [
    "### A - Transcription Units positions and expressions"
   ]
  },
  {
   "cell_type": "markdown",
   "id": "b2f228c0",
   "metadata": {},
   "source": [
    "Loading of transcription units (TU) data present in the TU folder. Here, we will use the annotation and expression data published by Sutormin et al. These data are loaded as \"start\", \"end\", \"strand\", and \"expression\" attributes of each TU object."
   ]
  },
  {
   "cell_type": "code",
   "execution_count": 5,
   "id": "0769f351",
   "metadata": {},
   "outputs": [],
   "source": [
    "g.load_TU()"
   ]
  },
  {
   "cell_type": "markdown",
   "id": "0a9b11d0",
   "metadata": {},
   "source": [
    "Selection of TUs containing at least one stable RNAs"
   ]
  },
  {
   "cell_type": "code",
   "execution_count": 6,
   "id": "67bb7221",
   "metadata": {},
   "outputs": [],
   "source": [
    " #TUrtRNA: list of TUs with at least one stable RNA \n",
    "allTUs = list(g.TUs[\"TUSutormin\"].keys())\n",
    "TUrtRNA = [126,  127,  133,  147,  243,  288,  329,  404,  405,  460,  461,\n",
    "           488,  578,  773,  903,  935,  936,  939,  942, 1004, 1050, 1066,\n",
    "           1071, 1164, 1165, 1205, 1266, 1267, 1285, 1347, 1391, 1431, 1432,\n",
    "           1433, 1434, 1435, 1436, 1437, 1439, 1440, 1441, 1497, 1498, 1642,\n",
    "           1699, 1700, 1757, 1758, 1783, 1784, 1808, 1809, 1863, 1864, 1865,\n",
    "           1866, 1868, 1881, 1882, 1950, 1971, 2028, 2059, 2112, 2126, 2128,\n",
    "           2137, 2139, 2140, 2142, 2145, 2152, 2157]\n",
    "TUother = list(set(allTUs) - set(TUrtRNA))\n",
    "\n",
    "# Separation of expression data based on the presence of stable RNA\n",
    "TU_expr = {\"rtRNA\":{},\"other\":{}}\n",
    "for ID, TU in g.TUs[\"TUSutormin\"].items():\n",
    "    if ID in TUrtRNA:\n",
    "        TU_expr[\"rtRNA\"][ID] = TU.expression\n",
    "    else : \n",
    "        TU_expr[\"other\"][ID] = TU.expression"
   ]
  },
  {
   "cell_type": "markdown",
   "id": "0d31b95b",
   "metadata": {},
   "source": [
    "### B - Chipseq signals\n",
    "Chipseq object initialization"
   ]
  },
  {
   "cell_type": "code",
   "execution_count": 7,
   "id": "ee769028",
   "metadata": {},
   "outputs": [],
   "source": [
    "ch = Chipseq.Chipseq(\"ecoli_W3110_Mu\")"
   ]
  },
  {
   "cell_type": "markdown",
   "id": "2f86817b",
   "metadata": {},
   "source": [
    "Average of replicates and smoothing on 500b windows for TopoI and Gyrase signals"
   ]
  },
  {
   "cell_type": "code",
   "execution_count": 8,
   "id": "c7cfbd53",
   "metadata": {},
   "outputs": [
    {
     "name": "stdout",
     "output_type": "stream",
     "text": [
      "loading the file obtained with the following parameters:\n",
      "\n",
      "Name: TopoSutormin_WT_shift_500b\n",
      "\n",
      " Replicates: ['Sutormin_shift_TopoI_R1', 'Sutormin_shift_TopoI_R2', 'Sutormin_shift_TopoI_R3']\n",
      "\n",
      " Data treatment: smoothing\n",
      "\n",
      " Size (window or bin, in b): 500\n",
      "\n",
      "Please change 'average_name' to use other signals\n"
     ]
    }
   ],
   "source": [
    "condTopo = [\"Sutormin_shift_TopoI_R1\",\"Sutormin_shift_TopoI_R2\",\"Sutormin_shift_TopoI_R3\"]\n",
    "Topo_average_name = \"TopoSutormin_WT_shift_500b\"\n",
    "\n",
    "ch.load_signals_average(list_cond=condTopo,\n",
    "                        average_name=Topo_average_name,\n",
    "                       data_treatment = \"smoothing\",\n",
    "                       window=500)\n",
    "Topo_signal = ch.signals_average[Topo_average_name]"
   ]
  },
  {
   "cell_type": "code",
   "execution_count": 9,
   "id": "cafe9079",
   "metadata": {},
   "outputs": [
    {
     "name": "stdout",
     "output_type": "stream",
     "text": [
      "loading the file obtained with the following parameters:\n",
      "\n",
      "Name: GyrSutormin_WT_shift_500b\n",
      "\n",
      " Replicates: ['Sutormin_shift_Gyrase_R1', 'Sutormin_shift_Gyrase_R2']\n",
      "\n",
      " Data treatment: smoothing\n",
      "\n",
      " Size (window or bin, in b): 500\n",
      "\n",
      "Please change 'average_name' to use other signals\n"
     ]
    }
   ],
   "source": [
    "condGyr = ['Sutormin_shift_Gyrase_R1', 'Sutormin_shift_Gyrase_R2']\n",
    "Gyr_average_name = \"GyrSutormin_WT_shift_500b\"\n",
    "\n",
    "ch.load_signals_average(list_cond=condGyr,\n",
    "                        average_name=Gyr_average_name,\n",
    "                       data_treatment = \"smoothing\",\n",
    "                       window=500)\n",
    "Gyr_signal = ch.signals_average[Gyr_average_name]"
   ]
  },
  {
   "cell_type": "code",
   "execution_count": 24,
   "id": "e1930b5f",
   "metadata": {},
   "outputs": [],
   "source": [
    "all_signals = {\"Gyr\" : Gyr_signal, \"Topo\" : Topo_signal}"
   ]
  },
  {
   "cell_type": "markdown",
   "id": "97c8e32a",
   "metadata": {},
   "source": [
    "# 2 - TU classification in expression classes"
   ]
  },
  {
   "cell_type": "markdown",
   "id": "0da25e34",
   "metadata": {},
   "source": [
    "Classification with chosen class sizes"
   ]
  },
  {
   "cell_type": "code",
   "execution_count": 17,
   "id": "38904edc",
   "metadata": {},
   "outputs": [
    {
     "name": "stdout",
     "output_type": "stream",
     "text": [
      "ME: 1300 elements\n",
      "4: 200 elements\n",
      "3: 200 elements\n",
      "2: 200 elements\n",
      "1: 200 elements\n"
     ]
    },
    {
     "data": {
      "image/png": "[encoded data removed]",
      "text/plain": [
       "<Figure size 113.386x113.386 with 1 Axes>"
      ]
     },
     "metadata": {
      "needs_background": "light"
     },
     "output_type": "display_data"
    }
   ],
   "source": [
    "classif_TUs = stat_analysis.data_classification(\n",
    "    data_x=TU_expr[\"other\"].keys(),\n",
    "    data_y=TU_expr[\"other\"].values(),\n",
    "    class_nb=5,\n",
    "    class_names=[\"ME\", 4, 3, 2, 1],\n",
    "    class_sizes=[len(TUother)-800, 200, 200, 200, 200]\n",
    ")\n",
    "\n",
    "classif_TUs[0][\"rtRNA\"]=list(TU_expr[\"rtRNA\"].keys())\n",
    "classif_TUs[1][\"rtRNA\"]=list(TU_expr[\"rtRNA\"].values())\n",
    "\n",
    "class_means = {}\n",
    "for exprclass in [1,2,3,4,\"ME\"]:\n",
    "    class_means[exprclass] = np.mean([np.log2(x) for x in classif_TUs[1][exprclass] if x != 0])"
   ]
  },
  {
   "cell_type": "markdown",
   "id": "b919ca75",
   "metadata": {},
   "source": [
    "Classification in expression deciles"
   ]
  },
  {
   "cell_type": "code",
   "execution_count": 19,
   "id": "3ec19e25",
   "metadata": {},
   "outputs": [
    {
     "name": "stdout",
     "output_type": "stream",
     "text": [
      "Performing the classification in the following classes:\n",
      "0: from 0.0 to 0.2219460405665605\n",
      "1: from 0.2228635134981604 to 0.5004320721857773\n",
      "2: from 0.5006399528507197 to 0.983472590568697\n",
      "3: from 0.9931627185897828 to 1.799746695169979\n",
      "4: from 1.8003913626035322 to 3.0709541322556704\n",
      "5: from 3.0768155202341028 to 4.984718475437905\n",
      "6: from 4.993359039494553 to 8.103959961281214\n",
      "7: from 8.105314740027312 to 15.844014036290488\n",
      "8: from 15.868638890337257 to 37.766937523681115\n",
      "9: from 37.952086050606454 to 1522.949849756477\n",
      "0: 210 elements\n",
      "1: 210 elements\n",
      "2: 210 elements\n",
      "3: 210 elements\n",
      "4: 210 elements\n",
      "5: 210 elements\n",
      "6: 210 elements\n",
      "7: 210 elements\n",
      "8: 210 elements\n",
      "9: 210 elements\n"
     ]
    }
   ],
   "source": [
    "classif_deciles = stat_analysis.data_classification(\n",
    "    data_x=TU_expr[\"other\"].keys(),\n",
    "    data_y=TU_expr[\"other\"].values(),\n",
    "    class_nb=10\n",
    ")\n",
    "\n",
    "classif_deciles[0][\"rtRNA\"]=list(TU_expr[\"rtRNA\"].keys())\n",
    "classif_deciles[1][\"rtRNA\"]=list(TU_expr[\"rtRNA\"].values())"
   ]
  },
  {
   "cell_type": "markdown",
   "id": "25319fa5",
   "metadata": {},
   "source": [
    "# 3 - Stat analysis and graphical representations"
   ]
  },
  {
   "cell_type": "markdown",
   "id": "96875d89",
   "metadata": {},
   "source": [
    "### A - Average expression of each expression class"
   ]
  },
  {
   "cell_type": "code",
   "execution_count": 18,
   "id": "d4f7a323",
   "metadata": {},
   "outputs": [
    {
     "data": {
      "image/png": "[encoded data removed]",
      "text/plain": [
       "<Figure size 113.386x113.386 with 1 Axes>"
      ]
     },
     "metadata": {
      "needs_background": "light"
     },
     "output_type": "display_data"
    }
   ],
   "source": [
    "cat_colors = [\"blue\", \"dodgerblue\", \"limegreen\", \"orange\", \"red\"]\n",
    "fig, ax = plt.subplots(figsize=(4*cm, 4*cm))\n",
    "ax.bar([str(c) for c in class_means.keys()], class_means.values(),\n",
    "       color='white', edgecolor=cat_colors, width=0.6, linewidth=1)\n",
    "ax.set_ylim(-0.5, 7.2)\n",
    "ax.set_ylabel(\"log$_2$(FPKM)\")\n",
    "ax.axhline(0, color=\"black\", lw=1)\n",
    "ax.set_yticks(np.arange(0, 8, 2))\n",
    "plt.tight_layout()"
   ]
  },
  {
   "cell_type": "markdown",
   "id": "7fdf8199",
   "metadata": {},
   "source": [
    "### B - Average signals of each expression class in a window of +- 10kb around the TU"
   ]
  },
  {
   "cell_type": "code",
   "execution_count": 12,
   "id": "3485badc",
   "metadata": {},
   "outputs": [],
   "source": [
    "# Define the window size before and after the TU\n",
    "ws = 10000\n",
    "\n",
    "# Initialize dictionaries to store results by signal type (\"Gyr\" and \"Topo\")\n",
    "# and classification group (\"ME\", 4, 3, 2, 1)\n",
    "means = {\"Gyr\":{}, \"Topo\":{}}\n",
    "TUsignals = {\"Gyr\":{}, \"Topo\":{}}\n",
    "interpolsignal = {\"Gyr\":{}, \"Topo\":{}}\n",
    "df_sign = {\"Gyr\":{}, \"Topo\":{}}\n",
    "for styp in [\"Gyr\",\"Topo\"] : \n",
    "    for exprclass in [\"rtRNA\",1,2,3,4,\"ME\"] : \n",
    "        means[styp][exprclass] = {}\n",
    "        TUsignals[styp][exprclass] = {}\n",
    "        interpolsignal[styp][exprclass] = {}\n",
    "        df_sign[styp][exprclass] = {}  \n",
    "        \n",
    "# Loop over each TU of each expression class\n",
    "for exprclass in [\"rtRNA\",1,2,3,4,\"ME\"] : \n",
    "    for ID in classif_TUs[0][exprclass] : \n",
    "        TU = g.TUs[\"TUSutormin\"][ID]\n",
    "\n",
    "        # Define the start and end of the window around the TU\n",
    "        w_start = TU.start - ws\n",
    "        w_end = TU.end + ws\n",
    "\n",
    "        # Initialize a dictionary to store signals for each signal type (\"Gyr\" and \"Topo\")\n",
    "        g_signals = {}\n",
    "        \n",
    "        # If the window extends beyond the start or end of the genome, wrap around to the other side\n",
    "        if w_start < 0:\n",
    "            for styp in ['Gyr', 'Topo']:\n",
    "                 TUsignals[styp][exprclass][ID] = np.concatenate((all_signals[styp][g.length + w_start - 1:],\n",
    "                                                                  all_signals[styp][:w_end]))\n",
    "        elif w_end > g.length:\n",
    "            for styp in ['Gyr', 'Topo']:\n",
    "                 TUsignals[styp][exprclass][ID] = np.concatenate((all_signals[styp][w_start:],\n",
    "                                                                  all_signals[styp][:w_end - g.length + 1]))\n",
    "        else:\n",
    "            for styp in ['Gyr', 'Topo']:\n",
    "                 TUsignals[styp][exprclass][ID] = all_signals[styp][w_start:w_end]\n",
    "\n",
    "        # If the TU is on the negative strand, flip the signals\n",
    "        if not TU.strand: \n",
    "            for styp in ['Gyr', 'Topo']:\n",
    "                 TUsignals[styp][exprclass][ID] = np.flip(TUsignals[styp][exprclass][ID])\n",
    "\n",
    "        # Interpolate the signal within the window to 2000 points \n",
    "        for styp in ['Gyr', 'Topo']:\n",
    "            inTU_sign =  TUsignals[styp][exprclass][ID][ws:-ws]\n",
    "            f = interpolate.interp1d(np.arange(len(inTU_sign)), inTU_sign)           \n",
    "            x = np.linspace(0,len(inTU_sign)-1,num=2000)\n",
    "            inTU_sign = f(x)          \n",
    "            interpolsignal[styp][exprclass][ID] = np.concatenate((TUsignals[styp][exprclass][ID][:ws], inTU_sign,  TUsignals[styp][exprclass][ID][-ws:]))\n",
    "                 \n",
    "# Convert the signals into DataFrame and calculate the mean signal for each expression class\n",
    "    for styp in ['Gyr', 'Topo']:\n",
    "        df_sign[styp][exprclass] = pd.DataFrame(interpolsignal[styp][exprclass])\n",
    "        means[styp][exprclass] = df_sign[styp][exprclass].mean(axis=1)"
   ]
  },
  {
   "cell_type": "code",
   "execution_count": 13,
   "id": "9a5e02e5",
   "metadata": {},
   "outputs": [
    {
     "data": {
      "image/png": "[encoded data removed]",
      "text/plain": [
       "<Figure size 221.102x198.425 with 2 Axes>"
      ]
     },
     "metadata": {
      "needs_background": "light"
     },
     "output_type": "display_data"
    }
   ],
   "source": [
    "# Create a figure with 2 subplots (1 per signal type)\n",
    "fig, ax = plt.subplots(2,1, figsize=(7.8*cm,7*cm))\n",
    "fig.subplots_adjust(hspace=0.1, left=0.22, right=0.95, bottom=0.32, top=0.99)\n",
    "\n",
    "# Create an array with indices for the x-axis\n",
    "x = np.arange(len(means[styp][\"ME\"]))\n",
    "\n",
    "# Define a list of colors and labels for the expression categories\n",
    "colors = [\"black\",\"blue\", \"dodgerblue\", \"limegreen\", \"orange\",\"red\"]\n",
    "lme = len(classif_TUs[0][\"ME\"]) # get the number of TUs classified as \"ME\"\n",
    "labels = [\"rtRNA TUs\",\"0 - 200 HETUs\",\"200 - 400 HETUs\",\"400 - 600 HETUs\",\"600 - 800 HETUs\",f\"Other TU\\n({lme} TUs)\"]\n",
    "\n",
    "for p, styp in enumerate([\"Topo\", \"Gyr\"]):\n",
    "    # Loop over the expression categories and plot their mean TU signals\n",
    "    for ec, exprclass in enumerate([\"rtRNA\",1,2,3,4,\"ME\"]):\n",
    "        ax[p].plot(x, means[styp][exprclass], label=labels[ec], c=colors[ec], lw=0.7)\n",
    "                \n",
    "    # Add a horizontal line at y=0, a vertical line at the start of the TU,\n",
    "    # and another one at the end of the TU\n",
    "    ax[p].axhline(0, color='black', lw=1)\n",
    "    ax[p].set_xlim(0, ws*2+2000)\n",
    "    ax[p].axvline(ws, color='grey', ls='--', lw=0.5)\n",
    "    ax[p].axvline(ws+2000, color='grey', ls='--', lw=0.5)\n",
    "\n",
    "# Set the axis and ticks labels\n",
    "ax[0].set_ylabel(\"Topoisomerase I\", labelpad=6, fontsize=9)\n",
    "ax[1].set_ylabel(\"Gyrase\", labelpad=-2, fontsize=9)\n",
    "ax[1].set_xlabel(\"distance (kb)\", fontsize=7)\n",
    "for i in [0, 1]:\n",
    "    ax[i].set_xticks(np.arange(0, 2*ws+2001, ws/5))\n",
    "ax[0].set_yticks(np.arange(0, 2, 0.5))\n",
    "ax[1].set_yticks(np.arange(-0.5, 0.75, 0.25))\n",
    "ax[0].set_xticklabels([])\n",
    "ax[1].set_xticklabels(np.concatenate((np.arange(-ws/1000,-ws/6000,ws/6000, dtype=int),\n",
    "                                      ['$TU_s$','$TU_e$'],                    \n",
    "                                      np.arange(ws/6000+1,ws/1000+1,ws/6000, dtype=int))))\n",
    "fig.text(0.00, 0.65, 'log$_2$ coverage ratio (IP/Mock)', va='center', rotation='vertical',fontsize = 10)\n",
    "            \n",
    "# Set the legend\n",
    "handles, labels = ax[0].get_legend_handles_labels()\n",
    "fig.legend(handles, labels,fontsize=6,handlelength=1.5,loc='lower center',ncol=2)\n",
    "\n",
    "plt.savefig(f\"{outdir}fig3-signaux.svg\",transparent=False,facecolor='white')"
   ]
  },
  {
   "cell_type": "markdown",
   "id": "3a10ed41",
   "metadata": {},
   "source": [
    "## C - Average signals per expression deciles in, before and after the TU"
   ]
  },
  {
   "cell_type": "markdown",
   "id": "e40cf2fe",
   "metadata": {},
   "source": [
    "TopoI and Gyrase signals per expression deciles"
   ]
  },
  {
   "cell_type": "code",
   "execution_count": 65,
   "id": "2aa1b168",
   "metadata": {},
   "outputs": [],
   "source": [
    "# Define the window size before and after the TU\n",
    "ws = 10000\n",
    "\n",
    "all_signals = {\"Gyr\" : Gyr_signal,\"Topo\":Topo_signal}\n",
    "signal_per_exprclass = {}\n",
    "\n",
    "for s in [\"Gyr\",\"Topo\"] : \n",
    "    \n",
    "    # Initialize dictionary to store results by signal type (\"Gyr\" and \"Topo\")\n",
    "    # and region relative to the TU (\"before\",\"in\",\"after\")\n",
    "    signal_per_exprclass[s] = {}\n",
    "    for pos in [\"before\",\"in\",\"after\"]:\n",
    "        signal_per_exprclass[s][pos] = {}\n",
    "        for i in classif_deciles[0].keys() : \n",
    "            signal_per_exprclass[s][pos][i] = []\n",
    "            \n",
    "    # Loop over each TU of each expression decile to compute the average signal for each \n",
    "    # signal type and each region\n",
    "    for i in classif_deciles[0].keys() : \n",
    "        for ID in classif_deciles[0][i] :\n",
    "            TU = g.TUs[\"TUSutormin\"][ID]\n",
    "\n",
    "            signal_per_exprclass[s][\"in\"][i].append(np.mean(all_signals[s][TU.start:TU.end]))\n",
    "            if TU.strand :\n",
    "                signal_per_exprclass[s][\"after\"][i].append(np.mean(all_signals[s][TU.end:TU.end+ws]))\n",
    "                if ws <= TU.start : \n",
    "                    signal_per_exprclass[s][\"before\"][i].append(np.mean(all_signals[s][TU.start-ws:TU.start]))\n",
    "                # If the window extends beyond the start of the genome, wrap around to the other side\n",
    "                elif ws > TU.start : \n",
    "                    diff = ws - TU.start\n",
    "                    sign = np.concatenate([all_signals[s][:TU.start],all_signals[s][-diff:]])\n",
    "                    signal_per_exprclass[s][\"before\"][i].append(np.mean(sign))\n",
    "\n",
    "            else :\n",
    "                signal_per_exprclass[s][\"before\"][i].append(np.mean(all_signals[s][TU.end:TU.end+ws]))\n",
    "                if ws <= TU.start : \n",
    "                    signal_per_exprclass[s][\"after\"][i].append(np.mean(all_signals[s][TU.start-ws:TU.start]))\n",
    "                # If the window extends beyond the start of the genome, wrap around to the other side\n",
    "                elif ws > TU.start : \n",
    "                    diff = ws - TU.start\n",
    "                    sign = np.concatenate([all_signals[s][:TU.start],all_signals[s][-diff:]])\n",
    "                    signal_per_exprclass[s][\"after\"][i].append(np.mean(sign))"
   ]
  },
  {
   "cell_type": "markdown",
   "id": "d8920f55",
   "metadata": {},
   "source": [
    "Expression values per expression deciles"
   ]
  },
  {
   "cell_type": "code",
   "execution_count": 66,
   "id": "b29d4183",
   "metadata": {},
   "outputs": [],
   "source": [
    "signal_per_exprclass[\"expr\"] = {}\n",
    "signal_per_exprclass[\"expr\"][\"in\"] = classif_deciles[1]"
   ]
  },
  {
   "cell_type": "markdown",
   "id": "385e42a1",
   "metadata": {},
   "source": [
    "Student test to get all means and confidence intervals"
   ]
  },
  {
   "cell_type": "code",
   "execution_count": 67,
   "id": "e2ba650e",
   "metadata": {},
   "outputs": [
    {
     "name": "stdout",
     "output_type": "stream",
     "text": [
      "Results saved in /home/maiwenn/these/resdir/Gyr_before_TU_exprdeciles\n",
      "Results saved in /home/maiwenn/these/resdir/Gyr_in_TU_exprdeciles\n",
      "Results saved in /home/maiwenn/these/resdir/Gyr_after_TU_exprdeciles\n",
      "Results saved in /home/maiwenn/these/resdir/Topo_before_TU_exprdeciles\n",
      "Results saved in /home/maiwenn/these/resdir/Topo_in_TU_exprdeciles\n",
      "Results saved in /home/maiwenn/these/resdir/Topo_after_TU_exprdeciles\n",
      "Results saved in /home/maiwenn/these/resdir/expr_in_TU_exprdeciles\n"
     ]
    }
   ],
   "source": [
    "res = {}\n",
    "for s in [\"Gyr\",\"Topo\",\"expr\"] : \n",
    "    res[s] = {}\n",
    "    for pos in signal_per_exprclass[s].keys():\n",
    "        res[s][pos]=stat_analysis.quantitative_data_student_test(\n",
    "            signal_per_exprclass[s][pos],\n",
    "            output_dir=outdir,\n",
    "            output_file=f\"{s}_{pos}_TU_exprdeciles\")           "
   ]
  },
  {
   "cell_type": "markdown",
   "id": "feaa90c6",
   "metadata": {},
   "source": [
    "Graphical representation"
   ]
  },
  {
   "cell_type": "code",
   "execution_count": 68,
   "id": "86f423c6",
   "metadata": {
    "scrolled": false
   },
   "outputs": [
    {
     "data": {
      "image/png": "[encoded data removed]",
      "text/plain": [
       "<Figure size 496.063x180 with 8 Axes>"
      ]
     },
     "metadata": {
      "needs_background": "light"
     },
     "output_type": "display_data"
    }
   ],
   "source": [
    "plt.rcParams.update({'font.size': 8,\n",
    "                     'font.family': \"Arial\",\n",
    "                     'xtick.labelsize': 7,\n",
    "                     'ytick.labelsize': 8,\n",
    "                     'axes.labelsize': 9,\n",
    "                     'axes.titlesize': 10})\n",
    "\n",
    "width = 0.25\n",
    "\n",
    "# Extraire les noms de catégorie et les moyennes de chaque dictionnaire\n",
    "expr_cats = res['Gyr']['before']['categories']\n",
    "categories = ['before','in','after']\n",
    "labels_cats = list(np.arange(1,11))+['rt\\nRNA']\n",
    "legend_cats = ['10kb before TU','inside TU','10kb after TU']\n",
    "p = np.arange(len(expr_cats))\n",
    "legend = [\"Topoisomerase I\",\"DNA Gyrase\",\"expression\"]\n",
    "\n",
    "\n",
    "fig, ax = plt.subplots(2,3, figsize=(17.5/2.54,2.5), sharex=True,gridspec_kw={'height_ratios': [1, 3]})\n",
    "fig.subplots_adjust(hspace=0.06,wspace=0.5,left=0.07, right=0.98,bottom=0.20)\n",
    "\n",
    "colors = ['darkgoldenrod',\"black\"]\n",
    "for a in [0,1] :\n",
    "    for i,c in enumerate(categories) : \n",
    "\n",
    "        for j,s in enumerate([\"Topo\",'Gyr']) : \n",
    "\n",
    "\n",
    "            means = res[s][c]['means']\n",
    "\n",
    "            ci = np.zeros((2,len(expr_cats)))\n",
    "            for ca in np.arange(len(expr_cats)):\n",
    "                ci[0,ca] = means[ca] - res[s][c][\"confidence intervals\"][ca][0]\n",
    "                ci[1,ca] = res[s][c][\"confidence intervals\"][ca][1]-means[ca]\n",
    "\n",
    "            ax[a,i].plot(p, means, '-o',label=legend[j],lw=1,markersize=3,color=colors[j])\n",
    "            ax[a,i].errorbar(p, means, yerr= ci,capsize = 1.5,elinewidth = 0.5,capthick = 0.5,\n",
    "                     fmt=\"none\",color=colors[j])\n",
    "            \n",
    "            \n",
    "        ax[0,i].set_title(legend_cats[i])\n",
    "\n",
    "        # Ajouter des étiquettes d'axe, de titre et de légende\n",
    "        ax[0,i].set_xticks(p)\n",
    "        \n",
    "        ax[0,i].set_ylim(1.3,1.7)\n",
    "        ax[1,i].set_ylim(-0.3,0.9)\n",
    "        \n",
    "        # hide the spines between ax and ax2\n",
    "        ax[0,i].spines.bottom.set_visible(False)\n",
    "        ax[1,i].spines.top.set_visible(False)        \n",
    "       \n",
    "        ax[a,i].tick_params(labeltop=False)  # don't put tick labels at the top\n",
    "        ax[a,i].xaxis.tick_bottom()\n",
    "        ax[0,i].tick_params(axis='x', colors='white')\n",
    "        ax[1,i].set_xlabel('Expression decile',labelpad=-5)\n",
    "        \n",
    "        d = .5  # proportion of vertical to horizontal extent of the slanted line\n",
    "        kwargs = dict(marker=[(-1, -d), (1, d)], markersize=12,\n",
    "              linestyle=\"none\", color='k', mec='k', mew=1, clip_on=False)\n",
    "        ax[0,i].plot([0, 1], [0, 0], transform=ax[0,i].transAxes, **kwargs)\n",
    "        ax[1,i].plot([0, 1], [1, 1], transform=ax[1,i].transAxes, **kwargs)\n",
    "\n",
    "        ax[0,i].set_xticklabels(labels_cats)\n",
    "        ax[1,i].set_yticks(np.arange(-0.25,1,0.25))\n",
    "        ax[0,i].set_yticks(np.arange(1.4,1.7,0.25))\n",
    "        \n",
    "        \n",
    "        ax[1,i].set_ylabel(\"log$_2$coverage ratio (IP/Mock)\", labelpad=-3)\n",
    "\n",
    "            \n",
    "        ax[1,i].axhline(y=0,lw=0.3,c=\"black\")\n",
    "        \n",
    "        \n",
    "means = res['expr']['in']['means']\n",
    "\n",
    "ci = np.zeros((2,len(expr_cats)))\n",
    "for ca in np.arange(len(expr_cats)-1):\n",
    "    ci[0,ca] = means[ca] - res['expr']['in'][\"confidence intervals\"][ca][0]\n",
    "    ci[1,ca] = res['expr']['in'][\"confidence intervals\"][ca][1]-means[ca]\n",
    "\n",
    "axbis = ax[1,1].twinx()\n",
    "axbis.spines.bottom.set_visible(False)\n",
    "axbis.spines.top.set_visible(False)        \n",
    "axbis.plot(p[:-1], means[:-1], '-o',label='TU Expression',lw=1,color=\"gray\",markersize=3)\n",
    "axbis.set_ylim(-2,34)\n",
    "axbis.errorbar(p, means, yerr= ci,\n",
    "                     ecolor = \"gray\",capsize = 1.5,elinewidth = 0.5,capthick = 0.5,\n",
    "                     fmt=\"none\")\n",
    "axbis.set_ylabel(f'           FPKM',labelpad=5)\n",
    "\n",
    "axhaut = ax[0,1].twinx()\n",
    "axhaut.spines.bottom.set_visible(False)\n",
    "axhaut.spines.top.set_visible(False)        \n",
    "axhaut.plot(p[:-1], means[:-1], '-o',label='TU Expression',lw=1,color=\"gray\",markersize=3)\n",
    "axhaut.set_ylim(120,180)\n",
    "axhaut.errorbar(p, means, yerr= ci,\n",
    "                     ecolor = \"gray\",capsize = 1.5,elinewidth = 0.5,capthick = 0.5,\n",
    "                     fmt=\"none\")\n",
    "\n",
    "lines, labels = ax[0,0].get_legend_handles_labels()\n",
    "lines2, labels2 = axhaut.get_legend_handles_labels()\n",
    "axhaut.legend(lines + lines2, labels + labels2, loc='upper left')\n",
    "\n",
    "for a in [0,1]: \n",
    "    pos1 = ax[a,1].get_position()\n",
    "    pos1_new = [pos1.x0-0.025, pos1.y0, pos1.width , pos1.height] \n",
    "    ax[a,1].set_position(pos1_new)\n",
    "    \n",
    "plt.savefig(f\"{outdir}/signals_TUdeciles.svg\", transparent=True,facecolor='white')"
   ]
  },
  {
   "cell_type": "code",
   "execution_count": null,
   "id": "b612bf6c",
   "metadata": {},
   "outputs": [],
   "source": []
  },
  {
   "cell_type": "code",
   "execution_count": null,
   "id": "19bac367",
   "metadata": {},
   "outputs": [],
   "source": []
  }
 ],
 "metadata": {
  "kernelspec": {
   "display_name": "Python 3 (ipykernel)",
   "language": "python",
   "name": "python3"
  },
  "language_info": {
   "codemirror_mode": {
    "name": "ipython",
    "version": 3
   },
   "file_extension": ".py",
   "mimetype": "text/x-python",
   "name": "python",
   "nbconvert_exporter": "python",
   "pygments_lexer": "ipython3",
   "version": "3.8.10"
  }
 },
 "nbformat": 4,
 "nbformat_minor": 5
}
