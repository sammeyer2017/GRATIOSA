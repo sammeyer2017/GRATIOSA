{
 "cells": [
  {
   "cell_type": "markdown",
   "id": "6903b476",
   "metadata": {},
   "source": [
    "# How to analyze Chip-Seq data based on gene orientation?"
   ]
  },
  {
   "cell_type": "markdown",
   "id": "6dfe8dc3",
   "metadata": {},
   "source": [
    "Please use the next cell to adjust the two following variables according to your installation: \n",
    "- path to GRATIOSA package\n",
    "- path to database"
   ]
  },
  {
   "cell_type": "code",
   "execution_count": 1,
   "id": "bbfe7f47",
   "metadata": {},
   "outputs": [
    {
     "name": "stdout",
     "output_type": "stream",
     "text": [
      "Please check that the database is stored in: /home/s/maiwenn_PhD/article_GRATIOSA/test_GRATIOSA/GRATIOSA-master/tutorials/../\n"
     ]
    }
   ],
   "source": [
    "import sys\n",
    "## PATH TO PACKAGE:\n",
    "## ----------------\n",
    "## IF ALREADY IN YOUR PYTHON PATH (e.g. installation through Pip): nothing to do\n",
    "## IF NOT IN YOUR PYTHON PATH (e.g. download from GitHub): \n",
    "## uncomment and adjust the following relevant line to the location of the GRATIOSA directory\n",
    "## - For Linux/MacOS:             typical style ;-)\n",
    "#sys.path.append('/home/usr/Python_venv/lib/python3.8/site-packages/') \n",
    "# sys.path.insert(0,\"/home/s/Téléchargements/GRATIOSA-master/\")\n",
    "#sys.path.append(\"/home/s/Downloads/GRATIOSA-master/\")\n",
    "## (- For Windows:                  typical style ;-)\n",
    "#sys.path.append('C:\\\\Downloads\\\\GRATIOSA-master')\n",
    "\n",
    "\n",
    "import os\n",
    "## PATH TO DATABASE:\n",
    "## -----------------\n",
    "## FOR REGULAR USE OF THE PACKAGE:\n",
    "#  Please set your system environment variable \\$GRATIOSA_DB_PATH in order to have \n",
    "#  \\$GRATIOSA_DB_PATH + data/organisms (e.g. export GRATIOSA_DB_PATH=/home/usr/documents/GRATIOSA/).\n",
    "## FOR THIS TUTORIAL ONLY:\n",
    "#  you can skip the system environment variable and just use the following line\n",
    "#  We assume that the \"data\" directory containing the database is in the parent directory (otherwise adjust line)\n",
    "os.environ[\"GRATIOSA_DB_PATH\"]=os.getcwd()+\"/../\"\n",
    "print(\"Please check that the database is stored in: %s\"%(os.environ[\"GRATIOSA_DB_PATH\"]))"
   ]
  },
  {
   "cell_type": "code",
   "execution_count": 4,
   "id": "d500ab71",
   "metadata": {},
   "outputs": [],
   "source": [
    "# Loading the modules for data loading\n",
    "from GRATIOSA import Genome, Chipseq\n",
    "\n",
    "# Loading the statistical analysis and graphic modules\n",
    "from GRATIOSA import stat_analysis, plot_stat_analysis, plot_genome\n",
    "import numpy as np"
   ]
  },
  {
   "cell_type": "markdown",
   "id": "95d1718e",
   "metadata": {},
   "source": [
    "# 1 - Data importation and pre-processing"
   ]
  },
  {
   "cell_type": "markdown",
   "id": "342762b3",
   "metadata": {},
   "source": [
    "### Genomic annotation loading\n",
    "The orientation of each position is determined based on the strands where the two neighboring genes are located\n",
    "+ divergent: if left neighbor on - strand and right neighbor on + strand,\n",
    "+ convergent: if left neighbor on + strand and right neighbor on - strand,\n",
    "+ tandem: if left and right neighbors on same strand\n",
    "+ isolated: if the distance between neighbors is higher than the maximal distance given as argument"
   ]
  },
  {
   "cell_type": "code",
   "execution_count": 2,
   "id": "7374c7e8",
   "metadata": {
    "scrolled": true
   },
   "outputs": [
    {
     "name": "stdout",
     "output_type": "stream",
     "text": [
      "Detected a genome with 1 chromosome\n",
      "Chromosome NC_007779.1_w3110_Mu of length 4647454\n",
      "Sequence of organism ecoli_W3110_Mu loaded\n",
      "Trying to load annotation from: /home/s/topo_data/data/ecoli_W3110_Mu/annotation/sequence.gff3\n",
      "Annotation of ecoli_W3110_Mu loaded\n",
      "Number of genes: 4312\n",
      "Operation load_neighbor_all completed for genome ecoli_W3110_Mu\n",
      "Operation load_pos_orientation completed for genome ecoli_W3110_Mu\n"
     ]
    }
   ],
   "source": [
    "g = Genome.Genome(\"ecoli_W3110_Mu\")\n",
    "g.load_annotation()\n",
    "g.load_pos_orientation()"
   ]
  },
  {
   "cell_type": "markdown",
   "id": "c8260144",
   "metadata": {},
   "source": [
    "### Chip-Seq signals loading and pre-processing"
   ]
  },
  {
   "cell_type": "code",
   "execution_count": 3,
   "id": "cf242d3b",
   "metadata": {},
   "outputs": [
    {
     "name": "stdout",
     "output_type": "stream",
     "text": [
      "loading the file obtained with the following parameters:\n",
      "\n",
      "Name: Topo\n",
      "\n",
      " Replicates: ['Sutormin_TopoI_R1', 'Sutormin_TopoI_R2', 'Sutormin_TopoI_R3']\n",
      "\n",
      " Data treatment: No treatment\n",
      "\n",
      " Size (window or bin, in b): NA\n",
      "\n",
      "Please change 'average_name' to use other signals\n",
      "loading the file obtained with the following parameters:\n",
      "\n",
      "Name: rifTopo\n",
      "\n",
      " Replicates: ['Sutormin_TopoI_Rif_R1', 'Sutormin_TopoI_Rif_R3']\n",
      "\n",
      " Data treatment: No treatment\n",
      "\n",
      " Size (window or bin, in b): NA\n",
      "\n",
      "Please change 'average_name' to use other signals\n",
      "loading the file obtained with the following parameters:\n",
      "\n",
      "Name: Gyr\n",
      "\n",
      " Replicates: ['Sutormin_Gyrase_R1', 'Sutormin_Gyrase_R2']\n",
      "\n",
      " Data treatment: No treatment\n",
      "\n",
      " Size (window or bin, in b): NA\n",
      "\n",
      "Please change 'average_name' to use other signals\n",
      "loading the file obtained with the following parameters:\n",
      "\n",
      "Name: rifGyr\n",
      "\n",
      " Replicates: ['Sutormin_CFX_Rif_Gyrase_R2', 'Sutormin_CFX_Rif_Gyrase_R3']\n",
      "\n",
      " Data treatment: No treatment\n",
      "\n",
      " Size (window or bin, in b): NA\n",
      "\n",
      "Please change 'average_name' to use other signals\n"
     ]
    }
   ],
   "source": [
    "# Initialization of the Chipseq object\n",
    "ch = Chipseq.Chipseq(g)\n",
    "\n",
    "# Selection of replicates for each signal type\n",
    "cond = {\"Topo\": [\"Sutormin_TopoI_R1\", \"Sutormin_TopoI_R2\", \"Sutormin_TopoI_R3\"],\n",
    "        \"rifTopo\": [\"Sutormin_TopoI_Rif_R1\",\"Sutormin_TopoI_Rif_R3\"],\n",
    "        \"Gyr\": [\"Sutormin_Gyrase_R1\", \"Sutormin_Gyrase_R2\"],\n",
    "        \"rifGyr\":  [\"Sutormin_CFX_Rif_Gyrase_R2\", \"Sutormin_CFX_Rif_Gyrase_R3\"]\n",
    "       }  \n",
    "\n",
    "# Calculates the average signal between replicates for each genomic position\n",
    "for styp in cond.keys():\n",
    "    ch.load_signals_average(list_cond=cond[styp],\n",
    "                            average_name=styp)"
   ]
  },
  {
   "cell_type": "markdown",
   "id": "93bd33c8",
   "metadata": {},
   "source": [
    "# 2 - Statistical analysis of intergenic signal "
   ]
  },
  {
   "cell_type": "markdown",
   "id": "20cc17e0",
   "metadata": {},
   "source": [
    "### Adding a function specific to this study.\n",
    "\n",
    "This function divides a list of positions into bins and calculates the average signal for each bin. \n",
    "The binning is done in such a way that:\n",
    "+ each bin contains only adjacent positions\n",
    "+ each bin has a size greater than min_bs\n",
    "+ each bin has a size as close as possible to bs\""
   ]
  },
  {
   "cell_type": "code",
   "execution_count": 4,
   "id": "8652c9eb",
   "metadata": {},
   "outputs": [],
   "source": [
    "def binning(bs, min_bs, signal, positions) :\n",
    "    min_positions = [positions[0]]\n",
    "    max_positions = []\n",
    "\n",
    "    # Step 1: Find adjacent positions to create windows\n",
    "    for p,position in enumerate(positions):\n",
    "        if p != 0 :\n",
    "            if position > positions[p-1] + 1: \n",
    "                min_positions.append(position)\n",
    "                max_positions.append(positions[p-1])\n",
    "    max_positions.append(positions[-1])\n",
    "\n",
    "    # Step 2: Divide the windows into bins and calculate the mean signal in each bin\n",
    "    new_signal = []\n",
    "    for min_position, max_position in zip(min_positions, max_positions):\n",
    "        # Determine the bin edges to respect the chosen binsize\n",
    "        num_bins = (max_position - min_position) // bs + 1\n",
    "        bin_edges = np.linspace(min_position, max_position, num_bins + 1)\n",
    "\n",
    "        # Calculate the mean signal for each bin and store it if it meets the minimum bin size requirement\n",
    "        for bin_start, bin_end in zip(bin_edges[:-1], bin_edges[1:]):\n",
    "            bin_signal = signal[int(bin_start):int(bin_end)]\n",
    "            # Check if the bin size meets the minimum requirement (min_bs)\n",
    "            if len(bin_signal) >= min_bs:\n",
    "                new_signal.append(np.nanmean(bin_signal))\n",
    "\n",
    "    return new_signal"
   ]
  },
  {
   "cell_type": "markdown",
   "id": "e6e47d72",
   "metadata": {},
   "source": [
    "### Statistical comparison of signal density in intergenic regions based on the orientation of surrounding genes"
   ]
  },
  {
   "cell_type": "code",
   "execution_count": 5,
   "id": "b169d2f9",
   "metadata": {},
   "outputs": [
    {
     "name": "stdout",
     "output_type": "stream",
     "text": [
      "Results saved in /home/s/topo_data/resdir/student_test/Topo_bin100b_orientation\n"
     ]
    },
    {
     "data": {
      "image/png": "[encoded data removed]",
      "text/plain": [
       "<Figure size 115.2x158.4 with 1 Axes>"
      ]
     },
     "metadata": {
      "needs_background": "light"
     },
     "output_type": "display_data"
    },
    {
     "name": "stdout",
     "output_type": "stream",
     "text": [
      "Results saved in /home/s/topo_data/resdir/student_test/rifTopo_bin100b_orientation\n"
     ]
    },
    {
     "data": {
      "image/png": "[encoded data removed]",
      "text/plain": [
       "<Figure size 115.2x158.4 with 1 Axes>"
      ]
     },
     "metadata": {
      "needs_background": "light"
     },
     "output_type": "display_data"
    },
    {
     "name": "stdout",
     "output_type": "stream",
     "text": [
      "Results saved in /home/s/topo_data/resdir/student_test/Gyr_bin100b_orientation\n"
     ]
    },
    {
     "data": {
      "image/png": "[encoded data removed]",
      "text/plain": [
       "<Figure size 115.2x158.4 with 1 Axes>"
      ]
     },
     "metadata": {
      "needs_background": "light"
     },
     "output_type": "display_data"
    },
    {
     "name": "stdout",
     "output_type": "stream",
     "text": [
      "Results saved in /home/s/topo_data/resdir/student_test/rifGyr_bin100b_orientation\n"
     ]
    },
    {
     "data": {
      "image/png": "[encoded data removed]",
      "text/plain": [
       "<Figure size 115.2x158.4 with 1 Axes>"
      ]
     },
     "metadata": {
      "needs_background": "light"
     },
     "output_type": "display_data"
    }
   ],
   "source": [
    "min_bs = 50 # in b\n",
    "binsize = 100 # in b\n",
    "binned_signals = {}\n",
    "\n",
    "for styp in ch.signals_average.keys() :\n",
    "    binned_signals[styp] = {}\n",
    "    \n",
    "    # compute the signal density per bin for each orientation\n",
    "    for ori in ['divergent','tandem', 'convergent'] : \n",
    "        binned_signals[styp][ori] = binning(binsize,min_bs,ch.signals_average[styp],g.pos_orientation[\"intergenic\"][ori])\n",
    "    \n",
    "    # performs the statistical tests and plots the results\n",
    "    plot_stat_analysis.plot_student_test(binned_signals[styp],\n",
    "                                         output_file=f\"{styp}_bin{binsize}b_orientation\",\n",
    "                                         ylabel=f\"Mean {styp} coverage\",\n",
    "                                         xticks_labels = [\"div\",\"tand\",\"conv\"]\n",
    "                                        )"
   ]
  },
  {
   "cell_type": "markdown",
   "id": "ad037f5e",
   "metadata": {},
   "source": [
    "### Analysis of the difference between the signals with and without rifampicin for each orientation"
   ]
  },
  {
   "cell_type": "code",
   "execution_count": 6,
   "id": "d8e40203",
   "metadata": {},
   "outputs": [
    {
     "name": "stdout",
     "output_type": "stream",
     "text": [
      "Results saved in /home/s/topo_data/resdir/student_test/Topo_bin100b_orientation\n"
     ]
    },
    {
     "data": {
      "image/png": "[encoded data removed]",
      "text/plain": [
       "<Figure size 115.2x158.4 with 1 Axes>"
      ]
     },
     "metadata": {
      "needs_background": "light"
     },
     "output_type": "display_data"
    },
    {
     "name": "stdout",
     "output_type": "stream",
     "text": [
      "Results saved in /home/s/topo_data/resdir/student_test/Gyr_bin100b_orientation\n"
     ]
    },
    {
     "data": {
      "image/png": "[encoded data removed]",
      "text/plain": [
       "<Figure size 115.2x158.4 with 1 Axes>"
      ]
     },
     "metadata": {
      "needs_background": "light"
     },
     "output_type": "display_data"
    }
   ],
   "source": [
    "signals_rif_no_rif = {'TopoI' : {}, 'Gyrase' : {}}\n",
    "\n",
    "for styp in [(\"Topo\",\"rifTopo\"),(\"Gyr\",\"rifGyr\")] :\n",
    "    diff_sign = {}\n",
    "    \n",
    "    for ori in ['divergent','tandem', 'convergent'] : \n",
    "        diff_sign[ori] = binned_signals[styp[0]][ori] - np.mean(binned_signals[styp[1]][ori])\n",
    "   \n",
    "    plot_stat_analysis.plot_student_test(diff_sign,\n",
    "                                         output_file=f\"{styp[0]}_bin{binsize}b_orientation\",\n",
    "                                         title = \"(cov - cov$_{Rif}}$)\",\n",
    "                                         ylabel=f\"{styp} coverage difference\",\n",
    "                                         xticks_labels = [\"div\",\"tand\",\"conv\"]\n",
    "                                        )"
   ]
  }
 ],
 "metadata": {
  "kernelspec": {
   "display_name": "Python 3 (ipykernel)",
   "language": "python",
   "name": "python3"
  },
  "language_info": {
   "codemirror_mode": {
    "name": "ipython",
    "version": 3
   },
   "file_extension": ".py",
   "mimetype": "text/x-python",
   "name": "python",
   "nbconvert_exporter": "python",
   "pygments_lexer": "ipython3",
   "version": "3.10.12"
  }
 },
 "nbformat": 4,
 "nbformat_minor": 5
}
