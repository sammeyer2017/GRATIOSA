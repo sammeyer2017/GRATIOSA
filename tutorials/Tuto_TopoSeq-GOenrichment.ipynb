{
 "cells": [
  {
   "cell_type": "raw",
   "id": "da3475af",
   "metadata": {},
   "source": [
    "Before using, please set the environment variable \\$GRATIOSA_DB_PATH in order to have \\$GRATIOSA_DB_PATH + data/organisms (e.g. export GRATIOSA_DB_PATH=/home/usr/documents/GRATIOSA/)."
   ]
  },
  {
   "cell_type": "markdown",
   "id": "b16584bb",
   "metadata": {},
   "source": [
    "#  How to perform functional enrichment analysis on Chip-Seq data?"
   ]
  },
  {
   "cell_type": "code",
   "execution_count": 17,
   "id": "bbed40aa",
   "metadata": {},
   "outputs": [],
   "source": [
    "# Path indication to the loaded packages\n",
    "import sys\n",
    "sys.path.insert(0, '/home/usr/Python_venv/lib/python3.8/site-packages/') \n",
    "\n",
    "# Loading the modules for data loading\n",
    "from GRATIOSA import Genome, Chipseq, GO\n",
    "\n",
    "# Loading the statistical analysis and graphic modules\n",
    "import numpy as np\n",
    "from GRATIOSA import stat_analysis, plot_stat_analysis"
   ]
  },
  {
   "cell_type": "markdown",
   "id": "4cdc20a3",
   "metadata": {},
   "source": [
    "## 1 - Data loading\n",
    "#### Genomic annotation loading"
   ]
  },
  {
   "cell_type": "code",
   "execution_count": 18,
   "id": "d5812313",
   "metadata": {},
   "outputs": [
    {
     "name": "stdout",
     "output_type": "stream",
     "text": [
      "Trying to load annotation from: /home/maiwenn/these/database/data/ecoli_W3110_Mu/annotation/sequence.gff3\n",
      "Annotation loaded\n"
     ]
    }
   ],
   "source": [
    "g = Genome.Genome(\"ecoli_W3110_Mu\")\n",
    "g.load_seq()\n",
    "g.load_annotation()"
   ]
  },
  {
   "cell_type": "markdown",
   "id": "dfaa32ab",
   "metadata": {},
   "source": [
    "#### ChipSeq signal loading"
   ]
  },
  {
   "cell_type": "code",
   "execution_count": 19,
   "id": "51e28743",
   "metadata": {},
   "outputs": [
    {
     "name": "stdout",
     "output_type": "stream",
     "text": [
      "loading the file obtained with the following parameters:\n",
      "\n",
      "Name: Topo_bin100b\n",
      "\n",
      " Replicates: ['Sutormin_shift_TopoI_R1', 'Sutormin_shift_TopoI_R2', 'Sutormin_shift_TopoI_R3']\n",
      "\n",
      " Data treatment: binning\n",
      "\n",
      " Size (window or bin, in b): 100\n",
      "\n",
      "Please change 'average_name' to use other signals\n"
     ]
    }
   ],
   "source": [
    "# Initialization of the Chipseq object\n",
    "ch = Chipseq.Chipseq(\"ecoli_W3110_Mu\")\n",
    "\n",
    "# Selection of replicates \n",
    "cond =[\"Sutormin_TopoI_R1\", \"Sutormin_TopoI_R2\", \"Sutormin_TopoI_R3\"]\n",
    "\n",
    "# The load_signal_average method performs the following two steps:\n",
    "# 1 - Processes each replicate (here, binning with a chosen binsize)\n",
    "# 2 - Calculates the average signal between replicates for each genomic position\n",
    "binsize = 100  # Choice of the binsize (in b) for the binning\n",
    "cond_name = f\"Topo_bin{binsize}b\" # Choice of the new signal name\n",
    "ch.load_signals_average(list_cond=cond,\n",
    "                        average_name=cond_name,\n",
    "                        data_treatment=\"binning\",\n",
    "                        binsize=binsize)\n",
    "signal_per_bin = ch.signals_average[cond_name][np.arange(0,g.length,binsize)]"
   ]
  },
  {
   "cell_type": "markdown",
   "id": "d76083b6",
   "metadata": {},
   "source": [
    "## 2 - Simplified peak calling and gene selection\n",
    "\n",
    "#### Selection of bins with the strongest signal using the data classification function"
   ]
  },
  {
   "cell_type": "code",
   "execution_count": 20,
   "id": "2d7392eb",
   "metadata": {},
   "outputs": [
    {
     "name": "stdout",
     "output_type": "stream",
     "text": [
      "0: 46375 elements\n",
      "1: 100 elements\n"
     ]
    }
   ],
   "source": [
    "nb_peaks = 100 # Choice of the number of peaks to select\n",
    "\n",
    "peaks_bin = stat_analysis.data_classification(np.arange(len(signal_per_bin)),\n",
    "                                              signal_per_bin,\n",
    "                                              class_nb = 2, \n",
    "                                              class_sizes = [len(signal_per_bin)-nb_peaks,nb_peaks]\n",
    "                                             )[0][1]"
   ]
  },
  {
   "cell_type": "markdown",
   "id": "d8498062",
   "metadata": {},
   "source": [
    "#### Gene selection (2 options):\n",
    "+ A: Selection of genes within a chosen window size around each enriched bin"
   ]
  },
  {
   "cell_type": "code",
   "execution_count": 21,
   "id": "26848fa7",
   "metadata": {},
   "outputs": [],
   "source": [
    "ws = 400 #Choice of the window size ws (in b). \n",
    "\n",
    "#Genes located between the start of the peak - ws and the end of the peak + ws are selected\n",
    "g.load_genes_per_pos(ws*2+binsize)\n",
    "\n",
    "peak_genes = []\n",
    "for i in peaks_bin :\n",
    "    genes = g.genes_per_pos[i*binsize]\n",
    "    if genes != [None] : \n",
    "        peak_genes.extend(genes)\n",
    "peak_genes =  list(dict.fromkeys(peak_genes))\n",
    "nopeak_genes = [i for i in list(g.genes.keys()) if i not in peak_genes]"
   ]
  },
  {
   "cell_type": "markdown",
   "id": "026d400c",
   "metadata": {},
   "source": [
    "+ B: Selection of the 2 closest genes to each enriched bin"
   ]
  },
  {
   "cell_type": "code",
   "execution_count": 22,
   "id": "25582d9b",
   "metadata": {},
   "outputs": [],
   "source": [
    "g.load_neighbor_all() #Load, for each position, the closest right and left neighbors\n",
    "\n",
    "neighbor_genes = []\n",
    "for i in peaks_bin :\n",
    "    neighbor_genes.extend([g.left_neighbor[i*binsize],g.right_neighbor[i*binsize]])\n",
    "neighbor_genes =  list(dict.fromkeys(neighbor_genes))\n",
    "notneighbor_genes = [i for i in list(g.genes.keys()) if i not in neighbor_genes]"
   ]
  },
  {
   "cell_type": "markdown",
   "id": "011b8e67",
   "metadata": {},
   "source": [
    "## 3 - Functional enrichment analysis (GO annotation)\n",
    "\n",
    "#### GO annotation loading"
   ]
  },
  {
   "cell_type": "code",
   "execution_count": 23,
   "id": "77f8cfd7",
   "metadata": {},
   "outputs": [
    {
     "name": "stdout",
     "output_type": "stream",
     "text": [
      "Loading GO...\n",
      "\t3739 genes were successfully associated with some GO terms\n",
      "\t927 genes were not associated with any GO term\n"
     ]
    }
   ],
   "source": [
    "g.load_GO()\n",
    "dict_GO = g.GO['GO']"
   ]
  },
  {
   "cell_type": "markdown",
   "id": "fbec55e1",
   "metadata": {},
   "source": [
    "#### Functional enrichment analysis"
   ]
  },
  {
   "cell_type": "code",
   "execution_count": 24,
   "id": "4584ba3b",
   "metadata": {},
   "outputs": [
    {
     "name": "stdout",
     "output_type": "stream",
     "text": [
      "Results saved in /home/maiwenn/these/database/resdir/enrichment_test/GO_enrichment_bin100b_100peaks_GOc.csv\n",
      "Results saved in /home/maiwenn/these/database/resdir/enrichment_test/GO_enrichment_bin100b_100peaks_GOp.csv\n",
      "Results saved in /home/maiwenn/these/database/resdir/enrichment_test/GO_enrichment_bin100b_100peaks_GOf.csv\n",
      "Results saved in /home/maiwenn/these/database/resdir/enrichment_test/GO_enrichment_bin100b_100peaks_significant.csv\n"
     ]
    }
   ],
   "source": [
    "genes = {\"Peak\" : peak_genes, \"No peak\" : nopeak_genes}  # gene selection made with option A\n",
    "# genes = {\"Peak\" : neighbor_genes, \"No peak\" : notneighbor_genes} # gene selection made with option B\n",
    "\n",
    "GO.GO_enrichment_test(dict_GO,genes,\"Peak\",obo_reload=True,\n",
    "                      output_file=f\"GO_enrichment_bin{binsize}b_{nb_peaks}peaks\")"
   ]
  },
  {
   "cell_type": "markdown",
   "id": "a23e00d4",
   "metadata": {},
   "source": [
    "#### Visualization of some enrichment results"
   ]
  },
  {
   "cell_type": "code",
   "execution_count": 25,
   "id": "0fef4314",
   "metadata": {},
   "outputs": [
    {
     "name": "stdout",
     "output_type": "stream",
     "text": [
      "GO:0009103: 56 valid elements\n",
      "GO:0045226: 12 valid elements\n",
      "GO:0015774: 5 valid elements\n",
      "Results saved in /home/maiwenn/these/database/resdir/enrichment_test/test1.csv\n",
      "     Category  Selected_gene_nb  Expected_selected_nb  Adj p-value (FDR)\n",
      "0  GO:0009103                 9              0.778818       1.311891e-07\n",
      "1  GO:0045226                 0              0.166890       1.000000e+00\n",
      "2  GO:0015774                 0              0.069537       1.000000e+00\n",
      "     Category  Selected_gene_nb  Total_gene_nb  Proportion     Prop_conf_int  \\\n",
      "0  GO:0009103                 9             56    0.160714  [0.1339, 0.1875]   \n",
      "1  GO:0045226                 0             12    0.000000     [0.0, 0.0417]   \n",
      "2  GO:0015774                 0              5    0.000000        [0.0, 0.1]   \n",
      "\n",
      "        p-value  Adj p-value (FDR)  Global_proportion  Expected_selected_nb  \n",
      "0  4.372971e-08       1.311891e-07           0.013907              0.778818  \n",
      "1  1.000000e+00       1.000000e+00           0.013907              0.166890  \n",
      "2  1.000000e+00       1.000000e+00           0.013907              0.069537  \n"
     ]
    },
    {
     "data": {
      "image/png": "[encoded data removed]",
      "text/plain": [
       "<Figure size 216x144 with 1 Axes>"
      ]
     },
     "metadata": {
      "needs_background": "light"
     },
     "output_type": "display_data"
    }
   ],
   "source": [
    "plot_stat_analysis.plot_enrichment_test(\n",
    "    dict_GO,genes,\n",
    "    targ_features=[\"Peak\"],\n",
    "    targ_cats=[\"GO:0009103\",\"GO:0045226\",\"GO:0015774\"],\n",
    "    figsize = (3,2),\n",
    "    output_file=\"test1\")"
   ]
  }
 ],
 "metadata": {
  "kernelspec": {
   "display_name": "Python 3 (ipykernel)",
   "language": "python",
   "name": "python3"
  },
  "language_info": {
   "codemirror_mode": {
    "name": "ipython",
    "version": 3
   },
   "file_extension": ".py",
   "mimetype": "text/x-python",
   "name": "python",
   "nbconvert_exporter": "python",
   "pygments_lexer": "ipython3",
   "version": "3.8.10"
  }
 },
 "nbformat": 4,
 "nbformat_minor": 5
}
