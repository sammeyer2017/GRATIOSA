{
 "cells": [
  {
   "cell_type": "raw",
   "id": "db25f1d8",
   "metadata": {},
   "source": [
    "Before using, please set the environment variable \\$GRATIOSA_DB_PATH in order to have \\$GRATIOSA_DB_PATH + data/organisms (e.g. export GRATIOSA_DB_PATH=/home/usr/documents/GRATIOSA/)."
   ]
  },
  {
   "cell_type": "code",
   "execution_count": 1,
   "id": "e4ef9e5a",
   "metadata": {},
   "outputs": [],
   "source": [
    "%load_ext autoreload\n",
    "%autoreload 2"
   ]
  },
  {
   "cell_type": "code",
   "execution_count": 1,
   "id": "e92974ce",
   "metadata": {},
   "outputs": [],
   "source": [
    "# Path indication to the loaded packages\n",
    "import sys,os\n",
    "#sys.path.insert(0, '/home/usr/Python_venv/lib/python3.8/site-packages/') "
   ]
  },
  {
   "cell_type": "code",
   "execution_count": 4,
   "id": "730ceb53",
   "metadata": {},
   "outputs": [],
   "source": [
    "os.environ[\"GRATIOSA_DB_PATH\"]=os.getcwd()+\"/../\""
   ]
  },
  {
   "cell_type": "code",
   "execution_count": 5,
   "id": "13fbdfcd",
   "metadata": {},
   "outputs": [],
   "source": [
    "import numpy as np\n",
    "import pandas as pd\n",
    "from scipy import interpolate\n",
    "from scipy.integrate import trapz\n",
    "import matplotlib.pyplot as plt\n",
    "import matplotlib.lines as lines\n",
    "from GRATIOSA import Genome, Chipseq, Transcriptome, GO \n",
    "from GRATIOSA import stat_analysis, plot_stat_analysis, useful_functions_Chipseq\n",
    "from GRATIOSA.globvar import *\n",
    "from scipy import stats\n",
    "cm = 1/2.54  # centimeters in inches\n",
    "outdir = resdir\n",
    "import seaborn as sns\n",
    "import csv"
   ]
  },
  {
   "cell_type": "markdown",
   "id": "e48b91a6",
   "metadata": {},
   "source": [
    "# 1 - Data importation and pre-processing"
   ]
  },
  {
   "cell_type": "markdown",
   "id": "ce08823d",
   "metadata": {},
   "source": [
    "Genome objects initialization and sequencing loading as attribute"
   ]
  },
  {
   "cell_type": "code",
   "execution_count": 6,
   "id": "7f7f47f3",
   "metadata": {},
   "outputs": [
    {
     "name": "stdout",
     "output_type": "stream",
     "text": [
      "Detected a genome with 1 chromosome\n",
      "Chromosome NC_007779.1_w3110_Mu of length 4647454\n",
      "Sequence of organism ecoli_W3110_Mu loaded\n",
      "Trying to load annotation from: /home/s/topo_data/data/ecoli_W3110_Mu/annotation/sequence.gff3\n",
      "Annotation of ecoli_W3110_Mu loaded\n",
      "Number of genes: 4312\n"
     ]
    }
   ],
   "source": [
    "g = Genome.Genome(\"ecoli_W3110_Mu\")\n",
    "g.load_seq()\n",
    "g.load_annotation()"
   ]
  },
  {
   "cell_type": "markdown",
   "id": "feff3522",
   "metadata": {},
   "source": [
    "## A - Transcription Units positions and expressions"
   ]
  },
  {
   "cell_type": "markdown",
   "id": "a2a942e6",
   "metadata": {},
   "source": [
    "### TU loading"
   ]
  },
  {
   "cell_type": "markdown",
   "id": "8ebaf75c",
   "metadata": {},
   "source": [
    "Loading of transcription units (TU) data present in the TU folder. Here, we will use the annotation and expression data published by Sutormin et al. "
   ]
  },
  {
   "cell_type": "code",
   "execution_count": 7,
   "id": "b4e7d8e7",
   "metadata": {},
   "outputs": [
    {
     "name": "stdout",
     "output_type": "stream",
     "text": [
      "TUs loaded\n"
     ]
    }
   ],
   "source": [
    "g.load_TU()\n",
    "allTUs = list(g.TUs[\"TUSutormin\"].keys())"
   ]
  },
  {
   "cell_type": "markdown",
   "id": "a108f258",
   "metadata": {},
   "source": [
    "Selection of TUs containing at least one stable RNAs"
   ]
  },
  {
   "cell_type": "code",
   "execution_count": 8,
   "id": "c143c2f7",
   "metadata": {},
   "outputs": [],
   "source": [
    " #TUrtRNA: list of TUs with at least one stable RNA \n",
    "TUrtRNA = [126,  127,  133,  147,  243,  288,  329,  404,  405,  460,  461,\n",
    "           488,  578,  773,  903,  935,  936,  939,  942, 1004, 1050, 1066,\n",
    "           1071, 1164, 1165, 1205, 1266, 1267, 1285, 1347, 1391, 1431, 1432,\n",
    "           1433, 1434, 1435, 1436, 1437, 1439, 1440, 1441, 1497, 1498, 1642,\n",
    "           1699, 1700, 1757, 1758, 1783, 1784, 1808, 1809, 1863, 1864, 1865,\n",
    "           1866, 1868, 1881, 1882, 1950, 1971, 2028, 2059, 2112, 2126, 2128,\n",
    "           2137, 2139, 2140, 2142, 2145, 2152, 2157]\n",
    "TUother = list(set(allTUs) - set(TUrtRNA))\n",
    "\n",
    "# Classification of TU expression data based on the presence of stable RNA\n",
    "TU_expr = {\"rtRNA\":{},\"other\":{}}\n",
    "for ID, TU in g.TUs[\"TUSutormin\"].items():\n",
    "    if ID in TUrtRNA:\n",
    "        TU_expr[\"rtRNA\"][ID] = TU.expression\n",
    "    else : \n",
    "        TU_expr[\"other\"][ID] = TU.expression"
   ]
  },
  {
   "cell_type": "markdown",
   "id": "353410c6",
   "metadata": {},
   "source": [
    "### TU classification in expression classes"
   ]
  },
  {
   "cell_type": "markdown",
   "id": "d4d67767",
   "metadata": {},
   "source": [
    " TU classification according to their expression level with chosen class sizes\n",
    " * classif_TUs[0] is a dictionary containing the TU names for each class\n",
    " * classif_TUs[1] is a dictionary containing the expression values for each class\n",
    " * class_means is a dictionary containing the average expression of the TUs for each class"
   ]
  },
  {
   "cell_type": "code",
   "execution_count": 9,
   "id": "4be94619",
   "metadata": {},
   "outputs": [
    {
     "name": "stdout",
     "output_type": "stream",
     "text": [
      "ME: 1300 elements\n",
      "4: 200 elements\n",
      "3: 200 elements\n",
      "2: 200 elements\n",
      "1: 200 elements\n"
     ]
    }
   ],
   "source": [
    "classif_TUs = stat_analysis.data_classification(\n",
    "    data_x=TU_expr[\"other\"].keys(),\n",
    "    data_y=TU_expr[\"other\"].values(),\n",
    "    class_nb=5,\n",
    "    class_names=[\"ME\", 4, 3, 2, 1],\n",
    "    class_sizes=[len(TUother)-800, 200, 200, 200, 200]\n",
    ")\n",
    "\n",
    "classif_TUs[0][\"rtRNA\"]=list(TU_expr[\"rtRNA\"].keys())\n",
    "classif_TUs[1][\"rtRNA\"]=list(TU_expr[\"rtRNA\"].values())\n",
    "\n",
    "class_means = {}\n",
    "for exprclass in [1,2,3,4,\"ME\"]:\n",
    "    class_means[exprclass] = np.mean([np.log2(x) for x in classif_TUs[1][exprclass] if x != 0])"
   ]
  },
  {
   "cell_type": "code",
   "execution_count": 10,
   "id": "8db50aaf",
   "metadata": {},
   "outputs": [
    {
     "data": {
      "image/png": "[encoded data removed]",
      "text/plain": [
       "<Figure size 113.386x113.386 with 1 Axes>"
      ]
     },
     "metadata": {
      "needs_background": "light"
     },
     "output_type": "display_data"
    }
   ],
   "source": [
    "cat_colors = [\"blue\", \"dodgerblue\", \"limegreen\", \"orange\", \"red\"]\n",
    "fig, ax = plt.subplots(figsize=(4*cm, 4*cm))\n",
    "ax.bar([str(c) for c in class_means.keys()], class_means.values(),\n",
    "       color='white', edgecolor=cat_colors, width=0.6, linewidth=1)\n",
    "ax.set_ylim(-0.5, 7.2)\n",
    "ax.set_ylabel(\"log$_2$(FPKM)\")\n",
    "ax.axhline(0, color=\"black\", lw=1)\n",
    "ax.set_yticks(np.arange(0, 8, 2))\n",
    "plt.tight_layout()"
   ]
  },
  {
   "cell_type": "markdown",
   "id": "f2353e8d",
   "metadata": {},
   "source": [
    "TU classification in expression deciles\n",
    " * classif_TUs[0] is a dictionary containing the TU names for each class\n",
    " * classif_TUs[1] is a dictionary containing the expression values for each class"
   ]
  },
  {
   "cell_type": "code",
   "execution_count": 11,
   "id": "5f8ad942",
   "metadata": {},
   "outputs": [
    {
     "name": "stdout",
     "output_type": "stream",
     "text": [
      "Performing the classification in the following classes:\n",
      "0: from 0.0 to 0.2219460405665605\n",
      "1: from 0.2228635134981604 to 0.5004320721857773\n",
      "2: from 0.5006399528507197 to 0.983472590568697\n",
      "3: from 0.9931627185897828 to 1.799746695169979\n",
      "4: from 1.8003913626035322 to 3.0709541322556704\n",
      "5: from 3.0768155202341028 to 4.984718475437905\n",
      "6: from 4.993359039494553 to 8.103959961281214\n",
      "7: from 8.105314740027312 to 15.844014036290488\n",
      "8: from 15.868638890337257 to 37.766937523681115\n",
      "9: from 37.952086050606454 to 1522.949849756477\n",
      "0: 210 elements\n",
      "1: 210 elements\n",
      "2: 210 elements\n",
      "3: 210 elements\n",
      "4: 210 elements\n",
      "5: 210 elements\n",
      "6: 210 elements\n",
      "7: 210 elements\n",
      "8: 210 elements\n",
      "9: 210 elements\n"
     ]
    }
   ],
   "source": [
    "classif_deciles = stat_analysis.data_classification(\n",
    "    data_x=TU_expr[\"other\"].keys(),\n",
    "    data_y=TU_expr[\"other\"].values(),\n",
    "    class_nb=10\n",
    ")\n",
    "\n",
    "classif_deciles[0][\"rtRNA\"]=list(TU_expr[\"rtRNA\"].keys())\n",
    "classif_deciles[1][\"rtRNA\"]=list(TU_expr[\"rtRNA\"].values())"
   ]
  },
  {
   "cell_type": "markdown",
   "id": "28cfffc2",
   "metadata": {},
   "source": [
    "### Conversion of expression data to an expression signal"
   ]
  },
  {
   "cell_type": "code",
   "execution_count": 12,
   "id": "46b1415c",
   "metadata": {},
   "outputs": [],
   "source": [
    "# Create a dictionary to store expressions for each position\n",
    "expr_pos = {p: [] for p in range(g.length)}\n",
    "\n",
    "# Fill the dictionary with expressions\n",
    "for ID, Tn in g.TUs[\"TUSutormin\"].items():\n",
    "    for p in np.arange(Tn.start, Tn.end):\n",
    "        expr_pos[p].append(Tn.expression)"
   ]
  },
  {
   "cell_type": "code",
   "execution_count": 13,
   "id": "b937259a",
   "metadata": {},
   "outputs": [],
   "source": [
    "all_signals = {}\n",
    "# Calculate the average expression for each position\n",
    "expr_signal = [np.mean(expr_pos[p]) if len(expr_pos[p]) > 0 else 0 for p in range(g.length)]\n",
    "all_signals['Expr'] = {\"raw\" : expr_signal[:g.length-1]}\n",
    "\n",
    "# Calculate the min average expression level \n",
    "min_expr = min([e for e in expr_signal if e != 0])\n",
    "\n",
    "# Calculate the log2 average expression for each position\n",
    "log2expr_signal = [np.log2(e) if e != 0 else np.log2(min_expr) for e in expr_signal]\n",
    "all_signals['log2Expr'] = {\"raw\" : log2expr_signal[:g.length-1]}"
   ]
  },
  {
   "cell_type": "markdown",
   "id": "e13bf05a",
   "metadata": {},
   "source": [
    "## B - Gyrase and topoI signals\n",
    "\n",
    "Chipseq-type signals will be loaded as attributes of the Chipseq object.\n",
    "This object must first be initialized."
   ]
  },
  {
   "cell_type": "code",
   "execution_count": 13,
   "id": "59a08857",
   "metadata": {},
   "outputs": [],
   "source": [
    "ch = Chipseq.Chipseq(g)"
   ]
  },
  {
   "cell_type": "markdown",
   "id": "0c67694c",
   "metadata": {},
   "source": [
    "### Loading and averaging of TopoI and Gyrase signal replicates"
   ]
  },
  {
   "cell_type": "code",
   "execution_count": 14,
   "id": "a302d0d0",
   "metadata": {},
   "outputs": [
    {
     "name": "stdout",
     "output_type": "stream",
     "text": [
      "Topo\n",
      "loading the file obtained with the following parameters:\n",
      "\n",
      "Name: Topo_smooth500b\n",
      "\n",
      " Replicates: ['Sutormin_TopoI_R1', 'Sutormin_TopoI_R2', 'Sutormin_TopoI_R3']\n",
      "\n",
      " Data treatment: smoothing\n",
      "\n",
      " Size (window or bin, in b): 500\n",
      "\n",
      "Please change 'average_name' to use other signals\n",
      "Gyr\n",
      "loading the file obtained with the following parameters:\n",
      "\n",
      "Name: Gyr_smooth500b\n",
      "\n",
      " Replicates: ['Sutormin_Gyrase_R1', 'Sutormin_Gyrase_R2']\n",
      "\n",
      " Data treatment: smoothing\n",
      "\n",
      " Size (window or bin, in b): 500\n",
      "\n",
      "Please change 'average_name' to use other signals\n",
      "Topo_Rif\n",
      "loading the file obtained with the following parameters:\n",
      "\n",
      "Name: Topo_Rif_smooth500b\n",
      "\n",
      " Replicates: ['Sutormin_TopoI_Rif_R1', 'Sutormin_TopoI_Rif_R2', 'Sutormin_TopoI_Rif_R3']\n",
      "\n",
      " Data treatment: smoothing\n",
      "\n",
      " Size (window or bin, in b): 500\n",
      "\n",
      "Please change 'average_name' to use other signals\n",
      "Gyr_Rif\n",
      "loading the file obtained with the following parameters:\n",
      "\n",
      "Name: Gyr_Rif_smooth500b\n",
      "\n",
      " Replicates: ['Sutormin_CFX_Rif_Gyrase_R1', 'Sutormin_CFX_Rif_Gyrase_R2', 'Sutormin_CFX_Rif_Gyrase_R3']\n",
      "\n",
      " Data treatment: smoothing\n",
      "\n",
      " Size (window or bin, in b): 500\n",
      "\n",
      "Please change 'average_name' to use other signals\n"
     ]
    }
   ],
   "source": [
    "raw_smoothing = 500  # smoothing window size for the raw signal\n",
    "cond = {\"Topo\" : [\"Sutormin_TopoI_R1\",\"Sutormin_TopoI_R2\",\"Sutormin_TopoI_R3\"],\n",
    "        \"Gyr\" : ['Sutormin_Gyrase_R1', 'Sutormin_Gyrase_R2'], \n",
    "        \"Topo_Rif\" : [\"Sutormin_TopoI_Rif_R1\", \"Sutormin_TopoI_Rif_R2\", \"Sutormin_TopoI_Rif_R3\"],\n",
    "        \"Gyr_Rif\" : [\"Sutormin_CFX_Rif_Gyrase_R1\", \"Sutormin_CFX_Rif_Gyrase_R2\", \"Sutormin_CFX_Rif_Gyrase_R3\"]\n",
    "       } # replicates cond name\n",
    "\n",
    "for styp in [\"Topo\",\"Gyr\",\"Topo_Rif\",\"Gyr_Rif\"] : \n",
    "    all_signals[styp] = {}\n",
    "    print(styp)\n",
    "    # raw signal loading : performs the average between cond replicates and load this average as a Chipseq attribute\n",
    "    ch.load_signals_average(list_cond=cond[styp],\n",
    "                            average_name=f\"{styp}_smooth{raw_smoothing}b\",\n",
    "                            data_treatment = \"smoothing\",\n",
    "                            window=raw_smoothing)\n",
    "    all_signals[styp][\"raw\"] = ch.signals_average[f\"{styp}_smooth{raw_smoothing}b\"][:g.length-1]"
   ]
  },
  {
   "cell_type": "markdown",
   "id": "c45e3110",
   "metadata": {},
   "source": [
    "### Loading of gyrase clivage sites and conversion as a signal"
   ]
  },
  {
   "cell_type": "code",
   "execution_count": 15,
   "id": "01384e55",
   "metadata": {},
   "outputs": [
    {
     "data": {
      "text/plain": [
       "'/home/s/topo_data/'"
      ]
     },
     "execution_count": 15,
     "metadata": {},
     "output_type": "execute_result"
    }
   ],
   "source": [
    "basedir"
   ]
  },
  {
   "cell_type": "code",
   "execution_count": 16,
   "id": "ef8ded73",
   "metadata": {},
   "outputs": [],
   "source": [
    "GCS= []\n",
    "with open(basedir+'data/ecoli_W3110_Mu/chipseq/sites/GCs_Cfx.csv', 'r') as f:\n",
    "    file = csv.reader(f)\n",
    "    next(file)\n",
    "    for line in file:\n",
    "        gcs = int(line[0])\n",
    "        GCS.append(gcs)\n",
    "signalGCS = np.zeros(g.length-1) # Initialize each genomic posiiton with the value 0\n",
    "signalGCS[GCS] = 1  # Assign 1 to each gyrase clivage site genomic position\n",
    "all_signals[\"GCS\"]={\"raw\":signalGCS}"
   ]
  },
  {
   "cell_type": "markdown",
   "id": "e87d1f66",
   "metadata": {},
   "source": [
    "# 2 - Study at 2 scales : micro and macro "
   ]
  },
  {
   "cell_type": "markdown",
   "id": "49082672",
   "metadata": {},
   "source": [
    "## A - Macro signal settings choice\n",
    "The macro signal is obtained in 2 steps:\n",
    "* The raw signal is first averaged per bin of chosen size (set with the macro_bs parameter).\n",
    "* The signal per bin is then smoothed by averaging over sliding windows of chosen sizes (set with the macro_add_smooth parameter).\n",
    "The first step (binning) primarily serves to minimize the computation time required for smoothing (second step)."
   ]
  },
  {
   "cell_type": "code",
   "execution_count": 17,
   "id": "b25068d0",
   "metadata": {},
   "outputs": [],
   "source": [
    "macro_bs = 100 # in b\n",
    "macro_add_smooth = int(200000/macro_bs) # in b\n",
    "study_ws = 50000 # the highest window size around the TU that will be use in this study (in b)"
   ]
  },
  {
   "cell_type": "markdown",
   "id": "ad6afd99",
   "metadata": {},
   "source": [
    "## B - Macro and micros signals computing\n",
    "\n",
    "The micro signal is obtained by subtracting the macro signal from the raw signal."
   ]
  },
  {
   "cell_type": "code",
   "execution_count": 18,
   "id": "231750c8",
   "metadata": {
    "scrolled": true
   },
   "outputs": [
    {
     "name": "stdout",
     "output_type": "stream",
     "text": [
      "loading the file obtained with the following parameters:\n",
      "\n",
      "Name: Topo_bin100b\n",
      "\n",
      " Replicates: ['Sutormin_TopoI_R1', 'Sutormin_TopoI_R2', 'Sutormin_TopoI_R3']\n",
      "\n",
      " Data treatment: binning\n",
      "\n",
      " Size (window or bin, in b): 100\n",
      "\n",
      "Please change 'average_name' to use other signals\n",
      "loading the file obtained with the following parameters:\n",
      "\n",
      "Name: Gyr_bin100b\n",
      "\n",
      " Replicates: ['Sutormin_Gyrase_R1', 'Sutormin_Gyrase_R2']\n",
      "\n",
      " Data treatment: binning\n",
      "\n",
      " Size (window or bin, in b): 100\n",
      "\n",
      "Please change 'average_name' to use other signals\n",
      "loading the file obtained with the following parameters:\n",
      "\n",
      "Name: Topo_Rif_bin100b\n",
      "\n",
      " Replicates: ['Sutormin_TopoI_Rif_R1', 'Sutormin_TopoI_Rif_R2', 'Sutormin_TopoI_Rif_R3']\n",
      "\n",
      " Data treatment: binning\n",
      "\n",
      " Size (window or bin, in b): 100\n",
      "\n",
      "Please change 'average_name' to use other signals\n",
      "loading the file obtained with the following parameters:\n",
      "\n",
      "Name: Gyr_Rif_bin100b\n",
      "\n",
      " Replicates: ['Sutormin_CFX_Rif_Gyrase_R1', 'Sutormin_CFX_Rif_Gyrase_R2', 'Sutormin_CFX_Rif_Gyrase_R3']\n",
      "\n",
      " Data treatment: binning\n",
      "\n",
      " Size (window or bin, in b): 100\n",
      "\n",
      "Please change 'average_name' to use other signals\n"
     ]
    }
   ],
   "source": [
    "for styp in [\"Topo\",\"Gyr\",\"Expr\",\"log2Expr\",\"GCS\",\"Topo_Rif\",\"Gyr_Rif\"] :\n",
    "    #macro signal\n",
    "    if styp in [\"Topo\",\"Gyr\",\"Topo_Rif\",\"Gyr_Rif\"] : \n",
    "        ch.load_signals_average(list_cond=cond[styp],\n",
    "                                average_name=f\"{styp}_bin{macro_bs}b\",\n",
    "                                data_treatment = \"binning\",\n",
    "                                binsize=macro_bs)\n",
    "        binned_signal = ch.signals_average[f\"{styp}_bin{macro_bs}b\"]\n",
    "        signal_per_bin = binned_signal[np.arange(0,len(binned_signal)+1,macro_bs)]\n",
    "          \n",
    "    else : \n",
    "        signal_per_bin = useful_functions_Chipseq.binning(all_signals[styp][\"raw\"],macro_bs)[0]\n",
    "    \n",
    "    macro_smoo_sign_per_bin = useful_functions_Chipseq.smoothing(signal_per_bin,macro_add_smooth)\n",
    "    all_signals[styp][\"macro\"] = np.array(np.repeat(macro_smoo_sign_per_bin, macro_bs))[:g.length-1]\n",
    "    \n",
    "    #micro signal\n",
    "    all_signals[styp][\"micro\"] = all_signals[styp][\"raw\"] - all_signals[styp][\"macro\"]"
   ]
  },
  {
   "cell_type": "markdown",
   "id": "7d2e9b67",
   "metadata": {},
   "source": [
    "# C - Mean signal around the TU \n",
    "Compute the mean signal around the TU for each expression class, each signal type (TopoI, Gyr and Expr) and each scale (raw, micro and macro)"
   ]
  },
  {
   "cell_type": "markdown",
   "id": "23874bfa",
   "metadata": {},
   "source": [
    "Careful: this operation is not numerically optimized and uses a lot of memory. May crash on a computer with insufficient memory.  "
   ]
  },
  {
   "cell_type": "code",
   "execution_count": 19,
   "id": "4cecabf4",
   "metadata": {},
   "outputs": [
    {
     "name": "stdout",
     "output_type": "stream",
     "text": [
      "Working at micro scale...\n",
      "... with Gyr signal\n",
      "... with Topo signal\n",
      "... with Expr signal\n",
      "... with log2Expr signal\n",
      "... with Gyr_Rif signal\n",
      "... with Topo_Rif signal\n",
      "Working at macro scale...\n",
      "... with Gyr signal\n",
      "... with Topo signal\n",
      "... with Expr signal\n",
      "... with log2Expr signal\n",
      "... with Gyr_Rif signal\n",
      "... with Topo_Rif signal\n",
      "Working at raw scale...\n",
      "... with Gyr signal\n",
      "... with Topo signal\n",
      "... with Expr signal\n",
      "... with log2Expr signal\n",
      "... with Gyr_Rif signal\n",
      "... with Topo_Rif signal\n"
     ]
    }
   ],
   "source": [
    "means_TU = {}\n",
    "#total_TU = {}\n",
    "\n",
    "for scale in [\"micro\",\"macro\",\"raw\"] :\n",
    "    print(f\"Working at {scale} scale...\")\n",
    "    means_TU[scale] = {}\n",
    "    \n",
    "    for styp in [\"Gyr\",\"Topo\",\"Expr\",\"log2Expr\",\"Gyr_Rif\",\"Topo_Rif\"] : \n",
    "        print(f\"... with {styp} signal\")\n",
    "        sign = all_signals[styp][scale]\n",
    "        means_TU[scale][styp] = {}\n",
    "        #if scale==\"raw\":\n",
    "        #    total_TU[styp] = {}\n",
    "\n",
    "        # Loop over each TU of each expression class\n",
    "        for exprclass in classif_TUs[0].keys() :\n",
    "            \n",
    "            #if scale==\"raw\":\n",
    "            #    total_TU[styp][exprclass] = {}\n",
    "            \n",
    "            interpolsignal = {}\n",
    "            for ID in classif_TUs[0][exprclass] : \n",
    "\n",
    "                TU = g.TUs[\"TUSutormin\"][ID]\n",
    "                # Define the start and end of the window around the TU\n",
    "                w_start = TU.start - study_ws\n",
    "                w_end = TU.end + study_ws\n",
    "\n",
    "                # Initialize a dictionary to store signals for each signal type (\"Gyr\" and \"Topo\")\n",
    "                g_signals = {}\n",
    "\n",
    "                # If the window extends beyond the start or end of the genome, wrap around to the other side\n",
    "                if w_start < 0:\n",
    "                    TUsignal = np.concatenate((sign[g.length + w_start - 1:],sign[:w_end]))\n",
    "                elif w_end > g.length:\n",
    "                    TUsignal = np.concatenate((sign[w_start:],sign[:w_end - g.length + 1]))\n",
    "                else:\n",
    "                    TUsignal = sign[w_start:w_end]\n",
    "\n",
    "                # If the TU is on the negative strand, flip the signals\n",
    "                if not TU.strand: \n",
    "                    TUsignal = np.flip(TUsignal)\n",
    "\n",
    "                # Interpolate the signal within the window to 2000 points \n",
    "                inTU_sign = TUsignal[study_ws:-study_ws]\n",
    "                f = interpolate.interp1d(np.arange(len(inTU_sign)), inTU_sign)           \n",
    "                inTU_sign = f(np.linspace(0,len(inTU_sign)-1,num = 2000))   \n",
    "                interpolsignal[ID] = np.concatenate((TUsignal[:study_ws], inTU_sign,TUsignal[-study_ws:]))\n",
    "                \n",
    "                #if scale==\"raw\":\n",
    "                #    total_TU[styp][exprclass][ID] = np.concatenate((TUsignal[:study_ws], inTU_sign,TUsignal[-study_ws:]))\n",
    "            \n",
    "            df_sign = pd.DataFrame(interpolsignal)\n",
    "            \n",
    "            mean_sign = df_sign.mean(axis = 1)\n",
    "            \n",
    "            means_TU[scale][styp][exprclass] = {\"all\": mean_sign,\n",
    "                                                \"before\": mean_sign[:study_ws],\n",
    "                                                \"after\": mean_sign[-study_ws:]}\n",
    "            "
   ]
  },
  {
   "cell_type": "markdown",
   "id": "4d271cb9",
   "metadata": {},
   "source": [
    "# 3 - Stat analysis and graphical representations"
   ]
  },
  {
   "cell_type": "markdown",
   "id": "e277e91e",
   "metadata": {},
   "source": [
    "## A - Graphic parameters"
   ]
  },
  {
   "cell_type": "code",
   "execution_count": 20,
   "id": "5f3a6b34",
   "metadata": {},
   "outputs": [],
   "source": [
    "plt.rcParams.update({'font.size': 8,\n",
    "                     'font.family': \"Arial\",\n",
    "                     'xtick.labelsize': 8,\n",
    "                     'ytick.labelsize': 8,\n",
    "                     'axes.labelsize': 9,\n",
    "                     'axes.titlesize': 10})\n",
    "fig_ext = \".svg\""
   ]
  },
  {
   "cell_type": "markdown",
   "id": "84ae913f",
   "metadata": {},
   "source": [
    "Define a list of colors and labels for the expression categories"
   ]
  },
  {
   "cell_type": "code",
   "execution_count": 21,
   "id": "7280fe32",
   "metadata": {},
   "outputs": [],
   "source": [
    "classif_cats = ['rtRNA', 1, 2,3,4,'ME']\n",
    "colors = [\"black\",\"blue\", \"dodgerblue\", \"limegreen\", \"orange\",\"red\"]\n",
    "lme = len(classif_TUs[0][\"ME\"]) # get the number of TUs classified as \"ME\"\n",
    "labels = [\"rtRNA TUs\",\"0 - 200 HETUs\",\"200 - 400 HETUs\",\n",
    "          \"400 - 600 HETUs\",\"600 - 800 HETUs\",f\"Other TUs ({lme} TUs)\"]\n",
    "labels_short = [\"rtRNA\\nTUs\",\"0 - 200\\nHETUs\",\"200 - 400\\nHETUs\",\n",
    "                \"400 - 600\\nHETUs\",\"600 - 800\\nHETUs\",f\"Other TUs\"]"
   ]
  },
  {
   "cell_type": "markdown",
   "id": "e59aa271",
   "metadata": {},
   "source": [
    "Define a list of colors and labels for the signal types"
   ]
  },
  {
   "cell_type": "code",
   "execution_count": 22,
   "id": "5f32254e",
   "metadata": {},
   "outputs": [],
   "source": [
    "styp_colors = {\"Gyr\" : \"black\", \"GCS\" : \"black\",\"Topo\" : \"darkgoldenrod\",\"Expr\" : \"gray\",\"log2Expr\" : \"gray\" , \"Gyr_Rif\": \"black\", \"Topo_Rif\": \"darkgoldenrod\"}\n",
    "styp_label = {\"Gyr\":\"Gyrase\",\"Topo\":\"Topoisomerase I\",\"Expr\":\"FPKM\",\"log2Expr\":\"log2(FPKM)\", \"Gyr_Rif\": \"Gyrase\", \"Topo_Rif\": \"Topoisomerase I\"}"
   ]
  },
  {
   "cell_type": "markdown",
   "id": "68c078bb",
   "metadata": {},
   "source": [
    "## B - Plot around the TU "
   ]
  },
  {
   "cell_type": "code",
   "execution_count": 27,
   "id": "68f2ad40",
   "metadata": {},
   "outputs": [
    {
     "data": {
      "image/png": "[encoded data removed]",
      "text/plain": [
       "<Figure size 221.102x212.598 with 2 Axes>"
      ]
     },
     "metadata": {
      "needs_background": "light"
     },
     "output_type": "display_data"
    }
   ],
   "source": [
    "# Choose if we plot with or without rifampicin! comment the appropriate line\n",
    "styps = [\"Topo\", \"Gyr\"]\n",
    "#styps = [\"Topo_Rif\", \"Gyr_Rif\"]\n",
    "# -------------------------------------\n",
    "\n",
    "scale = \"raw\"\n",
    "\n",
    "plot_ws =  10000 #window size for the plot, has to be less or equal to study_ws !\n",
    "\n",
    "# Create a figure with 2 subplots (1 per signal type)\n",
    "fig, ax = plt.subplots(2,1, figsize=(7.8*cm,7.5*cm))\n",
    "fig.subplots_adjust(hspace=0.1, left=0.22, right=0.95, bottom=0.33, top=0.99)\n",
    "\n",
    "# Create an array with indices for the x-axis\n",
    "x = range(plot_ws*2+2000)\n",
    "tick_interval = int(min([2500,5000,10000,20000], key=lambda x: abs(x - plot_ws/5)))\n",
    "ticks_before = np.arange(0,int(plot_ws),tick_interval)\n",
    "ticks_after = np.arange(plot_ws+2000+tick_interval,2*plot_ws+2000+tick_interval,tick_interval)\n",
    "\n",
    "for p, styp in enumerate(styps):\n",
    "    # Loop over the expression categories and plot their mean TU signals\n",
    "    for ec, exprclass in enumerate(classif_cats):\n",
    "        if -study_ws+plot_ws == 0 :\n",
    "            ax[p].plot(x, means_TU[scale][styp][exprclass][\"all\"][study_ws-plot_ws:], label=labels[ec], c=colors[ec], lw=0.7)\n",
    "        else : \n",
    "            ax[p].plot(x, means_TU[scale][styp][exprclass][\"all\"][study_ws-plot_ws:-study_ws+plot_ws], label=labels[ec], c=colors[ec], lw=0.7)\n",
    "                \n",
    "    # Add a horizontal line at y=0, a vertical line at the start of the TU,\n",
    "    # and another one at the end of the TU\n",
    "    ax[p].axhline(0, color='black', lw=1)\n",
    "    ax[p].set_xlim(0, plot_ws*2+2000)\n",
    "    ax[p].axvline(plot_ws, color='grey', ls='--', lw=0.5)\n",
    "    ax[p].axvline(plot_ws+2000, color='grey', ls='--', lw=0.5)\n",
    "\n",
    "# Set the axis and ticks labels\n",
    "    ax[p].set_ylabel(styp_label[styp], fontsize=9)\n",
    "    ax[p].set_xticks(np.concatenate((ticks_before,[plot_ws,plot_ws+2000],ticks_after)))\n",
    "\n",
    "ax[1].set_xlabel(\"distance (kb)\", fontsize=7)\n",
    "ax[0].set_yticks(np.arange(0, 2, 0.5))\n",
    "ax[1].set_yticks(np.arange(-0.5, 0.75, 0.25))\n",
    "ax[0].set_xticklabels([])\n",
    "ax[1].set_xticklabels(np.concatenate(((ticks_before-plot_ws)/1000,\n",
    "                ['$TU_s$','$TU_e$'],\n",
    "                (ticks_after-plot_ws-2000)/1000)))\n",
    "fig.text(0.00, 0.65, 'log$_2$ coverage ratio (IP/Mock)', va='center', rotation='vertical',fontsize = 10)\n",
    "            \n",
    "# Set the legend\n",
    "handles, labels = ax[0].get_legend_handles_labels()\n",
    "fig.legend(handles, labels,handlelength=1.5,loc='lower center',ncol=2)\n",
    "\n",
    "plt.savefig(f\"{outdir}{scale}_signaux_{styps[0]}_{styps[1]}_{int(plot_ws/1000)}kb{fig_ext}\",\n",
    "            transparent=False,facecolor='white')"
   ]
  },
  {
   "cell_type": "markdown",
   "id": "77bc126d",
   "metadata": {},
   "source": [
    "## C - Average signals per expression deciles in, before and after the TU"
   ]
  },
  {
   "cell_type": "markdown",
   "id": "c745f549",
   "metadata": {},
   "source": [
    "#### Compute TopoI and Gyrase mean signals per expression deciles"
   ]
  },
  {
   "cell_type": "code",
   "execution_count": 28,
   "id": "3d6d2c33",
   "metadata": {},
   "outputs": [],
   "source": [
    "# Define the window size before and after the TU\n",
    "ws = 10000\n",
    "scale = \"raw\"\n",
    "signal_per_exprclass = {}\n",
    "\n",
    "for s in [\"Gyr\",\"Topo\",\"log2Expr\",\"Gyr_Rif\",\"Topo_Rif\"] : \n",
    "    \n",
    "    # Initialize dictionary to store results by signal type (\"Gyr\" and \"Topo\")\n",
    "    # and region relative to the TU (\"before\",\"in\",\"after\")\n",
    "    signal_per_exprclass[s] = {}\n",
    "    for pos in [\"before\",\"in\",\"after\"]:\n",
    "        signal_per_exprclass[s][pos] = {}\n",
    "        for i in classif_deciles[0].keys() : \n",
    "            signal_per_exprclass[s][pos][i] = []\n",
    "            \n",
    "    # Loop over each TU of each expression decile to compute the average signal for each \n",
    "    # signal type and each region\n",
    "    for i in classif_deciles[0].keys() : \n",
    "        for ID in classif_deciles[0][i] :\n",
    "            TU = g.TUs[\"TUSutormin\"][ID]\n",
    "\n",
    "            signal_per_exprclass[s][\"in\"][i].append(np.mean(all_signals[s][scale][TU.start:TU.end]))\n",
    "            if TU.strand :\n",
    "                signal_per_exprclass[s][\"after\"][i].append(np.mean(all_signals[s][scale][TU.end:TU.end+ws]))\n",
    "                if ws <= TU.start : \n",
    "                    signal_per_exprclass[s][\"before\"][i].append(np.mean(all_signals[s][scale][TU.start-ws:TU.start]))\n",
    "                # If the window extends beyond the start of the genome, wrap around to the other side\n",
    "                elif ws > TU.start : \n",
    "                    diff = ws - TU.start\n",
    "                    sign = np.concatenate([all_signals[s][scale][:TU.start],all_signals[s][scale][-diff:]])\n",
    "                    signal_per_exprclass[s][\"before\"][i].append(np.mean(sign))\n",
    "\n",
    "            else :\n",
    "                signal_per_exprclass[s][\"before\"][i].append(np.mean(all_signals[s][scale][TU.end:TU.end+ws]))\n",
    "                if ws <= TU.start : \n",
    "                    signal_per_exprclass[s][\"after\"][i].append(np.mean(all_signals[s][scale][TU.start-ws:TU.start]))\n",
    "                # If the window extends beyond the start of the genome, wrap around to the other side\n",
    "                elif ws > TU.start : \n",
    "                    diff = ws - TU.start\n",
    "                    sign = np.concatenate([all_signals[s][scale][:TU.start],all_signals[s][scale][-diff:]])\n",
    "                    signal_per_exprclass[s][\"after\"][i].append(np.mean(sign))"
   ]
  },
  {
   "cell_type": "markdown",
   "id": "bcb817e4",
   "metadata": {},
   "source": [
    "Expression values per expression deciles"
   ]
  },
  {
   "cell_type": "code",
   "execution_count": 29,
   "id": "df3face9",
   "metadata": {},
   "outputs": [],
   "source": [
    "signal_per_exprclass[\"expr\"] = {}\n",
    "signal_per_exprclass[\"expr\"][\"in\"] = classif_deciles[1]"
   ]
  },
  {
   "cell_type": "markdown",
   "id": "61d3b0f7",
   "metadata": {},
   "source": [
    "#### Student test to get all means and confidence intervals"
   ]
  },
  {
   "cell_type": "code",
   "execution_count": 30,
   "id": "b9f445f7",
   "metadata": {},
   "outputs": [
    {
     "name": "stdout",
     "output_type": "stream",
     "text": [
      "Results saved in /home/s/topo_data/resdir/Gyr_raw_before_TU_exprdeciles\n",
      "Results saved in /home/s/topo_data/resdir/Gyr_raw_in_TU_exprdeciles\n",
      "Results saved in /home/s/topo_data/resdir/Gyr_raw_after_TU_exprdeciles\n",
      "Results saved in /home/s/topo_data/resdir/Topo_raw_before_TU_exprdeciles\n",
      "Results saved in /home/s/topo_data/resdir/Topo_raw_in_TU_exprdeciles\n",
      "Results saved in /home/s/topo_data/resdir/Topo_raw_after_TU_exprdeciles\n",
      "Results saved in /home/s/topo_data/resdir/log2Expr_raw_before_TU_exprdeciles\n",
      "Results saved in /home/s/topo_data/resdir/log2Expr_raw_in_TU_exprdeciles\n",
      "Results saved in /home/s/topo_data/resdir/log2Expr_raw_after_TU_exprdeciles\n",
      "Results saved in /home/s/topo_data/resdir/Gyr_Rif_raw_before_TU_exprdeciles\n",
      "Results saved in /home/s/topo_data/resdir/Gyr_Rif_raw_in_TU_exprdeciles\n",
      "Results saved in /home/s/topo_data/resdir/Gyr_Rif_raw_after_TU_exprdeciles\n",
      "Results saved in /home/s/topo_data/resdir/Topo_Rif_raw_before_TU_exprdeciles\n",
      "Results saved in /home/s/topo_data/resdir/Topo_Rif_raw_in_TU_exprdeciles\n",
      "Results saved in /home/s/topo_data/resdir/Topo_Rif_raw_after_TU_exprdeciles\n"
     ]
    }
   ],
   "source": [
    "res = {}\n",
    "for s in [\"Gyr\",\"Topo\",\"log2Expr\",\"Gyr_Rif\",\"Topo_Rif\"] : \n",
    "    res[s] = {}\n",
    "    for pos in signal_per_exprclass[s].keys():\n",
    "        res[s][pos]=stat_analysis.quantitative_data_student_test(\n",
    "            signal_per_exprclass[s][pos],\n",
    "            output_dir=outdir,\n",
    "            output_file=f\"{s}_{scale}_{pos}_TU_exprdeciles\")           "
   ]
  },
  {
   "cell_type": "markdown",
   "id": "9918dea0",
   "metadata": {},
   "source": [
    "#### Graphical representation \n",
    "with one subplot for each location (before the TU, within the TU, and after the TU). The y-axis is discontinuous to highlight extreme values. The gyrase and topoI signals share the same axis, while the expression signal has its own axis.\n",
    "\n",
    "\n",
    "\n",
    "\n"
   ]
  },
  {
   "cell_type": "code",
   "execution_count": 31,
   "id": "fec622cf",
   "metadata": {
    "scrolled": true
   },
   "outputs": [
    {
     "name": "stdout",
     "output_type": "stream",
     "text": [
      "[-3.3723105519934227, -2.908364615441885, -2.5582981180212485, -2.1751056676816045, -2.035416258480092, -2.0595591826014563, -2.34871452204409, -1.3661594679151432, -1.5924700030347143, -1.0526104880757, -1.0679594682411273]\n"
     ]
    },
    {
     "data": {
      "image/png": "[encoded data removed]",
      "text/plain": [
       "<Figure size 496.063x180 with 8 Axes>"
      ]
     },
     "metadata": {
      "needs_background": "light"
     },
     "output_type": "display_data"
    }
   ],
   "source": [
    "# Define categories and labels\n",
    "expr_cats = res['Gyr']['before']['categories']\n",
    "categories = ['before', 'in', 'after']\n",
    "labels_cats = list(np.arange(1, 11)) + ['rt\\nRNA']\n",
    "legend_cats = [f'{int(ws/1000)} kb before TU', 'inside TU', f'{int(ws/1000)} kb after TU']\n",
    "p = np.arange(len(expr_cats))\n",
    "\n",
    "# Create subplots with 2 rows and 3 columns\n",
    "fig, ax = plt.subplots(2, 3, figsize=(17.5/2.54, 2.5), sharex=True, gridspec_kw={'height_ratios': [1, 3]})\n",
    "fig.subplots_adjust(hspace=0.06, wspace=0.5, left=0.07, right=0.98, bottom=0.20)\n",
    "\n",
    "# Loop through subplots\n",
    "for a in [0, 1]:\n",
    "    for i, c in enumerate(categories):\n",
    "        for styp, s in enumerate([\"Topo\", \"Gyr\"]):\n",
    "            # Get means and confidence intervals\n",
    "            means = res[s][c]['means']\n",
    "            ci = np.zeros((2, len(expr_cats)))\n",
    "            for ca in np.arange(len(expr_cats)):\n",
    "                ci[0, ca] = means[ca] - res[s][c][\"confidence intervals\"][ca][0]\n",
    "                ci[1, ca] = res[s][c][\"confidence intervals\"][ca][1] - means[ca]\n",
    "\n",
    "            # Plot means with error bars\n",
    "            ax[a, i].plot(p, means, '-o', label=styp_label[s], lw=1, markersize=3, color=styp_colors[s])\n",
    "            ax[a, i].errorbar(p, means, yerr=ci, capsize=1.5, elinewidth=0.5, capthick=0.5, fmt=\"none\", color=colors[styp])\n",
    "\n",
    "        ax[0, i].set_title(legend_cats[i])\n",
    "        ax[0, i].set_xticks(p)\n",
    "        ax[0, i].set_ylim(1.3, 1.7)\n",
    "        ax[1, i].set_ylim(-0.3, 0.9)\n",
    "\n",
    "        # Hide spines between ax and ax2\n",
    "        ax[0, i].spines.bottom.set_visible(False)\n",
    "        ax[1, i].spines.top.set_visible(False)\n",
    "        ax[a, i].tick_params(labeltop=False)  \n",
    "        ax[a, i].xaxis.tick_bottom()\n",
    "        ax[0, i].tick_params(axis='x', colors='white')      \n",
    "       \n",
    "        d = .5 \n",
    "        kwargs = dict(marker=[(-1, -d), (1, d)], markersize=12,\n",
    "              linestyle=\"none\", color='k', mec='k', mew=1, clip_on=False)\n",
    "        ax[0, i].plot([0, 1], [0, 0], transform=ax[0, i].transAxes, **kwargs)\n",
    "        ax[1, i].plot([0, 1], [1, 1], transform=ax[1, i].transAxes, **kwargs)\n",
    "\n",
    "        # Set labels and ticks\n",
    "        ax[1, i].set_xlabel('Expression decile', labelpad=-5)\n",
    "        ax[0, i].set_xticklabels(labels_cats)\n",
    "        ax[1, i].set_yticks(np.arange(-0.25, 1, 0.25))\n",
    "        ax[0, i].set_yticks(np.arange(1.4, 1.7, 0.25))\n",
    "        ax[1, i].set_ylabel(\"log$_2$ coverage ratio (IP/Mock)\", labelpad=-3)\n",
    "        \n",
    "        \n",
    "        ax[1, i].axhline(y=0, lw=0.3, c=\"black\")\n",
    "\n",
    "# Extract mean expression data\n",
    "means = res['log2Expr']['in']['means']\n",
    "ci = np.zeros((2, len(expr_cats)))\n",
    "\n",
    "for ca in np.arange(len(expr_cats) - 1):\n",
    "    ci[0, ca] = means[ca] - res['log2Expr']['in'][\"confidence intervals\"][ca][0]\n",
    "    ci[1, ca] = res['log2Expr']['in'][\"confidence intervals\"][ca][1] - means[ca]\n",
    "\n",
    "# Create twin axes to plot TU Expression data\n",
    "axbis = ax[1, 1].twinx()\n",
    "axbis.spines.bottom.set_visible(False)\n",
    "axbis.spines.top.set_visible(False)        \n",
    "axbis.plot(res['log2Expr']['in']['means'], '-o', label='TU Expression', lw=1, color=styp_colors[\"Expr\"], markersize=3)\n",
    "axbis.set_ylim(-2, 34)\n",
    "axbis.errorbar(p, means, yerr=ci, ecolor=styp_colors[\"Expr\"], capsize=1.5, elinewidth=0.5, capthick=0.5, fmt=\"none\")\n",
    "axbis.set_ylabel(f'           FPKM', labelpad=5)\n",
    "\n",
    "axhaut = ax[0, 1].twinx()\n",
    "axhaut.spines.bottom.set_visible(False)\n",
    "axhaut.spines.top.set_visible(False)        \n",
    "axhaut.plot(p[:-1], means[:-1], '-o', label='TU Expression', lw=1, color=\"gray\", markersize=3)\n",
    "axhaut.set_ylim(120, 180)\n",
    "axhaut.errorbar(p, means, yerr=ci, ecolor=\"gray\", capsize=1.5, elinewidth=0.5, capthick=0.5, fmt=\"none\")\n",
    "\n",
    "# Add legends to the plots\n",
    "lines1, labels1 = ax[0, 0].get_legend_handles_labels()\n",
    "lines2, labels2 = axhaut.get_legend_handles_labels()\n",
    "axhaut.legend(lines1 + lines2, labels1 + labels2, loc='upper left')\n",
    "\n",
    "# Adjust the position of the subplot in the second column\n",
    "for a in [0, 1]:\n",
    "    pos1 = ax[a, 1].get_position()\n",
    "    pos1_new = [pos1.x0 - 0.025, pos1.y0, pos1.width, pos1.height] \n",
    "    ax[a, 1].set_position(pos1_new)\n",
    "    \n",
    "print(res['log2Expr']['before']['means'])\n",
    "    \n",
    "# Save the figure \n",
    "plt.savefig(f\"{outdir}{scale}_signals_TUdeciles_{int(ws/1000)}kb{fig_ext}\", transparent=True, facecolor='white')\n"
   ]
  },
  {
   "cell_type": "code",
   "execution_count": 32,
   "id": "365d57cd",
   "metadata": {},
   "outputs": [
    {
     "name": "stdout",
     "output_type": "stream",
     "text": [
      "[-3.3723105519934227, -2.908364615441885, -2.5582981180212485, -2.1751056676816045, -2.035416258480092, -2.0595591826014563, -2.34871452204409, -1.3661594679151432, -1.5924700030347143, -1.0526104880757, -1.0679594682411273]\n"
     ]
    },
    {
     "data": {
      "image/png": "[encoded data removed]",
      "text/plain": [
       "<Figure size 496.063x180 with 8 Axes>"
      ]
     },
     "metadata": {
      "needs_background": "light"
     },
     "output_type": "display_data"
    }
   ],
   "source": [
    "# SAME WITH RIFAMPICIN!!\n",
    "\n",
    "# Create subplots with 2 rows and 3 columns\n",
    "fig, ax = plt.subplots(2, 3, figsize=(17.5/2.54, 2.5), sharex=True, gridspec_kw={'height_ratios': [1, 3]})\n",
    "fig.subplots_adjust(hspace=0.06, wspace=0.5, left=0.07, right=0.98, bottom=0.20)\n",
    "\n",
    "# Loop through subplots\n",
    "for a in [0, 1]:\n",
    "    for i, c in enumerate(categories):\n",
    "        for styp, s in enumerate([\"Topo_Rif\", \"Gyr_Rif\"]):\n",
    "            # Get means and confidence intervals\n",
    "            means = res[s][c]['means']\n",
    "            ci = np.zeros((2, len(expr_cats)))\n",
    "            for ca in np.arange(len(expr_cats)):\n",
    "                ci[0, ca] = means[ca] - res[s][c][\"confidence intervals\"][ca][0]\n",
    "                ci[1, ca] = res[s][c][\"confidence intervals\"][ca][1] - means[ca]\n",
    "\n",
    "            # Plot means with error bars\n",
    "            ax[a, i].plot(p, means, '-o', label=styp_label[s], lw=1, markersize=3, color=styp_colors[s])\n",
    "            ax[a, i].errorbar(p, means, yerr=ci, capsize=1.5, elinewidth=0.5, capthick=0.5, fmt=\"none\", color=colors[styp])\n",
    "\n",
    "        ax[0, i].set_title(legend_cats[i])\n",
    "        ax[0, i].set_xticks(p)\n",
    "        ax[0, i].set_ylim(1.3, 1.7)\n",
    "        ax[1, i].set_ylim(-0.3, 0.9)\n",
    "\n",
    "        # Hide spines between ax and ax2\n",
    "        ax[0, i].spines.bottom.set_visible(False)\n",
    "        ax[1, i].spines.top.set_visible(False)\n",
    "        ax[a, i].tick_params(labeltop=False)  \n",
    "        ax[a, i].xaxis.tick_bottom()\n",
    "        ax[0, i].tick_params(axis='x', colors='white')      \n",
    "       \n",
    "        d = .5 \n",
    "        kwargs = dict(marker=[(-1, -d), (1, d)], markersize=12,\n",
    "              linestyle=\"none\", color='k', mec='k', mew=1, clip_on=False)\n",
    "        ax[0, i].plot([0, 1], [0, 0], transform=ax[0, i].transAxes, **kwargs)\n",
    "        ax[1, i].plot([0, 1], [1, 1], transform=ax[1, i].transAxes, **kwargs)\n",
    "\n",
    "        # Set labels and ticks\n",
    "        ax[1, i].set_xlabel('Expression decile', labelpad=-5)\n",
    "        ax[0, i].set_xticklabels(labels_cats)\n",
    "        ax[1, i].set_yticks(np.arange(-0.25, 1, 0.25))\n",
    "        ax[0, i].set_yticks(np.arange(1.4, 1.7, 0.25))\n",
    "        ax[1, i].set_ylabel(\"log$_2$ coverage ratio (IP/Mock)\", labelpad=-3)\n",
    "        \n",
    "        \n",
    "        ax[1, i].axhline(y=0, lw=0.3, c=\"black\")\n",
    "\n",
    "# Extract mean expression data\n",
    "means = res['log2Expr']['in']['means']\n",
    "ci = np.zeros((2, len(expr_cats)))\n",
    "\n",
    "for ca in np.arange(len(expr_cats) - 1):\n",
    "    ci[0, ca] = means[ca] - res['log2Expr']['in'][\"confidence intervals\"][ca][0]\n",
    "    ci[1, ca] = res['log2Expr']['in'][\"confidence intervals\"][ca][1] - means[ca]\n",
    "\n",
    "# Create twin axes to plot TU Expression data\n",
    "axbis = ax[1, 1].twinx()\n",
    "axbis.spines.bottom.set_visible(False)\n",
    "axbis.spines.top.set_visible(False)        \n",
    "axbis.plot(res['log2Expr']['in']['means'], '-o', label='TU Expression', lw=1, color=styp_colors[\"Expr\"], markersize=3)\n",
    "axbis.set_ylim(-2, 34)\n",
    "axbis.errorbar(p, means, yerr=ci, ecolor=styp_colors[\"Expr\"], capsize=1.5, elinewidth=0.5, capthick=0.5, fmt=\"none\")\n",
    "axbis.set_ylabel(f'           FPKM', labelpad=5)\n",
    "\n",
    "axhaut = ax[0, 1].twinx()\n",
    "axhaut.spines.bottom.set_visible(False)\n",
    "axhaut.spines.top.set_visible(False)        \n",
    "axhaut.plot(p[:-1], means[:-1], '-o', label='TU Expression', lw=1, color=\"gray\", markersize=3)\n",
    "axhaut.set_ylim(120, 180)\n",
    "axhaut.errorbar(p, means, yerr=ci, ecolor=\"gray\", capsize=1.5, elinewidth=0.5, capthick=0.5, fmt=\"none\")\n",
    "\n",
    "# Add legends to the plots\n",
    "lines1, labels1 = ax[0, 0].get_legend_handles_labels()\n",
    "lines2, labels2 = axhaut.get_legend_handles_labels()\n",
    "axhaut.legend(lines1 + lines2, labels1 + labels2, loc='upper left')\n",
    "\n",
    "# Adjust the position of the subplot in the second column\n",
    "for a in [0, 1]:\n",
    "    pos1 = ax[a, 1].get_position()\n",
    "    pos1_new = [pos1.x0 - 0.025, pos1.y0, pos1.width, pos1.height] \n",
    "    ax[a, 1].set_position(pos1_new)\n",
    "    \n",
    "print(res['log2Expr']['before']['means'])\n",
    "    \n",
    "# Save the figure \n",
    "plt.savefig(f\"{outdir}{scale}_signals_Rif_TUdeciles_{int(ws/1000)}kb{fig_ext}\", transparent=True, facecolor='white')\n"
   ]
  },
  {
   "cell_type": "code",
   "execution_count": 109,
   "id": "4c859d5d",
   "metadata": {},
   "outputs": [
    {
     "data": {
      "text/plain": [
       "{'before': {'categories': [0, 1, 2, 3, 4, 5, 6, 7, 8, 9, 'rtRNA'],\n",
       "  'means': [8.005099914497645,\n",
       "   277.2037223165345,\n",
       "   249.37751848099208,\n",
       "   345.8912351382709,\n",
       "   347.9101765673679,\n",
       "   253.5718641676268,\n",
       "   101.11573772441386,\n",
       "   366.1140717790469,\n",
       "   333.49455481013695,\n",
       "   179.71818386203233,\n",
       "   1093.8328844268142],\n",
       "  'confidence intervals': [(2.22218303486439, 13.7880167941309),\n",
       "   (37.69636333101096, 516.711081302058),\n",
       "   (20.784832588285155, 477.970204373699),\n",
       "   (51.188224879591985, 640.5942453969498),\n",
       "   (71.70622767437231, 624.1141254603635),\n",
       "   (14.716893201857488, 492.42683513339614),\n",
       "   (-30.85202967801237, 233.0835051268401),\n",
       "   (66.42939848344344, 665.7987450746505),\n",
       "   (61.45781283218872, 605.5312967880852),\n",
       "   (26.440991838297833, 332.99537588576686),\n",
       "   (368.04426275607136, 1819.621506097557)],\n",
       "  'p-values': {(0, 1): 0.014094901637492403,\n",
       "   (0, 2): 0.019585966043571577,\n",
       "   (0, 3): 0.012589345907567877,\n",
       "   (0, 4): 0.008159455385613575,\n",
       "   (0, 5): 0.022301238961015966,\n",
       "   (0, 6): 0.08392573671592524,\n",
       "   (0, 7): 0.00983433951749634,\n",
       "   (0, 8): 0.009758661613100766,\n",
       "   (0, 9): 0.014387394976555582,\n",
       "   (0, 'rtRNA'): 5.333131735592809e-07,\n",
       "   (1, 2): 0.43461991017764956,\n",
       "   (1, 3): 0.361569509379121,\n",
       "   (1, 4): 0.35241438861920427,\n",
       "   (1, 5): 0.44557540694176,\n",
       "   (1, 6): 0.10381169559912563,\n",
       "   (1, 7): 0.3249465048509327,\n",
       "   (1, 8): 0.3804882044558087,\n",
       "   (1, 9): 0.2509979426149233,\n",
       "   (1, 'rtRNA'): 0.003508927603471644,\n",
       "   (2, 3): 0.30614617169889863,\n",
       "   (2, 4): 0.2952088356271651,\n",
       "   (2, 5): 0.4900872272003395,\n",
       "   (2, 6): 0.13578345453385252,\n",
       "   (2, 7): 0.2720800776377347,\n",
       "   (2, 8): 0.32145092410914483,\n",
       "   (2, 9): 0.31005392927086917,\n",
       "   (2, 'rtRNA'): 0.0022079977260160612,\n",
       "   (3, 4): 0.4960939575904731,\n",
       "   (3, 5): 0.31680968833276646,\n",
       "   (3, 6): 0.06904940081810072,\n",
       "   (3, 7): 0.462457292371664,\n",
       "   (3, 8): 0.47586085626936625,\n",
       "   (3, 9): 0.16371038173900687,\n",
       "   (3, 'rtRNA'): 0.013284018899950518,\n",
       "   (4, 5): 0.3064370680332741,\n",
       "   (4, 6): 0.057412024443115765,\n",
       "   (4, 7): 0.46514037072923536,\n",
       "   (4, 8): 0.4709679483080209,\n",
       "   (4, 9): 0.1486412135738011,\n",
       "   (4, 'rtRNA'): 0.010912666429722174,\n",
       "   (5, 6): 0.13707558659455882,\n",
       "   (5, 7): 0.2826034185492601,\n",
       "   (5, 8): 0.3327267306331023,\n",
       "   (5, 9): 0.30514833367323185,\n",
       "   (5, 'rtRNA'): 0.002747222307580054,\n",
       "   (6, 7): 0.0567323303765186,\n",
       "   (6, 8): 0.06636661462246497,\n",
       "   (6, 9): 0.2233402153161464,\n",
       "   (6, 'rtRNA'): 3.4715428633255844e-05,\n",
       "   (7, 8): 0.43728204056287145,\n",
       "   (7, 9): 0.1392013839968932,\n",
       "   (7, 'rtRNA'): 0.016278189977964645,\n",
       "   (8, 9): 0.1674886956959959,\n",
       "   (8, 'rtRNA'): 0.009224109220159147,\n",
       "   (9, 'rtRNA'): 0.00019801807520779092}},\n",
       " 'in': {'categories': [0, 1, 2, 3, 4, 5, 6, 7, 8, 9, 'rtRNA'],\n",
       "  'means': [0.13502090370906064,\n",
       "   0.38369415047690075,\n",
       "   1.081275745099439,\n",
       "   1.6974773803678822,\n",
       "   2.422861131585794,\n",
       "   4.107668364308812,\n",
       "   6.475038630729151,\n",
       "   11.265541659938364,\n",
       "   24.7204358951916,\n",
       "   143.698818240307,\n",
       "   7897.8235566467665],\n",
       "  'confidence intervals': [(0.11570893886838587, 0.1543328685497354),\n",
       "   (0.360487568549894, 0.4069007324039075),\n",
       "   (0.3930081201406478, 1.7695433700582304),\n",
       "   (1.2344502093956382, 2.160504551340126),\n",
       "   (2.3441598928954526, 2.5015623702761354),\n",
       "   (3.699784406900482, 4.515552321717142),\n",
       "   (6.300861281276522, 6.64921598018178),\n",
       "   (10.91865829232388, 11.612425027552849),\n",
       "   (22.799449633042155, 26.641422157341044),\n",
       "   (119.29073114159954, 168.10690533901445),\n",
       "   (5120.3664131797605, 10675.280700113773)],\n",
       "  'p-values': {(0, 1): 3.2569864199598606e-46,\n",
       "   (0, 2): 0.003676850887190087,\n",
       "   (0, 3): 5.943730607233071e-11,\n",
       "   (0, 4): 9.037276324910413e-195,\n",
       "   (0, 5): 4.450779815424925e-59,\n",
       "   (0, 6): 1.9699430021947544e-235,\n",
       "   (0, 7): 2.9253802209742355e-215,\n",
       "   (0, 8): 1.1051025021829133e-85,\n",
       "   (0, 9): 3.448381173605147e-27,\n",
       "   (0, 'rtRNA'): 5.411852342900466e-19,\n",
       "   (1, 2): 0.023878802719096984,\n",
       "   (1, 3): 2.4851167985984155e-08,\n",
       "   (1, 4): 9.981824610536054e-175,\n",
       "   (1, 5): 9.413017875717938e-54,\n",
       "   (1, 6): 2.683678268823981e-228,\n",
       "   (1, 7): 1.9039471602486165e-211,\n",
       "   (1, 8): 1.4187857589539951e-84,\n",
       "   (1, 9): 4.1115379404832555e-27,\n",
       "   (1, 'rtRNA'): 5.423601604968807e-19,\n",
       "   (2, 3): 0.07308009928621949,\n",
       "   (2, 4): 8.451124297424464e-05,\n",
       "   (2, 5): 3.43444420468978e-13,\n",
       "   (2, 6): 7.799692915730257e-41,\n",
       "   (2, 7): 3.200145168560575e-89,\n",
       "   (2, 8): 3.065535087259306e-75,\n",
       "   (2, 9): 7.002472124064467e-27,\n",
       "   (2, 'rtRNA'): 5.456792271902846e-19,\n",
       "   (3, 4): 0.0013109996896209525,\n",
       "   (3, 5): 6.738220030753291e-14,\n",
       "   (3, 6): 1.8586209643656153e-58,\n",
       "   (3, 7): 2.0046546367853623e-116,\n",
       "   (3, 8): 8.103807495564634e-76,\n",
       "   (3, 9): 1.0573539702387745e-26,\n",
       "   (3, 'rtRNA'): 5.4861401179194415e-19,\n",
       "   (4, 5): 8.830365244475608e-15,\n",
       "   (4, 6): 8.115023628404276e-151,\n",
       "   (4, 7): 8.943721940090805e-175,\n",
       "   (4, 8): 2.3645033529788197e-75,\n",
       "   (4, 9): 1.729907060210172e-26,\n",
       "   (4, 'rtRNA'): 5.520908831778783e-19,\n",
       "   (5, 6): 3.295698387521387e-23,\n",
       "   (5, 7): 1.5736807143769134e-90,\n",
       "   (5, 8): 9.071157301757369e-66,\n",
       "   (5, 9): 5.696866315535366e-26,\n",
       "   (5, 'rtRNA'): 5.602644939751814e-19,\n",
       "   (6, 7): 8.904789096359245e-82,\n",
       "   (6, 8): 9.836009434545666e-57,\n",
       "   (6, 9): 2.915156090328605e-25,\n",
       "   (6, 'rtRNA'): 5.719451573911102e-19,\n",
       "   (7, 8): 4.59547814744244e-35,\n",
       "   (7, 9): 7.796341789652822e-24,\n",
       "   (7, 'rtRNA'): 5.963344209625867e-19,\n",
       "   (8, 9): 6.797264775513445e-20,\n",
       "   (8, 'rtRNA'): 6.70579946931527e-19,\n",
       "   (9, 'rtRNA'): 1.9230898947610885e-18}},\n",
       " 'after': {'categories': [0, 1, 2, 3, 4, 5, 6, 7, 8, 9, 'rtRNA'],\n",
       "  'means': [137.96430342810368,\n",
       "   27.23251667019592,\n",
       "   136.24950490890038,\n",
       "   340.3019523386297,\n",
       "   182.40647410531295,\n",
       "   292.1466347870827,\n",
       "   212.81485309775542,\n",
       "   77.3185493324725,\n",
       "   79.6812233937788,\n",
       "   45.9770193211873,\n",
       "   34.30624607740896],\n",
       "  'confidence intervals': [(-29.740697388255683, 305.66930424446304),\n",
       "   (-16.305252195558353, 70.7702855359502),\n",
       "   (-43.522967508399546, 316.0219773262003),\n",
       "   (66.71494344972211, 613.8889612275373),\n",
       "   (4.733343999734672, 360.07960421089126),\n",
       "   (41.701435140448325, 542.591834433717),\n",
       "   (8.730709119025732, 416.8989970764851),\n",
       "   (-49.532551494178364, 204.16965015912336),\n",
       "   (-53.484890026298274, 212.84733681385586),\n",
       "   (-20.304585400345317, 112.25862404271992),\n",
       "   (9.667477899142682, 58.94501425567523)],\n",
       "  'p-values': {(0, 1): 0.10552634450910808,\n",
       "   (0, 2): 0.4945496479649994,\n",
       "   (0, 3): 0.10860762224432306,\n",
       "   (0, 4): 0.3608158979328,\n",
       "   (0, 5): 0.1583181470172127,\n",
       "   (0, 6): 0.28946507101869556,\n",
       "   (0, 7): 0.28609581433359377,\n",
       "   (0, 8): 0.2970077239155745,\n",
       "   (0, 9): 0.1589932037445093,\n",
       "   (0, 'rtRNA'): 0.23836917814962788,\n",
       "   (1, 2): 0.12434227814344276,\n",
       "   (1, 3): 0.013651230318893096,\n",
       "   (1, 4): 0.04857302929424545,\n",
       "   (1, 5): 0.020861337080394293,\n",
       "   (1, 6): 0.041029617668210956,\n",
       "   (1, 7): 0.23230098548776712,\n",
       "   (1, 8): 0.23176218414405064,\n",
       "   (1, 9): 0.32170432042970887,\n",
       "   (1, 'rtRNA'): 0.42705841513062237,\n",
       "   (2, 3): 0.11125865833007258,\n",
       "   (2, 4): 0.36029286239230196,\n",
       "   (2, 5): 0.161097615618758,\n",
       "   (2, 6): 0.2907008682624145,\n",
       "   (2, 7): 0.2999443340867117,\n",
       "   (2, 8): 0.3102258504029879,\n",
       "   (2, 9): 0.1781584552266971,\n",
       "   (2, 'rtRNA'): 0.2568882432588889,\n",
       "   (3, 4): 0.17167058134137198,\n",
       "   (3, 5): 0.3996311373846143,\n",
       "   (3, 6): 0.23226886592289464,\n",
       "   (3, 7): 0.0440767713483201,\n",
       "   (3, 8): 0.04697208272984292,\n",
       "   (3, 9): 0.02053081243887111,\n",
       "   (3, 'rtRNA'): 0.09899607187113363,\n",
       "   (4, 5): 0.24201675390259808,\n",
       "   (4, 6): 0.41288878085928693,\n",
       "   (4, 7): 0.1729924316043533,\n",
       "   (4, 8): 0.1825251558674868,\n",
       "   (4, 9): 0.07963146184199603,\n",
       "   (4, 'rtRNA'): 0.16868506630137414,\n",
       "   (5, 6): 0.31528344813498643,\n",
       "   (5, 7): 0.06720871139934725,\n",
       "   (5, 8): 0.07141390435573268,\n",
       "   (5, 9): 0.03162515187552118,\n",
       "   (5, 'rtRNA'): 0.11799006132122744,\n",
       "   (6, 7): 0.13485957254885675,\n",
       "   (6, 8): 0.1424417203508639,\n",
       "   (6, 9): 0.06414424598622888,\n",
       "   (6, 'rtRNA'): 0.15699009760127774,\n",
       "   (7, 8): 0.48996214130270127,\n",
       "   (7, 9): 0.33400070276496546,\n",
       "   (7, 'rtRNA'): 0.34823305718808106,\n",
       "   (8, 9): 0.32860175857419066,\n",
       "   (8, 'rtRNA'): 0.3474961973032188,\n",
       "   (9, 'rtRNA'): 0.4201969902139141}}}"
      ]
     },
     "execution_count": 109,
     "metadata": {},
     "output_type": "execute_result"
    }
   ],
   "source": [
    "res[\"Expr\"]"
   ]
  },
  {
   "cell_type": "markdown",
   "id": "eb1a716e",
   "metadata": {},
   "source": [
    "## D - Autocorrelation and correlations"
   ]
  },
  {
   "cell_type": "code",
   "execution_count": 33,
   "id": "4775da85",
   "metadata": {},
   "outputs": [],
   "source": [
    "study_signals = {\"log2Expr\":all_signals[\"log2Expr\"]['raw'],\"Gyr\" : all_signals[\"Gyr\"]['raw'], \"Topo\" : all_signals[\"Topo\"]['raw'], \"Gyr_Rif\" : all_signals[\"Gyr_Rif\"]['raw'], \"Topo_Rif\" : all_signals[\"Topo_Rif\"]['raw']}"
   ]
  },
  {
   "cell_type": "markdown",
   "id": "3b7918b6",
   "metadata": {},
   "source": [
    "### autocorrelation\n",
    "\n",
    "Compute the pearson coefficient for the correlation between a signal and itself shifted "
   ]
  },
  {
   "cell_type": "code",
   "execution_count": 34,
   "id": "104c5c31",
   "metadata": {},
   "outputs": [],
   "source": [
    "num=100\n",
    "p,d = {},{}\n",
    "for label, signal in study_signals.items():\n",
    "    p[label] = []\n",
    "    d[label] = []\n",
    "    for a in np.logspace(2, 6, num=num,endpoint=True, base=10.0, dtype=int, axis=0) : \n",
    "        d[label].append(a/1000)\n",
    "        signal_d = np.concatenate((signal[-a:],signal[:-a]))\n",
    "        pear = stats.pearsonr(signal,signal_d)\n",
    "        p[label].append(pear[0])"
   ]
  },
  {
   "cell_type": "markdown",
   "id": "6bb0b1d7",
   "metadata": {},
   "source": [
    "### correlation\n",
    "\n",
    "For an increasing smoothing window size, compute the pearson coefficient for the correlation between Gyr or TopoI signal and the log2Expr signal. \n",
    "To perform an efficient smoothing, the signal is binned prior to the smoothing. "
   ]
  },
  {
   "cell_type": "code",
   "execution_count": 35,
   "id": "2acee1e9",
   "metadata": {
    "scrolled": true
   },
   "outputs": [
    {
     "name": "stdout",
     "output_type": "stream",
     "text": [
      "loading the file obtained with the following parameters:\n",
      "\n",
      "Name: Topo_bin100b\n",
      "\n",
      " Replicates: ['Sutormin_TopoI_R1', 'Sutormin_TopoI_R2', 'Sutormin_TopoI_R3']\n",
      "\n",
      " Data treatment: binning\n",
      "\n",
      " Size (window or bin, in b): 100\n",
      "\n",
      "Please change 'average_name' to use other signals\n",
      "loading the file obtained with the following parameters:\n",
      "\n",
      "Name: Gyr_bin100b\n",
      "\n",
      " Replicates: ['Sutormin_Gyrase_R1', 'Sutormin_Gyrase_R2']\n",
      "\n",
      " Data treatment: binning\n",
      "\n",
      " Size (window or bin, in b): 100\n",
      "\n",
      "Please change 'average_name' to use other signals\n",
      "loading the file obtained with the following parameters:\n",
      "\n",
      "Name: Topo_Rif_bin100b\n",
      "\n",
      " Replicates: ['Sutormin_TopoI_Rif_R1', 'Sutormin_TopoI_Rif_R2', 'Sutormin_TopoI_Rif_R3']\n",
      "\n",
      " Data treatment: binning\n",
      "\n",
      " Size (window or bin, in b): 100\n",
      "\n",
      "Please change 'average_name' to use other signals\n",
      "loading the file obtained with the following parameters:\n",
      "\n",
      "Name: Gyr_Rif_bin100b\n",
      "\n",
      " Replicates: ['Sutormin_CFX_Rif_Gyrase_R1', 'Sutormin_CFX_Rif_Gyrase_R2', 'Sutormin_CFX_Rif_Gyrase_R3']\n",
      "\n",
      " Data treatment: binning\n",
      "\n",
      " Size (window or bin, in b): 100\n",
      "\n",
      "Please change 'average_name' to use other signals\n"
     ]
    }
   ],
   "source": [
    "binsize = 100\n",
    "bin_signals = {}\n",
    "\n",
    "for styp in [\"Topo\",\"Gyr\",\"Topo_Rif\",\"Gyr_Rif\"]: \n",
    "    ch.load_signals_average(list_cond=cond[styp],\n",
    "                            average_name=f\"{styp}_bin{binsize}b\",\n",
    "                            data_treatment = \"binning\",\n",
    "                            binsize=binsize)\n",
    "    binned_signal = ch.signals_average[f\"{styp}_bin{binsize}b\"]\n",
    "    bin_signals[styp]= binned_signal[np.arange(0,len(binned_signal),binsize)]\n",
    "\n",
    "process_signal = useful_functions_Chipseq.binning(log2expr_signal,binsize)\n",
    "bin_signals[\"log2Expr\"] = process_signal[0]"
   ]
  },
  {
   "cell_type": "code",
   "execution_count": 36,
   "id": "bbee7a0c",
   "metadata": {},
   "outputs": [],
   "source": [
    "num=100\n",
    "pearson_coef = {\"Topo\":{},\"Gyr\":{},\"Topo_Rif\":{},\"Gyr_Rif\":{}}\n",
    "\n",
    "for i in np.logspace(0, 4, num=num, endpoint=True, base=10.0, dtype=int, axis=0) : \n",
    "    \n",
    "    smoo_Expr = useful_functions_Chipseq.smoothing(bin_signals['log2Expr'],i)\n",
    "    \n",
    "    for styp in [\"Topo\",\"Gyr\",\"Topo_Rif\",\"Gyr_Rif\"]:         \n",
    "        smoo_sign = useful_functions_Chipseq.smoothing(bin_signals[styp],i) \n",
    "        pearson_coef[styp][i*binsize]= stats.pearsonr(smoo_sign,smoo_Expr)[0]"
   ]
  },
  {
   "cell_type": "markdown",
   "id": "9836e5d4",
   "metadata": {},
   "source": [
    "#### Graphical representation"
   ]
  },
  {
   "cell_type": "code",
   "execution_count": 43,
   "id": "9155ff28",
   "metadata": {},
   "outputs": [
    {
     "data": {
      "image/png": "[encoded data removed]",
      "text/plain": [
       "<Figure size 221.102x170.079 with 2 Axes>"
      ]
     },
     "metadata": {
      "needs_background": "light"
     },
     "output_type": "display_data"
    }
   ],
   "source": [
    "# Create a figure with 1 row and 2 columns of subplots\n",
    "fig, axs = plt.subplots(1, 2, figsize=(7.8*cm, 6*cm))\n",
    "fig.subplots_adjust(hspace=0.06, wspace=0.55, bottom=0.3, right=0.98, top=0.85, left=0.15)\n",
    "\n",
    "# Add a horizontal line at y=0 in both subplots\n",
    "for i in [0, 1]:\n",
    "    axs[i].axhline(y=0, c='black', lw=0.5)\n",
    "\n",
    "smoo_p = {}\n",
    "for styp in [\"log2Expr\",\"Topo\",\"Gyr\"]:\n",
    "    # Smooth and plot the autocorrelation pearson coefficients data\n",
    "    smoo_p[styp] = useful_functions_Chipseq.smoothing(p[styp], 6)\n",
    "    axs[0].plot(d[styp], smoo_p[styp], color=styp_colors[styp], label=styp_label[styp])\n",
    "\n",
    "# Set labels and titles for the autocorrelation subplot\n",
    "axs[0].set_xlabel('Distance (kb)')\n",
    "axs[0].set_title('Autocorrelation')\n",
    "\n",
    "# Plot Pearson correlation coefficients in the second subplot\n",
    "for styp in [\"Gyr\", \"Topo\"]:\n",
    "    axs[1].plot([k/1000 for k in pearson_coef[styp].keys()], [x for x in pearson_coef[styp].values()], color=styp_colors[styp])\n",
    "\n",
    "# Set x-axis scale to logarithmic, limits, and labels\n",
    "for i in [0, 1]:\n",
    "    axs[i].set_xscale(\"log\")\n",
    "    axs[i].set_xlim(0.2, 600)\n",
    "    axs[i].set_ylabel('Pearson R', labelpad=1)\n",
    "    axs[i].axvline(x=1, c='black', lw=0.6, ls='--')\n",
    "\n",
    "# Set specific y-axis limits for the second subplot\n",
    "axs[1].set_ylim(-0.05, 0.55)\n",
    "\n",
    "# Set x-axis label, title, and legend for the second subplot\n",
    "axs[1].set_xlabel('Scale (kb)')\n",
    "axs[1].set_title('Correlation with\\nexpression')\n",
    "fig.legend(loc='lower center', ncol=3)\n",
    "\n",
    "# Save the figure\n",
    "plt.savefig(f\"{outdir}correlations_autocorrel_{num}points{fig_ext}\", transparent=False, facecolor='white')\n"
   ]
  },
  {
   "cell_type": "code",
   "execution_count": 44,
   "id": "a8f9ce82",
   "metadata": {},
   "outputs": [
    {
     "data": {
      "image/png": "[encoded data removed]",
      "text/plain": [
       "<Figure size 221.102x170.079 with 2 Axes>"
      ]
     },
     "metadata": {
      "needs_background": "light"
     },
     "output_type": "display_data"
    }
   ],
   "source": [
    "# SAME WITH RIFAMPICIN !!\n",
    "\n",
    "# Create a figure with 1 row and 2 columns of subplots\n",
    "fig, axs = plt.subplots(1, 2, figsize=(7.8*cm, 6*cm))\n",
    "fig.subplots_adjust(hspace=0.06, wspace=0.55, bottom=0.3, right=0.98, top=0.85, left=0.15)\n",
    "\n",
    "# Add a horizontal line at y=0 in both subplots\n",
    "for i in [0, 1]:\n",
    "    axs[i].axhline(y=0, c='black', lw=0.5)\n",
    "\n",
    "smoo_p = {}\n",
    "for styp in [\"log2Expr\",\"Topo_Rif\",\"Gyr_Rif\"]:\n",
    "    # Smooth and plot the autocorrelation pearson coefficients data\n",
    "    smoo_p[styp] = useful_functions_Chipseq.smoothing(p[styp], 6)\n",
    "    axs[0].plot(d[styp], smoo_p[styp], color=styp_colors[styp], label=styp_label[styp])\n",
    "\n",
    "# Set labels and titles for the autocorrelation subplot\n",
    "axs[0].set_xlabel('Distance (kb)')\n",
    "axs[0].set_title('Autocorrelation')\n",
    "\n",
    "# Plot Pearson correlation coefficients in the second subplot\n",
    "for styp in [\"Gyr_Rif\", \"Topo_Rif\"]:\n",
    "    axs[1].plot([k/1000 for k in pearson_coef[styp].keys()], [x for x in pearson_coef[styp].values()], color=styp_colors[styp])\n",
    "\n",
    "# Set x-axis scale to logarithmic, limits, and labels\n",
    "for i in [0, 1]:\n",
    "    axs[i].set_xscale(\"log\")\n",
    "    axs[i].set_xlim(0.2, 600)\n",
    "    axs[i].set_ylabel('Pearson R', labelpad=1)\n",
    "    axs[i].axvline(x=1, c='black', lw=0.6, ls='--')\n",
    "\n",
    "# Set specific y-axis limits for the second subplot\n",
    "axs[1].set_ylim(-0.05, 0.55)\n",
    "\n",
    "# Set x-axis label, title, and legend for the second subplot\n",
    "axs[1].set_xlabel('Scale (kb)')\n",
    "axs[1].set_title('Correlation with\\nexpression')\n",
    "fig.legend(loc='lower center', ncol=3)\n",
    "\n",
    "# Save the figure\n",
    "plt.savefig(f\"{outdir}correlations_Rif_autocorrel_{num}points{fig_ext}\", transparent=False, facecolor='white')\n"
   ]
  },
  {
   "cell_type": "markdown",
   "id": "72f905ac",
   "metadata": {},
   "source": [
    "## E - Study at micro scale : cumulative signal around the TU \n",
    "\n",
    "The cumulative signal corresponds to the area under the curve (i.e., under the signal) up to the distance chosen with the study_ws parameter.\n",
    "\n",
    "To compute it, it is necessary to:\n",
    "* Calculate the average signal over the distance before the TU (\"mb\") and after the TU (\"ma\").\n",
    "* Calculate the area under these signals using the trapezoidal method."
   ]
  },
  {
   "cell_type": "code",
   "execution_count": 39,
   "id": "67b47e82",
   "metadata": {},
   "outputs": [
    {
     "name": "stdout",
     "output_type": "stream",
     "text": [
      "Working at micro scale...\n",
      "... with Gyr signal\n",
      "... with Topo signal\n",
      "... with Expr signal\n",
      "... with log2Expr signal\n",
      "... with Gyr_Rif signal\n",
      "... with Topo_Rif signal\n",
      "Working at macro scale...\n",
      "... with Gyr signal\n",
      "... with Topo signal\n",
      "... with Expr signal\n",
      "... with log2Expr signal\n",
      "... with Gyr_Rif signal\n",
      "... with Topo_Rif signal\n",
      "Working at raw scale...\n",
      "... with Gyr signal\n",
      "... with Topo signal\n",
      "... with Expr signal\n",
      "... with log2Expr signal\n",
      "... with Gyr_Rif signal\n",
      "... with Topo_Rif signal\n"
     ]
    }
   ],
   "source": [
    "study_ws = 50000 #(in b) \n",
    "cumul_sign = {}\n",
    "\n",
    "for scale in [\"micro\",\"macro\",\"raw\"] :\n",
    "    print(f\"Working at {scale} scale...\")\n",
    "    cumul_sign[scale] = {}\n",
    "    \n",
    "    for styp in [\"Gyr\",\"Topo\",\"Expr\",\"log2Expr\",\"Gyr_Rif\",\"Topo_Rif\"] : \n",
    "        print(f\"... with {styp} signal\")\n",
    "        cumul_sign[scale][styp] = {}\n",
    "        \n",
    "        for c,exprclass in enumerate(classif_cats) :\n",
    "            cumul_sign[scale][styp][exprclass]  = {\"before\":[],\"after\":[]} \n",
    "            mb = np.flip(means_TU[scale][styp][exprclass][\"before\"]) \n",
    "            ma = means_TU[scale][styp][exprclass][\"after\"]\n",
    "    \n",
    "            for i in np.arange(0,study_ws,100) :\n",
    "                cumul_sign[scale][styp][exprclass][\"before\"].append(trapz(mb.iloc[:i+1], np.arange(i+1)))\n",
    "                cumul_sign[scale][styp][exprclass][\"after\"].append(trapz(ma.iloc[:i+1], np.arange(i+1)))"
   ]
  },
  {
   "cell_type": "code",
   "execution_count": 40,
   "id": "7130855e",
   "metadata": {},
   "outputs": [
    {
     "data": {
      "image/png": "[encoded data removed]",
      "text/plain": [
       "<Figure size 496.063x255.118 with 4 Axes>"
      ]
     },
     "metadata": {
      "needs_background": "light"
     },
     "output_type": "display_data"
    }
   ],
   "source": [
    "# Define the types of signals to be plotted and the scale (e.g., \"micro\") for signal analysis\n",
    "# Choose between with and without rifampicin by commenting the appropriate line! \n",
    "#styps = ['Topo', 'Gyr']\n",
    "styps = ['Topo_Rif', 'Gyr_Rif']\n",
    "# -------------------------------------\n",
    "\n",
    "\n",
    "scale = \"micro\"\n",
    "\n",
    "# Set the window size (in b) for the plot, ensuring it's less than or equal to the study_ws\n",
    "plot_ws = 50000\n",
    "\n",
    "# Create a subplot with 2 rows and 2 columns, sharing the y-axis\n",
    "f, axs = plt.subplots(2, 2, figsize=(17.5 * cm, 9 * cm), sharey=True)\n",
    "\n",
    "# Adjust the spacing and margins between subplots\n",
    "f.subplots_adjust(hspace=0.4, wspace=0.15, left=0.095, right=0.76, bottom=0.1, top=0.92)\n",
    "\n",
    "# Loop through the signal types (styps) and classification categories (exprclass)\n",
    "for n, styp in enumerate(styps):\n",
    "    for c, exprclass in enumerate(classif_cats):\n",
    "        # Determine whether it's the first signal type (styp) to set labels\n",
    "        if n == 0:\n",
    "            axs[n, 0].plot(np.arange(0, plot_ws, 100), cumul_sign[scale][styp][exprclass][\"before\"], c=colors[c], lw=1)\n",
    "        else:\n",
    "            axs[n, 0].plot(np.arange(0, plot_ws, 100), cumul_sign[scale][styp][exprclass][\"before\"],\n",
    "                           label=labels[c], c=colors[c], lw=1)\n",
    "        \n",
    "        # Plot the signal \"after\" the specified distance\n",
    "        axs[n, 1].plot(np.arange(0, plot_ws, 100), cumul_sign[scale][styp][exprclass][\"after\"], c=colors[c], lw=1)\n",
    "        \n",
    "        # Set the y-axis label based on the signal type (styp)\n",
    "        axs[n, 0].set_ylabel(styp_label[styp], labelpad=-2)\n",
    "\n",
    "    # Configure the x and y-axis properties for the subplots\n",
    "    for i in [0, 1]:\n",
    "        axs[n, i].set_xlim(0, plot_ws)\n",
    "        axs[n, i].ticklabel_format(style='sci', axis='y', scilimits=(3, 3))\n",
    "        axs[n, i].set_xticks(np.arange(0, plot_ws + 10, 10000))\n",
    "        axs[n, i].set_yticks(np.arange(-6000, 13000, 3000))\n",
    "        axs[n, i].set_ylim(-6000, 8000)\n",
    "        axs[n, i].axvline(10 * 1000, c=\"black\", ls=\"--\", lw=0.6)\n",
    "    axs[n, 0].set_xticklabels(np.concatenate((['$TU_{s}$'], np.flip(np.arange(int(-plot_ws/1000), 0, 10)))))\n",
    "    axs[n, 1].set_xticklabels(np.concatenate((['$TU_{e}$'], np.arange(10, int(plot_ws/1000) + 10, 10))))\n",
    "\n",
    "# Set subplot axis labels and titles  \n",
    "axs[1, 0].set_xlabel(\"distance (kb)\")\n",
    "axs[1, 1].set_xlabel(\"distance (kb)\")\n",
    "axs[0, 0].set_title(f'before TU')\n",
    "axs[0, 1].set_title(f'after TU')\n",
    "f.text(0.01, 0.5, 'Topoisomerase cumulative occupancy around TUs', va='center', rotation='vertical', fontsize=10)\n",
    "\n",
    "# Add a legend to the figure\n",
    "f.legend(loc='upper right', ncol=1)\n",
    "\n",
    "# Save the figure\n",
    "plt.savefig(f\"{outdir}{scale}_cumulative_signals_{styps[0]}_{styps[1]}_{int(plot_ws/1000)}kb{fig_ext}\",\n",
    "            transparent=False, facecolor='white')"
   ]
  },
  {
   "cell_type": "code",
   "execution_count": 38,
   "id": "bc5cc403",
   "metadata": {},
   "outputs": [
    {
     "data": {
      "image/png": "[encoded data removed]",
      "text/plain": [
       "<Figure size 496.063x170.079 with 2 Axes>"
      ]
     },
     "metadata": {
      "needs_background": "light"
     },
     "output_type": "display_data"
    }
   ],
   "source": [
    "#same plot for the expression signal\n",
    "styp = \"Expr\"\n",
    "scale = \"raw\"\n",
    "plot_ws = 50000 \n",
    "\n",
    "f, axs = plt.subplots(1, 2, figsize=(17.5*cm,6*cm),sharey=True)\n",
    "f.subplots_adjust(hspace=0.3,wspace=0.1,left=0.14, right=0.83,bottom=0.15,top = 0.9)\n",
    "\n",
    "for c, exprclass in enumerate(classif_cats):\n",
    "    mb = np.flip(means_TU[scale][styp][exprclass][\"before\"])\n",
    "    ma = means_TU[scale][styp][exprclass][\"after\"]\n",
    "    \n",
    "    cumul_sign[scale][styp][exprclass] = {\"before\":[],\"after\":[]} \n",
    "    for i in np.arange(0,plot_ws,100) :\n",
    "        cumul_sign[scale][styp][exprclass][\"before\"].append(trapz(mb.iloc[:i+1], np.arange(i+1)))\n",
    "        cumul_sign[scale][styp][exprclass][\"after\"].append(trapz(ma.iloc[:i+1], np.arange(i+1)))\n",
    "    axs[0].plot(np.arange(0,plot_ws,100),cumul_sign[scale][styp][exprclass][\"before\"],label = labels_short[c],c=colors[c],lw=1)\n",
    "    axs[1].plot(np.arange(0,plot_ws,100),cumul_sign[scale][styp][exprclass][\"after\"],c=colors[c],lw=1)\n",
    "        \n",
    "for i in [0,1]:\n",
    "    axs[i].set_xlim(0,plot_ws)\n",
    "    axs[i].ticklabel_format(style='sci', axis='y', scilimits=(0,0))\n",
    "    axs[i].set_xticks(np.arange(0,plot_ws+10,10000))\n",
    "    axs[i].axvline(10*1000,c=\"black\",ls=\"--\",lw=0.6)\n",
    "axs[0].set_xticklabels(np.concatenate((['$TU_{s}$'],np.flip(np.arange(int(-plot_ws/1000),0,10)))))  \n",
    "axs[1].set_xticklabels(np.concatenate((['$TU_{e}$'],np.arange(10,int(plot_ws/1000)+10,10)))) \n",
    "\n",
    "axs[0].set_ylabel(\"cumulative FPKM\")\n",
    "axs[0].set_xlabel(\"distance (kb)\")\n",
    "axs[1].set_xlabel(\"distance (kb)\")\n",
    "axs[0].set_title(f'before TU',fontsize=10)\n",
    "axs[1].set_title(f'after TU',fontsize=10)\n",
    "\n",
    "f.legend(loc='center right')\n",
    "\n",
    "plt.savefig(f\"{outdir}{styp}_{scale}_cumulatif_plot_ws{int(plot_ws/1000)}kb{fig_ext}\",\n",
    "            transparent=False,facecolor='white')"
   ]
  },
  {
   "cell_type": "markdown",
   "id": "1a6f2384",
   "metadata": {},
   "source": [
    "## E - Violin plot of the distribution\n",
    "\n",
    "The purpose of this step is to study the average signal per bin of a chosen size specified by the bin_scale parameter in order to compare macro and micro signals. It is also of interest to compare the distribution of these signals per bin with the average signal values over the same distance (bin_scale) after and before the transcription units (TUs) based on their expression levels."
   ]
  },
  {
   "cell_type": "code",
   "execution_count": 41,
   "id": "bd4dc74c",
   "metadata": {},
   "outputs": [],
   "source": [
    "bin_scale = 50000 # in b\n",
    "styps = [\"Topo\",\"Gyr\",\"Topo_Rif\",\"Gyr_Rif\"]\n",
    "\n",
    "binned_sign = {}\n",
    "mean_aroundTU_binscale = {}\n",
    "\n",
    "for styp in styps :\n",
    "    binned_sign[styp] = {}\n",
    "    mean_aroundTU_binscale[styp] = {}\n",
    "    \n",
    "    for scale in [\"micro\",\"macro\"] :   \n",
    "        # compute the mean signal in each bin of bin_scale size \n",
    "        binned_sign[styp][scale] = useful_functions_Chipseq.binning(all_signals[styp][scale],bin_scale)[0]\n",
    "        \n",
    "        # compute the mean signal in the bin before and in the bin after the TU\n",
    "        mean_aroundTU_binscale[styp][scale] = {}\n",
    "        for ec in classif_cats :\n",
    "            mean_aroundTU_binscale[styp][scale][ec] = {\"before\":cumul_sign[scale][styp][ec][\"before\"][int(bin_scale/100)-1],\n",
    "                                                       \"after\":cumul_sign[scale][styp][ec][\"after\"][int(bin_scale/100)-1]}"
   ]
  },
  {
   "cell_type": "code",
   "execution_count": 51,
   "id": "8e1fc01c",
   "metadata": {},
   "outputs": [
    {
     "data": {
      "image/png": "[encoded data removed]",
      "text/plain": [
       "<Figure size 221.102x141.732 with 2 Axes>"
      ]
     },
     "metadata": {
      "needs_background": "light"
     },
     "output_type": "display_data"
    }
   ],
   "source": [
    "fig, axs = plt.subplots(1, 2, figsize=(7.8*cm, 5*cm),sharey=True)\n",
    "plt.subplots_adjust(top=0.9,wspace=0.15,bottom=0.1,right=0.98,left=0.18) \n",
    "\n",
    "styps = [\"Gyr\",\"Topo\"]\n",
    "for i, styp in enumerate(styps):\n",
    "    sns.violinplot(data=[binned_sign[styp][\"micro\"],binned_sign[styp][\"macro\"]], ax=axs[i],color='white')\n",
    "    axs[i].set_title(styp_label[styp])  \n",
    "    axs[i].set_xticks([0, 1])\n",
    "    axs[i].set_xticklabels(['Micro', 'Macro'])\n",
    "    axs[i].set_ylim(-.6,.7)\n",
    "axs[0].set_ylabel(f\"Mean log$_2$ coverage ratio (IP/Mock)\")\n",
    "\n",
    "lines_list = []\n",
    "for sc, scale in enumerate([\"micro\",\"macro\"]) : \n",
    "    for c, exprclass in enumerate(classif_cats) : \n",
    "        for n,styp in enumerate(styps) : \n",
    "            if styp == \"Gyr\" :\n",
    "                pos = mean_aroundTU_binscale[styp][scale][exprclass][\"after\"]/bin_scale\n",
    "            else : \n",
    "                pos = mean_aroundTU_binscale[styp][scale][exprclass][\"before\"]/bin_scale\n",
    "            line = lines.Line2D((sc-0.1, sc+0.1), (pos,pos), color = colors[c],label=labels[c])\n",
    "            axs[n].add_artist(line)\n",
    "\n",
    "plt.savefig(f\"{outdir}distrib_violinplot_{int(bin_scale/1000)}kb{fig_ext}\",\n",
    "                            transparent=False,facecolor='white')"
   ]
  },
  {
   "cell_type": "code",
   "execution_count": 52,
   "id": "8613536b",
   "metadata": {},
   "outputs": [
    {
     "data": {
      "image/png": "[encoded data removed]",
      "text/plain": [
       "<Figure size 221.102x141.732 with 2 Axes>"
      ]
     },
     "metadata": {
      "needs_background": "light"
     },
     "output_type": "display_data"
    }
   ],
   "source": [
    "# SAME WITH RIFAMPICIN !!\n",
    "\n",
    "fig, axs = plt.subplots(1, 2, figsize=(7.8*cm, 5*cm),sharey=True)\n",
    "plt.subplots_adjust(top=0.9,wspace=0.15,bottom=0.1,right=0.98,left=0.18) \n",
    "\n",
    "styps = [\"Gyr_Rif\",\"Topo_Rif\"]\n",
    "for i, styp in enumerate(styps):\n",
    "    sns.violinplot(data=[binned_sign[styp][\"micro\"],binned_sign[styp][\"macro\"]], ax=axs[i],color='white')\n",
    "    axs[i].set_title(styp_label[styp])  \n",
    "    axs[i].set_xticks([0, 1])\n",
    "    axs[i].set_xticklabels(['Micro', 'Macro'])   \n",
    "    axs[i].set_ylim(-.6,.7)\n",
    "axs[0].set_ylabel(f\"Mean log$_2$ coverage ratio (IP/Mock)\")\n",
    "\n",
    "lines_list = []\n",
    "for sc, scale in enumerate([\"micro\",\"macro\"]) : \n",
    "    for c, exprclass in enumerate(classif_cats) : \n",
    "        for n,styp in enumerate(styps) : \n",
    "            if styp == \"Gyr\" :\n",
    "                pos = mean_aroundTU_binscale[styp][scale][exprclass][\"after\"]/bin_scale\n",
    "            else : \n",
    "                pos = mean_aroundTU_binscale[styp][scale][exprclass][\"before\"]/bin_scale\n",
    "            line = lines.Line2D((sc-0.1, sc+0.1), (pos,pos), color = colors[c],label=labels[c])\n",
    "            axs[n].add_artist(line)\n",
    "\n",
    "plt.savefig(f\"{outdir}distrib_violinplot_Rif_{int(bin_scale/1000)}kb{fig_ext}\",\n",
    "                            transparent=False,facecolor='white')"
   ]
  },
  {
   "cell_type": "markdown",
   "id": "89837c79",
   "metadata": {},
   "source": [
    "## G - Study at macro scale : genomic distribution of the signals"
   ]
  },
  {
   "cell_type": "code",
   "execution_count": 41,
   "id": "e3375256",
   "metadata": {},
   "outputs": [],
   "source": [
    "# positions of the detected borders bins between two CIDs.\n",
    "CID= [8, 29, 44, 88, 102, 152, 196, 229, 239, 260, 317, 334, 359, 369, 420, 451, 476, 505, 544, 579, 598, 633,\n",
    "659, 686, 729, 760, 787, 806, 832, 841, 893]\n",
    "for n,c in enumerate(CID) :\n",
    "    if c*5 > 3423 and c*5 < 4214 :  #genomic inversion between E. coli W3110 and E. coli MG1655\n",
    "        CID[n] = (3424+(4214-c*5))/5\n",
    "noCID = [N for N in range(930) if N not in CID]"
   ]
  },
  {
   "cell_type": "code",
   "execution_count": 42,
   "id": "4724647f",
   "metadata": {},
   "outputs": [
    {
     "data": {
      "image/png": "[encoded data removed]",
      "text/plain": [
       "<Figure size 496.063x340.157 with 4 Axes>"
      ]
     },
     "metadata": {
      "needs_background": "light"
     },
     "output_type": "display_data"
    }
   ],
   "source": [
    "ori = 3925859\n",
    "ter = int(4647500/2)\n",
    "\n",
    "titles = [\"log2(FPKM)\",\"TopoI log2\\ncoverage ratio\",\"Gyrase log2\\ncoverage ratio\",\"GCS coverage\"]\n",
    "fig, ax = plt.subplots(4,1, figsize=(17.5*cm,12*cm), constrained_layout=True,sharex=True)\n",
    "\n",
    "\n",
    "for n,styp in enumerate([\"log2Expr\",\"Topo\",\"Gyr\",\"GCS\"]):\n",
    "    sign = all_signals[styp][\"macro\"]\n",
    "    ax[n].plot(np.concatenate((sign[ori:],sign[:ori])),color = styp_colors[styp])\n",
    "    ax[n].set_ylabel(titles[n])\n",
    "    ax[n].axvline(x=ter,lw = 1,color=\"black\")\n",
    "    if styp in [\"Gyr\",\"Topo\"]:\n",
    "        ax[n].set_yticks(np.arange(-0.3,0.4,0.15))\n",
    "    elif styp == \"log2Expr\" :\n",
    "        ax[n].set_yticks(np.arange(-5,1,1))\n",
    "    elif styp == \"GCS\" :\n",
    "        ax[n].set_yticks(np.arange(0,0.003,0.0005))\n",
    "        ax[n].ticklabel_format(style='sci', axis='y', scilimits=(0,0))\n",
    "\n",
    "for i in np.arange(4) : \n",
    "    for cid in CID : \n",
    "        if cid*5000 < ori :\n",
    "            ax[i].axvline(x=cid*5000+4647500-ori, color = 'darkgray',lw=1,ls=\"--\")\n",
    "        elif cid*5000 > ori : \n",
    "            ax[i].axvline(x=cid*5000-ori, color = 'darkgray', lw=1,ls=\"--\")\n",
    "\n",
    "right_rep = np.arange(0,ter,int(500000))\n",
    "left_rep = [len(all_signals[styp][\"macro\"]) - x for x in np.arange(0,ter,int(500000))][::-1]\n",
    "ax[3].set_xticks(np.concatenate([right_rep,[ter],left_rep]))\n",
    "\n",
    "lab = np.arange(500,int(ter/1000),500)\n",
    "ax[3].set_xticklabels(np.concatenate([[\"ori\"],lab,[\"ter\"],lab[::-1],[\"ori\"]]))\n",
    "\n",
    "plt.xlim(0,len(all_signals[styp][\"macro\"]))   \n",
    "plt.xlabel('Distance from ori (kb)')\n",
    "\n",
    "plt.savefig(f\"{outdir}MacroGyrTopoExpr_genome_ bin{macro_bs}b_smoothing_{int(macro_add_smooth)}_bins_CIDs.svg\",\n",
    "                        transparent=False,facecolor='white')"
   ]
  }
 ],
 "metadata": {
  "kernelspec": {
   "display_name": "Python 3 (ipykernel)",
   "language": "python",
   "name": "python3"
  },
  "language_info": {
   "codemirror_mode": {
    "name": "ipython",
    "version": 3
   },
   "file_extension": ".py",
   "mimetype": "text/x-python",
   "name": "python",
   "nbconvert_exporter": "python",
   "pygments_lexer": "ipython3",
   "version": "3.10.12"
  }
 },
 "nbformat": 4,
 "nbformat_minor": 5
}
