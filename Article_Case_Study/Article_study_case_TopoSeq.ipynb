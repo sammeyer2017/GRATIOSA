{
 "cells": [
  {
   "cell_type": "code",
   "execution_count": 3,
   "id": "3dc9e49b",
   "metadata": {},
   "outputs": [],
   "source": [
    "import pandas as pd\n",
    "import numpy as np\n",
    "import sys\n",
    "sys.path.insert(0, '/home/usr/packages/GRATIOSA/')\n",
    "from scipy import interpolate\n",
    "from scipy.integrate import trapz\n",
    "import matplotlib.pyplot as plt\n",
    "import matplotlib.lines as lines\n",
    "from GRATIOSA import Genome, Chipseq, Transcriptome, GO \n",
    "from GRATIOSA import stat_analysis, plot_stat_analysis, useful_functions_Chipseq\n",
    "from GRATIOSA.globvar import *\n",
    "from scipy import stats\n",
    "cm = 1/2.54  # centimeters in inches\n",
    "outdir = resdir\n",
    "import seaborn as sns\n",
    "import csv"
   ]
  },
  {
   "cell_type": "markdown",
   "id": "1718bd14",
   "metadata": {},
   "source": [
    "# 1 - Data importation and pre-processing"
   ]
  },
  {
   "cell_type": "markdown",
   "id": "f554098c",
   "metadata": {},
   "source": [
    "Genome objects initialization and sequencing loading as attribute"
   ]
  },
  {
   "cell_type": "code",
   "execution_count": 2,
   "id": "f8e7d657",
   "metadata": {},
   "outputs": [],
   "source": [
    "g = Genome.Genome(\"ecoli_W3110_Mu\")\n",
    "g.load_seq()"
   ]
  },
  {
   "cell_type": "markdown",
   "id": "bf6361e6",
   "metadata": {},
   "source": [
    "## A - Transcription Units positions and expressions"
   ]
  },
  {
   "cell_type": "markdown",
   "id": "e5f0258c",
   "metadata": {},
   "source": [
    "### TU loading"
   ]
  },
  {
   "cell_type": "markdown",
   "id": "b2f228c0",
   "metadata": {},
   "source": [
    "Loading of transcription units (TU) data present in the TU folder. Here, we will use the annotation and expression data published by Sutormin et al. "
   ]
  },
  {
   "cell_type": "code",
   "execution_count": 3,
   "id": "0769f351",
   "metadata": {},
   "outputs": [],
   "source": [
    "g.load_TU()\n",
    "allTUs = list(g.TUs[\"TUSutormin\"].keys())"
   ]
  },
  {
   "cell_type": "markdown",
   "id": "0a9b11d0",
   "metadata": {},
   "source": [
    "Selection of TUs containing at least one stable RNAs"
   ]
  },
  {
   "cell_type": "code",
   "execution_count": 4,
   "id": "67bb7221",
   "metadata": {},
   "outputs": [],
   "source": [
    " #TUrtRNA: list of TUs with at least one stable RNA \n",
    "TUrtRNA = [126,  127,  133,  147,  243,  288,  329,  404,  405,  460,  461,\n",
    "           488,  578,  773,  903,  935,  936,  939,  942, 1004, 1050, 1066,\n",
    "           1071, 1164, 1165, 1205, 1266, 1267, 1285, 1347, 1391, 1431, 1432,\n",
    "           1433, 1434, 1435, 1436, 1437, 1439, 1440, 1441, 1497, 1498, 1642,\n",
    "           1699, 1700, 1757, 1758, 1783, 1784, 1808, 1809, 1863, 1864, 1865,\n",
    "           1866, 1868, 1881, 1882, 1950, 1971, 2028, 2059, 2112, 2126, 2128,\n",
    "           2137, 2139, 2140, 2142, 2145, 2152, 2157]\n",
    "TUother = list(set(allTUs) - set(TUrtRNA))\n",
    "\n",
    "# Classification of TU expression data based on the presence of stable RNA\n",
    "TU_expr = {\"rtRNA\":{},\"other\":{}}\n",
    "for ID, TU in g.TUs[\"TUSutormin\"].items():\n",
    "    if ID in TUrtRNA:\n",
    "        TU_expr[\"rtRNA\"][ID] = TU.expression\n",
    "    else : \n",
    "        TU_expr[\"other\"][ID] = TU.expression"
   ]
  },
  {
   "cell_type": "markdown",
   "id": "97c8e32a",
   "metadata": {},
   "source": [
    "### TU classification in expression classes"
   ]
  },
  {
   "cell_type": "markdown",
   "id": "0da25e34",
   "metadata": {},
   "source": [
    " TU classification according to their expression level with chosen class sizes\n",
    " * classif_TUs[0] is a dictionary containing the TU names for each class\n",
    " * classif_TUs[1] is a dictionary containing the expression values for each class\n",
    " * class_means is a dictionary containing the average expression of the TUs for each class"
   ]
  },
  {
   "cell_type": "code",
   "execution_count": 5,
   "id": "38904edc",
   "metadata": {},
   "outputs": [
    {
     "name": "stdout",
     "output_type": "stream",
     "text": [
      "ME: 1300 elements\n",
      "4: 200 elements\n",
      "3: 200 elements\n",
      "2: 200 elements\n",
      "1: 200 elements\n"
     ]
    }
   ],
   "source": [
    "classif_TUs = stat_analysis.data_classification(\n",
    "    data_x=TU_expr[\"other\"].keys(),\n",
    "    data_y=TU_expr[\"other\"].values(),\n",
    "    class_nb=5,\n",
    "    class_names=[\"ME\", 4, 3, 2, 1],\n",
    "    class_sizes=[len(TUother)-800, 200, 200, 200, 200]\n",
    ")\n",
    "\n",
    "classif_TUs[0][\"rtRNA\"]=list(TU_expr[\"rtRNA\"].keys())\n",
    "classif_TUs[1][\"rtRNA\"]=list(TU_expr[\"rtRNA\"].values())\n",
    "\n",
    "class_means = {}\n",
    "for exprclass in [1,2,3,4,\"ME\"]:\n",
    "    class_means[exprclass] = np.mean([np.log2(x) for x in classif_TUs[1][exprclass] if x != 0])"
   ]
  },
  {
   "cell_type": "code",
   "execution_count": 6,
   "id": "d4f7a323",
   "metadata": {},
   "outputs": [
    {
     "data": {
      "image/png": "[encoded data removed]",
      "text/plain": [
       "<Figure size 113.386x113.386 with 1 Axes>"
      ]
     },
     "metadata": {
      "needs_background": "light"
     },
     "output_type": "display_data"
    }
   ],
   "source": [
    "cat_colors = [\"blue\", \"dodgerblue\", \"limegreen\", \"orange\", \"red\"]\n",
    "fig, ax = plt.subplots(figsize=(4*cm, 4*cm))\n",
    "ax.bar([str(c) for c in class_means.keys()], class_means.values(),\n",
    "       color='white', edgecolor=cat_colors, width=0.6, linewidth=1)\n",
    "ax.set_ylim(-0.5, 7.2)\n",
    "ax.set_ylabel(\"log$_2$(FPKM)\")\n",
    "ax.axhline(0, color=\"black\", lw=1)\n",
    "ax.set_yticks(np.arange(0, 8, 2))\n",
    "plt.tight_layout()"
   ]
  },
  {
   "cell_type": "markdown",
   "id": "b919ca75",
   "metadata": {},
   "source": [
    "TU classification in expression deciles\n",
    " * classif_TUs[0] is a dictionary containing the TU names for each class\n",
    " * classif_TUs[1] is a dictionary containing the expression values for each class"
   ]
  },
  {
   "cell_type": "code",
   "execution_count": 7,
   "id": "3ec19e25",
   "metadata": {},
   "outputs": [
    {
     "name": "stdout",
     "output_type": "stream",
     "text": [
      "Performing the classification in the following classes:\n",
      "0: from 0.0 to 0.2219460405665605\n",
      "1: from 0.2228635134981604 to 0.5004320721857773\n",
      "2: from 0.5006399528507197 to 0.983472590568697\n",
      "3: from 0.9931627185897828 to 1.799746695169979\n",
      "4: from 1.8003913626035322 to 3.0709541322556704\n",
      "5: from 3.0768155202341028 to 4.984718475437905\n",
      "6: from 4.993359039494553 to 8.103959961281214\n",
      "7: from 8.105314740027312 to 15.844014036290488\n",
      "8: from 15.868638890337257 to 37.766937523681115\n",
      "9: from 37.952086050606454 to 1522.949849756477\n",
      "0: 210 elements\n",
      "1: 210 elements\n",
      "2: 210 elements\n",
      "3: 210 elements\n",
      "4: 210 elements\n",
      "5: 210 elements\n",
      "6: 210 elements\n",
      "7: 210 elements\n",
      "8: 210 elements\n",
      "9: 210 elements\n"
     ]
    }
   ],
   "source": [
    "classif_deciles = stat_analysis.data_classification(\n",
    "    data_x=TU_expr[\"other\"].keys(),\n",
    "    data_y=TU_expr[\"other\"].values(),\n",
    "    class_nb=10\n",
    ")\n",
    "\n",
    "classif_deciles[0][\"rtRNA\"]=list(TU_expr[\"rtRNA\"].keys())\n",
    "classif_deciles[1][\"rtRNA\"]=list(TU_expr[\"rtRNA\"].values())"
   ]
  },
  {
   "cell_type": "markdown",
   "id": "9247d38a",
   "metadata": {},
   "source": [
    "### Conversion of expression data to an expression signal"
   ]
  },
  {
   "cell_type": "code",
   "execution_count": 8,
   "id": "de7585b8",
   "metadata": {},
   "outputs": [],
   "source": [
    "# Create a dictionary to store expressions for each position\n",
    "expr_pos = {p: [] for p in range(g.length)}\n",
    "\n",
    "# Fill the dictionary with expressions\n",
    "for ID, Tn in g.TUs[\"TUSutormin\"].items():\n",
    "    for p in np.arange(Tn.start, Tn.end):\n",
    "        expr_pos[p].append(Tn.expression)"
   ]
  },
  {
   "cell_type": "code",
   "execution_count": 9,
   "id": "f6aac182",
   "metadata": {},
   "outputs": [],
   "source": [
    "all_signals = {}\n",
    "# Calculate the average expression for each position\n",
    "expr_signal = [np.mean(expr_pos[p]) if len(expr_pos[p]) > 0 else 0 for p in range(g.length)]\n",
    "all_signals['Expr'] = {\"raw\" : expr_signal[:g.length-1]}\n",
    "\n",
    "# Calculate the min average expression level \n",
    "min_expr = min([e for e in expr_signal if e != 0])\n",
    "\n",
    "# Calculate the log2 average expression for each position\n",
    "log2expr_signal = [np.log2(e) if e != 0 else np.log2(min_expr) for e in expr_signal]\n",
    "all_signals['log2Expr'] = {\"raw\" : log2expr_signal[:g.length-1]}"
   ]
  },
  {
   "cell_type": "markdown",
   "id": "0d31b95b",
   "metadata": {},
   "source": [
    "## B - Gyrase and topoI signals\n",
    "\n",
    "Chipseq-type signals will be loaded as attributes of the Chipseq object.\n",
    "This object must first be initialized."
   ]
  },
  {
   "cell_type": "code",
   "execution_count": 10,
   "id": "f6b714ec",
   "metadata": {},
   "outputs": [],
   "source": [
    "ch = Chipseq.Chipseq(\"ecoli_W3110_Mu\")"
   ]
  },
  {
   "cell_type": "markdown",
   "id": "30d67f77",
   "metadata": {},
   "source": [
    "### Loading and averaging of TopoI and Gyrase signal replicates"
   ]
  },
  {
   "cell_type": "code",
   "execution_count": 11,
   "id": "df62373a",
   "metadata": {},
   "outputs": [
    {
     "name": "stdout",
     "output_type": "stream",
     "text": [
      "Topo\n",
      "loading the file obtained with the following parameters:\n",
      "\n",
      "Name: Topo_smooth500b\n",
      "\n",
      " Replicates: ['Sutormin_shift_TopoI_R1', 'Sutormin_shift_TopoI_R2', 'Sutormin_shift_TopoI_R3']\n",
      "\n",
      " Data treatment: smoothing\n",
      "\n",
      " Size (window or bin, in b): 500\n",
      "\n",
      "Please change 'average_name' to use other signals\n",
      "Gyr\n",
      "loading the file obtained with the following parameters:\n",
      "\n",
      "Name: Gyr_smooth500b\n",
      "\n",
      " Replicates: ['Sutormin_shift_Gyrase_R1', 'Sutormin_shift_Gyrase_R2']\n",
      "\n",
      " Data treatment: smoothing\n",
      "\n",
      " Size (window or bin, in b): 500\n",
      "\n",
      "Please change 'average_name' to use other signals\n"
     ]
    }
   ],
   "source": [
    "raw_smoothing = 500  # smoothing window size for the raw signal\n",
    "cond = {\"Topo\" : [\"Sutormin_shift_TopoI_R1\",\"Sutormin_shift_TopoI_R2\",\"Sutormin_shift_TopoI_R3\"],\n",
    "        \"Gyr\" : ['Sutormin_shift_Gyrase_R1', 'Sutormin_shift_Gyrase_R2']} # replicates cond name\n",
    "\n",
    "for styp in [\"Topo\",\"Gyr\"] : \n",
    "    all_signals[styp] = {}\n",
    "    print(styp)\n",
    "    # raw signal loading : performs the average between cond replicates and load this average as a Chipseq attribute\n",
    "    ch.load_signals_average(list_cond=cond[styp],\n",
    "                            average_name=f\"{styp}_smooth{raw_smoothing}b\",\n",
    "                            data_treatment = \"smoothing\",\n",
    "                            window=raw_smoothing)\n",
    "    all_signals[styp][\"raw\"] = ch.signals_average[f\"{styp}_smooth{raw_smoothing}b\"][:g.length-1]"
   ]
  },
  {
   "cell_type": "markdown",
   "id": "eea0b4d9",
   "metadata": {},
   "source": [
    "### Loading of gyrase clivage sites and conversion as a signal"
   ]
  },
  {
   "cell_type": "code",
   "execution_count": 12,
   "id": "4543209c",
   "metadata": {},
   "outputs": [],
   "source": [
    "GCS= []\n",
    "with open('/home/maiwenn/these/Chipseq_HiC_Psoralen/Gyrase/GCs_Cfx.csv', 'r') as f:\n",
    "    file = csv.reader(f)\n",
    "    next(file)\n",
    "    for line in file:\n",
    "        gcs = int(line[0])\n",
    "        GCS.append(gcs)\n",
    "signalGCS = np.zeros(g.length-1) # Initialize each genomic posiiton with the value 0\n",
    "signalGCS[GCS] = 1  # Assign 1 to each gyrase clivage site genomic position\n",
    "all_signals[\"GCS\"]={\"raw\":signalGCS}"
   ]
  },
  {
   "cell_type": "markdown",
   "id": "8d0bc6fd",
   "metadata": {},
   "source": [
    "# 2 - Study at 2 scales : micro and macro "
   ]
  },
  {
   "cell_type": "markdown",
   "id": "23983785",
   "metadata": {},
   "source": [
    "## A - Macro signal settings choice\n",
    "The macro signal is obtained in 2 steps:\n",
    "* The raw signal is first averaged per bin of chosen size (set with the macro_bs parameter).\n",
    "* The signal per bin is then smoothed by averaging over sliding windows of chosen sizes (set with the macro_add_smooth parameter).\n",
    "The first step (binning) primarily serves to minimize the computation time required for smoothing (second step)."
   ]
  },
  {
   "cell_type": "code",
   "execution_count": 13,
   "id": "c5c951b0",
   "metadata": {},
   "outputs": [],
   "source": [
    "macro_bs = 100 # in b\n",
    "macro_add_smooth = int(200000/macro_bs) # in b\n",
    "study_ws = 50000 # the highest window size around the TU that will be use in this study (in b)"
   ]
  },
  {
   "cell_type": "markdown",
   "id": "8f11efd0",
   "metadata": {},
   "source": [
    "## B - Macro and micros signals computing\n",
    "\n",
    "The micro signal is obtained by subtracting the macro signal from the raw signal."
   ]
  },
  {
   "cell_type": "code",
   "execution_count": 14,
   "id": "dc3772b2",
   "metadata": {},
   "outputs": [
    {
     "name": "stdout",
     "output_type": "stream",
     "text": [
      "loading the file obtained with the following parameters:\n",
      "\n",
      "Name: Topo_bin100b\n",
      "\n",
      " Replicates: ['Sutormin_shift_TopoI_R1', 'Sutormin_shift_TopoI_R2', 'Sutormin_shift_TopoI_R3']\n",
      "\n",
      " Data treatment: binning\n",
      "\n",
      " Size (window or bin, in b): 100\n",
      "\n",
      "Please change 'average_name' to use other signals\n",
      "loading the file obtained with the following parameters:\n",
      "\n",
      "Name: Gyr_bin100b\n",
      "\n",
      " Replicates: ['Sutormin_shift_Gyrase_R1', 'Sutormin_shift_Gyrase_R2']\n",
      "\n",
      " Data treatment: binning\n",
      "\n",
      " Size (window or bin, in b): 100\n",
      "\n",
      "Please change 'average_name' to use other signals\n"
     ]
    }
   ],
   "source": [
    "for styp in [\"Topo\",\"Gyr\",\"Expr\",\"log2Expr\",\"GCS\"] :\n",
    "    #macro signal\n",
    "    if styp in [\"Topo\",\"Gyr\"] : \n",
    "        ch.load_signals_average(list_cond=cond[styp],\n",
    "                                average_name=f\"{styp}_bin{macro_bs}b\",\n",
    "                                data_treatment = \"binning\",\n",
    "                                binsize=macro_bs)\n",
    "        binned_signal = ch.signals_average[f\"{styp}_bin{macro_bs}b\"]\n",
    "        signal_per_bin = binned_signal[np.arange(0,len(binned_signal)+1,macro_bs)]\n",
    "          \n",
    "    else : \n",
    "        signal_per_bin = useful_functions_Chipseq.binning(all_signals[styp][\"raw\"],macro_bs)[0]\n",
    "    \n",
    "    macro_smoo_sign_per_bin = useful_functions_Chipseq.smoothing(signal_per_bin,macro_add_smooth)\n",
    "    all_signals[styp][\"macro\"] = np.array(np.repeat(macro_smoo_sign_per_bin, macro_bs))[:g.length-1]\n",
    "    \n",
    "    #micro signal\n",
    "    all_signals[styp][\"micro\"] = all_signals[styp][\"raw\"] - all_signals[styp][\"macro\"]"
   ]
  },
  {
   "cell_type": "markdown",
   "id": "2cdff539",
   "metadata": {},
   "source": [
    "# C - Mean signal around the TU \n",
    "Compute the mean signal around the TU for each expression class, each signal type (TopoI, Gyr and Expr) and each scale (raw, micro and macro)"
   ]
  },
  {
   "cell_type": "code",
   "execution_count": 15,
   "id": "b716d975",
   "metadata": {},
   "outputs": [
    {
     "name": "stdout",
     "output_type": "stream",
     "text": [
      "Working at micro scale...\n",
      "... with Gyr signal\n",
      "... with Topo signal\n",
      "... with Expr signal\n",
      "... with log2Expr signal\n",
      "Working at macro scale...\n",
      "... with Gyr signal\n",
      "... with Topo signal\n",
      "... with Expr signal\n",
      "... with log2Expr signal\n",
      "Working at raw scale...\n",
      "... with Gyr signal\n",
      "... with Topo signal\n",
      "... with Expr signal\n",
      "... with log2Expr signal\n"
     ]
    }
   ],
   "source": [
    "means_TU = {}\n",
    "\n",
    "for scale in [\"micro\",\"macro\",\"raw\"] :\n",
    "    print(f\"Working at {scale} scale...\")\n",
    "    means_TU[scale] = {}\n",
    "    \n",
    "    for styp in [\"Gyr\",\"Topo\",\"Expr\",\"log2Expr\"] : \n",
    "        print(f\"... with {styp} signal\")\n",
    "        sign = all_signals[styp][scale]\n",
    "        means_TU[scale][styp] = {}\n",
    "        \n",
    "        # Loop over each TU of each expression class\n",
    "        for exprclass in classif_TUs[0].keys() :\n",
    "            \n",
    "            interpolsignal = {}\n",
    "            for ID in classif_TUs[0][exprclass] : \n",
    "\n",
    "                TU = g.TUs[\"TUSutormin\"][ID]\n",
    "                # Define the start and end of the window around the TU\n",
    "                w_start = TU.start - study_ws\n",
    "                w_end = TU.end + study_ws\n",
    "\n",
    "                # Initialize a dictionary to store signals for each signal type (\"Gyr\" and \"Topo\")\n",
    "                g_signals = {}\n",
    "\n",
    "                # If the window extends beyond the start or end of the genome, wrap around to the other side\n",
    "                if w_start < 0:\n",
    "                    TUsignal = np.concatenate((sign[g.length + w_start - 1:],sign[:w_end]))\n",
    "                elif w_end > g.length:\n",
    "                    TUsignal = np.concatenate((sign[w_start:],sign[:w_end - g.length + 1]))\n",
    "                else:\n",
    "                    TUsignal = sign[w_start:w_end]\n",
    "\n",
    "                # If the TU is on the negative strand, flip the signals\n",
    "                if not TU.strand: \n",
    "                    TUsignal = np.flip(TUsignal)\n",
    "\n",
    "                # Interpolate the signal within the window to 2000 points \n",
    "                inTU_sign = TUsignal[study_ws:-study_ws]\n",
    "                f = interpolate.interp1d(np.arange(len(inTU_sign)), inTU_sign)           \n",
    "                inTU_sign = f(np.linspace(0,len(inTU_sign)-1,num = 2000))   \n",
    "                interpolsignal[ID] = np.concatenate((TUsignal[:study_ws], inTU_sign,TUsignal[-study_ws:]))\n",
    "            \n",
    "            df_sign = pd.DataFrame(interpolsignal)\n",
    "            \n",
    "            mean_sign = df_sign.mean(axis = 1)\n",
    "            \n",
    "            means_TU[scale][styp][exprclass] = {\"all\": mean_sign,\n",
    "                                                \"before\": mean_sign[:study_ws],\n",
    "                                                \"after\": mean_sign[-study_ws:]}"
   ]
  },
  {
   "cell_type": "markdown",
   "id": "25319fa5",
   "metadata": {},
   "source": [
    "# 3 - Stat analysis and graphical representations"
   ]
  },
  {
   "cell_type": "markdown",
   "id": "c9290677",
   "metadata": {},
   "source": [
    "## A - Graphic parameters"
   ]
  },
  {
   "cell_type": "code",
   "execution_count": 16,
   "id": "ee9142ad",
   "metadata": {},
   "outputs": [],
   "source": [
    "plt.rcParams.update({'font.size': 8,\n",
    "                     'font.family': \"Arial\",\n",
    "                     'xtick.labelsize': 8,\n",
    "                     'ytick.labelsize': 8,\n",
    "                     'axes.labelsize': 9,\n",
    "                     'axes.titlesize': 10})\n",
    "fig_ext = \".svg\""
   ]
  },
  {
   "cell_type": "markdown",
   "id": "cd090b68",
   "metadata": {},
   "source": [
    "Define a list of colors and labels for the expression categories"
   ]
  },
  {
   "cell_type": "code",
   "execution_count": 44,
   "id": "806f7e2e",
   "metadata": {},
   "outputs": [],
   "source": [
    "classif_cats = ['rtRNA', 1, 2,3,4,'ME']\n",
    "colors = [\"black\",\"blue\", \"dodgerblue\", \"limegreen\", \"orange\",\"red\"]\n",
    "lme = len(classif_TUs[0][\"ME\"]) # get the number of TUs classified as \"ME\"\n",
    "labels = [\"rtRNA TUs\",\"0 - 200 HETUs\",\"200 - 400 HETUs\",\n",
    "          \"400 - 600 HETUs\",\"600 - 800 HETUs\",f\"Other TUs ({lme} TUs)\"]\n",
    "labels_short = [\"rtRNA\\nTUs\",\"0 - 200\\nHETUs\",\"200 - 400\\nHETUs\",\n",
    "                \"400 - 600\\nHETUs\",\"600 - 800\\nHETUs\",f\"Other TUs\"]"
   ]
  },
  {
   "cell_type": "markdown",
   "id": "97db5f84",
   "metadata": {},
   "source": [
    "Define a list of colors and labels for the signal types"
   ]
  },
  {
   "cell_type": "code",
   "execution_count": 18,
   "id": "7ed42754",
   "metadata": {},
   "outputs": [],
   "source": [
    "styp_colors = {\"Gyr\" : \"black\", \"GCS\" : \"black\",\"Topo\" : \"darkgoldenrod\",\"Expr\" : \"gray\",\"log2Expr\" : \"gray\"  }\n",
    "styp_label = {\"Gyr\":\"Gyrase\",\"Topo\":\"Topoisomerase I\",\"Expr\":\"FPKM\",\"log2Expr\":\"log2(FPKM)\"}"
   ]
  },
  {
   "cell_type": "markdown",
   "id": "055d88a8",
   "metadata": {},
   "source": [
    "## B - Plot around the TU "
   ]
  },
  {
   "cell_type": "code",
   "execution_count": 19,
   "id": "9a5e02e5",
   "metadata": {},
   "outputs": [
    {
     "data": {
      "image/png": "[encoded data removed]",
      "text/plain": [
       "<Figure size 221.102x212.598 with 2 Axes>"
      ]
     },
     "metadata": {
      "needs_background": "light"
     },
     "output_type": "display_data"
    }
   ],
   "source": [
    "scale = \"raw\"\n",
    "styps = [\"Topo\", \"Gyr\"]\n",
    "plot_ws =  10000 #window size for the plot, has to be less or equal to study_ws !\n",
    "\n",
    "# Create a figure with 2 subplots (1 per signal type)\n",
    "fig, ax = plt.subplots(2,1, figsize=(7.8*cm,7.5*cm))\n",
    "fig.subplots_adjust(hspace=0.1, left=0.22, right=0.95, bottom=0.33, top=0.99)\n",
    "\n",
    "# Create an array with indices for the x-axis\n",
    "x = range(plot_ws*2+2000)\n",
    "tick_interval = int(min([2500,5000,10000,20000], key=lambda x: abs(x - plot_ws/5)))\n",
    "ticks_before = np.arange(0,int(plot_ws),tick_interval)\n",
    "ticks_after = np.arange(plot_ws+2000+tick_interval,2*plot_ws+2000+tick_interval,tick_interval)\n",
    "\n",
    "for p, styp in enumerate(styps):\n",
    "    # Loop over the expression categories and plot their mean TU signals\n",
    "    for ec, exprclass in enumerate(classif_cats):\n",
    "        if -study_ws+plot_ws == 0 :\n",
    "            ax[p].plot(x, means_TU[scale][styp][exprclass][\"all\"][study_ws-plot_ws:], label=labels[ec], c=colors[ec], lw=0.7)\n",
    "        else : \n",
    "            ax[p].plot(x, means_TU[scale][styp][exprclass][\"all\"][study_ws-plot_ws:-study_ws+plot_ws], label=labels[ec], c=colors[ec], lw=0.7)\n",
    "                \n",
    "    # Add a horizontal line at y=0, a vertical line at the start of the TU,\n",
    "    # and another one at the end of the TU\n",
    "    ax[p].axhline(0, color='black', lw=1)\n",
    "    ax[p].set_xlim(0, plot_ws*2+2000)\n",
    "    ax[p].axvline(plot_ws, color='grey', ls='--', lw=0.5)\n",
    "    ax[p].axvline(plot_ws+2000, color='grey', ls='--', lw=0.5)\n",
    "\n",
    "# Set the axis and ticks labels\n",
    "    ax[p].set_ylabel(styp_label[styp], fontsize=9)\n",
    "    ax[p].set_xticks(np.concatenate((ticks_before,[plot_ws,plot_ws+2000],ticks_after)))\n",
    "\n",
    "ax[1].set_xlabel(\"distance (kb)\", fontsize=7)\n",
    "ax[0].set_yticks(np.arange(0, 2, 0.5))\n",
    "ax[1].set_yticks(np.arange(-0.5, 0.75, 0.25))\n",
    "ax[0].set_xticklabels([])\n",
    "ax[1].set_xticklabels(np.concatenate(((ticks_before-plot_ws)/1000,\n",
    "                ['$TU_s$','$TU_e$'],\n",
    "                (ticks_after-plot_ws-2000)/1000)))\n",
    "fig.text(0.00, 0.65, 'log$_2$ coverage ratio (IP/Mock)', va='center', rotation='vertical',fontsize = 10)\n",
    "            \n",
    "# Set the legend\n",
    "handles, labels = ax[0].get_legend_handles_labels()\n",
    "fig.legend(handles, labels,handlelength=1.5,loc='lower center',ncol=2)\n",
    "\n",
    "plt.savefig(f\"{outdir}{scale}_signaux_{styps[0]}_{styps[1]}_{int(plot_ws/1000)}kb{fig_ext}\",\n",
    "            transparent=False,facecolor='white')"
   ]
  },
  {
   "cell_type": "markdown",
   "id": "3a10ed41",
   "metadata": {},
   "source": [
    "## C - Average signals per expression deciles in, before and after the TU"
   ]
  },
  {
   "cell_type": "markdown",
   "id": "e40cf2fe",
   "metadata": {},
   "source": [
    "#### Compute TopoI and Gyrase mean signals per expression deciles"
   ]
  },
  {
   "cell_type": "code",
   "execution_count": 20,
   "id": "2aa1b168",
   "metadata": {},
   "outputs": [],
   "source": [
    "# Define the window size before and after the TU\n",
    "ws = 10000\n",
    "scale = \"raw\"\n",
    "signal_per_exprclass = {}\n",
    "\n",
    "for s in [\"Gyr\",\"Topo\"] : \n",
    "    \n",
    "    # Initialize dictionary to store results by signal type (\"Gyr\" and \"Topo\")\n",
    "    # and region relative to the TU (\"before\",\"in\",\"after\")\n",
    "    signal_per_exprclass[s] = {}\n",
    "    for pos in [\"before\",\"in\",\"after\"]:\n",
    "        signal_per_exprclass[s][pos] = {}\n",
    "        for i in classif_deciles[0].keys() : \n",
    "            signal_per_exprclass[s][pos][i] = []\n",
    "            \n",
    "    # Loop over each TU of each expression decile to compute the average signal for each \n",
    "    # signal type and each region\n",
    "    for i in classif_deciles[0].keys() : \n",
    "        for ID in classif_deciles[0][i] :\n",
    "            TU = g.TUs[\"TUSutormin\"][ID]\n",
    "\n",
    "            signal_per_exprclass[s][\"in\"][i].append(np.mean(all_signals[s][scale][TU.start:TU.end]))\n",
    "            if TU.strand :\n",
    "                signal_per_exprclass[s][\"after\"][i].append(np.mean(all_signals[s][scale][TU.end:TU.end+ws]))\n",
    "                if ws <= TU.start : \n",
    "                    signal_per_exprclass[s][\"before\"][i].append(np.mean(all_signals[s][scale][TU.start-ws:TU.start]))\n",
    "                # If the window extends beyond the start of the genome, wrap around to the other side\n",
    "                elif ws > TU.start : \n",
    "                    diff = ws - TU.start\n",
    "                    sign = np.concatenate([all_signals[s][scale][:TU.start],all_signals[s][scale][-diff:]])\n",
    "                    signal_per_exprclass[s][\"before\"][i].append(np.mean(sign))\n",
    "\n",
    "            else :\n",
    "                signal_per_exprclass[s][\"before\"][i].append(np.mean(all_signals[s][scale][TU.end:TU.end+ws]))\n",
    "                if ws <= TU.start : \n",
    "                    signal_per_exprclass[s][\"after\"][i].append(np.mean(all_signals[s][scale][TU.start-ws:TU.start]))\n",
    "                # If the window extends beyond the start of the genome, wrap around to the other side\n",
    "                elif ws > TU.start : \n",
    "                    diff = ws - TU.start\n",
    "                    sign = np.concatenate([all_signals[s][scale][:TU.start],all_signals[s][scale][-diff:]])\n",
    "                    signal_per_exprclass[s][\"after\"][i].append(np.mean(sign))"
   ]
  },
  {
   "cell_type": "markdown",
   "id": "d8920f55",
   "metadata": {},
   "source": [
    "Expression values per expression deciles"
   ]
  },
  {
   "cell_type": "code",
   "execution_count": 21,
   "id": "b29d4183",
   "metadata": {},
   "outputs": [],
   "source": [
    "signal_per_exprclass[\"expr\"] = {}\n",
    "signal_per_exprclass[\"expr\"][\"in\"] = classif_deciles[1]"
   ]
  },
  {
   "cell_type": "markdown",
   "id": "385e42a1",
   "metadata": {},
   "source": [
    "#### Student test to get all means and confidence intervals"
   ]
  },
  {
   "cell_type": "code",
   "execution_count": 22,
   "id": "e107e43b",
   "metadata": {},
   "outputs": [
    {
     "name": "stdout",
     "output_type": "stream",
     "text": [
      "Results saved in /home/maiwenn/these/resdir/Gyr_raw_before_TU_exprdeciles\n",
      "Results saved in /home/maiwenn/these/resdir/Gyr_raw_in_TU_exprdeciles\n",
      "Results saved in /home/maiwenn/these/resdir/Gyr_raw_after_TU_exprdeciles\n",
      "Results saved in /home/maiwenn/these/resdir/Topo_raw_before_TU_exprdeciles\n",
      "Results saved in /home/maiwenn/these/resdir/Topo_raw_in_TU_exprdeciles\n",
      "Results saved in /home/maiwenn/these/resdir/Topo_raw_after_TU_exprdeciles\n",
      "Results saved in /home/maiwenn/these/resdir/expr_raw_in_TU_exprdeciles\n"
     ]
    }
   ],
   "source": [
    "res = {}\n",
    "for s in [\"Gyr\",\"Topo\",\"expr\"] : \n",
    "    res[s] = {}\n",
    "    for pos in signal_per_exprclass[s].keys():\n",
    "        res[s][pos]=stat_analysis.quantitative_data_student_test(\n",
    "            signal_per_exprclass[s][pos],\n",
    "            output_dir=outdir,\n",
    "            output_file=f\"{s}_{scale}_{pos}_TU_exprdeciles\")           "
   ]
  },
  {
   "cell_type": "markdown",
   "id": "feaa90c6",
   "metadata": {},
   "source": [
    "#### Graphical representation \n",
    "with one subplot for each location (before the TU, within the TU, and after the TU). The y-axis is discontinuous to highlight extreme values. The gyrase and topoI signals share the same axis, while the expression signal has its own axis.\n",
    "\n",
    "\n",
    "\n",
    "\n"
   ]
  },
  {
   "cell_type": "code",
   "execution_count": 45,
   "id": "86f423c6",
   "metadata": {
    "scrolled": true
   },
   "outputs": [
    {
     "data": {
      "image/png": "[encoded data removed]",
      "text/plain": [
       "<Figure size 496.063x180 with 8 Axes>"
      ]
     },
     "metadata": {
      "needs_background": "light"
     },
     "output_type": "display_data"
    }
   ],
   "source": [
    "# Define categories and labels\n",
    "expr_cats = res['Gyr']['before']['categories']\n",
    "categories = ['before', 'in', 'after']\n",
    "labels_cats = list(np.arange(1, 11)) + ['rt\\nRNA']\n",
    "legend_cats = [f'{int(ws/1000)} kb before TU', 'inside TU', f'{int(ws/1000)} kb after TU']\n",
    "p = np.arange(len(expr_cats))\n",
    "\n",
    "# Create subplots with 2 rows and 3 columns\n",
    "fig, ax = plt.subplots(2, 3, figsize=(17.5/2.54, 2.5), sharex=True, gridspec_kw={'height_ratios': [1, 3]})\n",
    "fig.subplots_adjust(hspace=0.06, wspace=0.5, left=0.07, right=0.98, bottom=0.20)\n",
    "\n",
    "# Loop through subplots\n",
    "for a in [0, 1]:\n",
    "    for i, c in enumerate(categories):\n",
    "        for styp, s in enumerate([\"Topo\", \"Gyr\"]):\n",
    "            # Get means and confidence intervals\n",
    "            means = res[s][c]['means']\n",
    "            ci = np.zeros((2, len(expr_cats)))\n",
    "            for ca in np.arange(len(expr_cats)):\n",
    "                ci[0, ca] = means[ca] - res[s][c][\"confidence intervals\"][ca][0]\n",
    "                ci[1, ca] = res[s][c][\"confidence intervals\"][ca][1] - means[ca]\n",
    "\n",
    "            # Plot means with error bars\n",
    "            ax[a, i].plot(p, means, '-o', label=styp_label[s], lw=1, markersize=3, color=styp_colors[s])\n",
    "            ax[a, i].errorbar(p, means, yerr=ci, capsize=1.5, elinewidth=0.5, capthick=0.5, fmt=\"none\", color=colors[styp])\n",
    "\n",
    "        ax[0, i].set_title(legend_cats[i])\n",
    "        ax[0, i].set_xticks(p)\n",
    "        ax[0, i].set_ylim(1.3, 1.7)\n",
    "        ax[1, i].set_ylim(-0.3, 0.9)\n",
    "\n",
    "        # Hide spines between ax and ax2\n",
    "        ax[0, i].spines.bottom.set_visible(False)\n",
    "        ax[1, i].spines.top.set_visible(False)\n",
    "        ax[a, i].tick_params(labeltop=False)  \n",
    "        ax[a, i].xaxis.tick_bottom()\n",
    "        ax[0, i].tick_params(axis='x', colors='white')      \n",
    "       \n",
    "        d = .5 \n",
    "        kwargs = dict(marker=[(-1, -d), (1, d)], markersize=12,\n",
    "              linestyle=\"none\", color='k', mec='k', mew=1, clip_on=False)\n",
    "        ax[0, i].plot([0, 1], [0, 0], transform=ax[0, i].transAxes, **kwargs)\n",
    "        ax[1, i].plot([0, 1], [1, 1], transform=ax[1, i].transAxes, **kwargs)\n",
    "\n",
    "        # Set labels and ticks\n",
    "        ax[1, i].set_xlabel('Expression decile', labelpad=-5)\n",
    "        ax[0, i].set_xticklabels(labels_cats)\n",
    "        ax[1, i].set_yticks(np.arange(-0.25, 1, 0.25))\n",
    "        ax[0, i].set_yticks(np.arange(1.4, 1.7, 0.25))\n",
    "        ax[1, i].set_ylabel(\"log$_2$ coverage ratio (IP/Mock)\", labelpad=-3)\n",
    "        \n",
    "        \n",
    "        ax[1, i].axhline(y=0, lw=0.3, c=\"black\")\n",
    "\n",
    "# Extract mean expression data\n",
    "means = res['expr']['in']['means']\n",
    "ci = np.zeros((2, len(expr_cats)))\n",
    "\n",
    "for ca in np.arange(len(expr_cats) - 1):\n",
    "    ci[0, ca] = means[ca] - res['expr']['in'][\"confidence intervals\"][ca][0]\n",
    "    ci[1, ca] = res['expr']['in'][\"confidence intervals\"][ca][1] - means[ca]\n",
    "\n",
    "# Create twin axes to plot TU Expression data\n",
    "axbis = ax[1, 1].twinx()\n",
    "axbis.spines.bottom.set_visible(False)\n",
    "axbis.spines.top.set_visible(False)        \n",
    "axbis.plot(p[:-1], means[:-1], '-o', label='TU Expression', lw=1, color=styp_colors[\"Expr\"], markersize=3)\n",
    "axbis.set_ylim(-2, 34)\n",
    "axbis.errorbar(p, means, yerr=ci, ecolor=styp_colors[\"Expr\"], capsize=1.5, elinewidth=0.5, capthick=0.5, fmt=\"none\")\n",
    "axbis.set_ylabel(f'           FPKM', labelpad=5)\n",
    "\n",
    "axhaut = ax[0, 1].twinx()\n",
    "axhaut.spines.bottom.set_visible(False)\n",
    "axhaut.spines.top.set_visible(False)        \n",
    "axhaut.plot(p[:-1], means[:-1], '-o', label='TU Expression', lw=1, color=\"gray\", markersize=3)\n",
    "axhaut.set_ylim(120, 180)\n",
    "axhaut.errorbar(p, means, yerr=ci, ecolor=\"gray\", capsize=1.5, elinewidth=0.5, capthick=0.5, fmt=\"none\")\n",
    "\n",
    "# Add legends to the plots\n",
    "lines1, labels1 = ax[0, 0].get_legend_handles_labels()\n",
    "lines2, labels2 = axhaut.get_legend_handles_labels()\n",
    "axhaut.legend(lines1 + lines2, labels1 + labels2, loc='upper left')\n",
    "\n",
    "# Adjust the position of the subplot in the second column\n",
    "for a in [0, 1]:\n",
    "    pos1 = ax[a, 1].get_position()\n",
    "    pos1_new = [pos1.x0 - 0.025, pos1.y0, pos1.width, pos1.height] \n",
    "    ax[a, 1].set_position(pos1_new)\n",
    "\n",
    "# Save the figure \n",
    "plt.savefig(f\"{outdir}{scale}_signals_TUdeciles_{int(ws/1000)}kb{fig_ext}\", transparent=True, facecolor='white')\n"
   ]
  },
  {
   "cell_type": "markdown",
   "id": "9bd69d00",
   "metadata": {},
   "source": [
    "## D - Autocorrelation and correlations"
   ]
  },
  {
   "cell_type": "code",
   "execution_count": 30,
   "id": "1d7b12e0",
   "metadata": {},
   "outputs": [],
   "source": [
    "study_signals = {\"log2Expr\":all_signals[\"log2Expr\"]['raw'],\"Gyr\" : all_signals[\"Gyr\"]['raw'], \"Topo\" : all_signals[\"Topo\"]['raw']}"
   ]
  },
  {
   "cell_type": "markdown",
   "id": "33be7c80",
   "metadata": {},
   "source": [
    "### autocorrelation\n",
    "\n",
    "Compute the pearson coefficient for the correlation between a signal and itself shifted "
   ]
  },
  {
   "cell_type": "code",
   "execution_count": 31,
   "id": "852fd2d4",
   "metadata": {},
   "outputs": [],
   "source": [
    "num=100\n",
    "p,d = {},{}\n",
    "for label, signal in study_signals.items():\n",
    "    p[label] = []\n",
    "    d[label] = []\n",
    "    for a in np.logspace(2, 6, num=num,endpoint=True, base=10.0, dtype=int, axis=0) : \n",
    "        d[label].append(a/1000)\n",
    "        signal_d = np.concatenate((signal[-a:],signal[:-a]))\n",
    "        pear = stats.pearsonr(signal,signal_d)\n",
    "        p[label].append(pear[0])"
   ]
  },
  {
   "cell_type": "markdown",
   "id": "9cbabce6",
   "metadata": {},
   "source": [
    "### correlation\n",
    "\n",
    "For an increasing smoothing window size, compute the pearson coefficient for the correlation between Gyr or TopoI signal and the log2Expr signal. \n",
    "To perform an efficient smoothing, the signal is binned prior to the smoothing. "
   ]
  },
  {
   "cell_type": "code",
   "execution_count": 32,
   "id": "8e7c420f",
   "metadata": {
    "scrolled": true
   },
   "outputs": [
    {
     "name": "stdout",
     "output_type": "stream",
     "text": [
      "loading the file obtained with the following parameters:\n",
      "\n",
      "Name: Topo_bin100b\n",
      "\n",
      " Replicates: ['Sutormin_shift_TopoI_R1', 'Sutormin_shift_TopoI_R2', 'Sutormin_shift_TopoI_R3']\n",
      "\n",
      " Data treatment: binning\n",
      "\n",
      " Size (window or bin, in b): 100\n",
      "\n",
      "Please change 'average_name' to use other signals\n",
      "loading the file obtained with the following parameters:\n",
      "\n",
      "Name: Gyr_bin100b\n",
      "\n",
      " Replicates: ['Sutormin_shift_Gyrase_R1', 'Sutormin_shift_Gyrase_R2']\n",
      "\n",
      " Data treatment: binning\n",
      "\n",
      " Size (window or bin, in b): 100\n",
      "\n",
      "Please change 'average_name' to use other signals\n"
     ]
    }
   ],
   "source": [
    "binsize = 100\n",
    "bin_signals = {}\n",
    "\n",
    "for styp in [\"Topo\",\"Gyr\"]: \n",
    "    ch.load_signals_average(list_cond=cond[styp],\n",
    "                            average_name=f\"{styp}_bin{binsize}b\",\n",
    "                            data_treatment = \"binning\",\n",
    "                            binsize=binsize)\n",
    "    binned_signal = ch.signals_average[f\"{styp}_bin{binsize}b\"]\n",
    "    bin_signals[styp]= binned_signal[np.arange(0,len(binned_signal),binsize)]\n",
    "\n",
    "process_signal = useful_functions_Chipseq.binning(log2expr_signal,binsize)\n",
    "bin_signals[\"log2Expr\"] = process_signal[0]"
   ]
  },
  {
   "cell_type": "code",
   "execution_count": 33,
   "id": "f11d6795",
   "metadata": {},
   "outputs": [],
   "source": [
    "num=100\n",
    "pearson_coef = {\"Topo\":{},\"Gyr\":{}}\n",
    "\n",
    "for i in np.logspace(0, 4, num=num, endpoint=True, base=10.0, dtype=int, axis=0) : \n",
    "    \n",
    "    smoo_Expr = useful_functions_Chipseq.smoothing(bin_signals['log2Expr'],i)\n",
    "    \n",
    "    for styp in [\"Topo\",\"Gyr\"]:         \n",
    "        smoo_sign = useful_functions_Chipseq.smoothing(bin_signals[styp],i) \n",
    "        pearson_coef[styp][i*binsize]= stats.pearsonr(smoo_sign,smoo_Expr)[0]"
   ]
  },
  {
   "cell_type": "markdown",
   "id": "76392ca0",
   "metadata": {},
   "source": [
    "#### Graphical representation"
   ]
  },
  {
   "cell_type": "code",
   "execution_count": 34,
   "id": "25647ad5",
   "metadata": {},
   "outputs": [
    {
     "data": {
      "image/png": "[encoded data removed]",
      "text/plain": [
       "<Figure size 221.102x170.079 with 2 Axes>"
      ]
     },
     "metadata": {
      "needs_background": "light"
     },
     "output_type": "display_data"
    }
   ],
   "source": [
    "# Create a figure with 1 row and 2 columns of subplots\n",
    "fig, axs = plt.subplots(1, 2, figsize=(7.8*cm, 6*cm))\n",
    "fig.subplots_adjust(hspace=0.06, wspace=0.55, bottom=0.3, right=0.98, top=0.85, left=0.15)\n",
    "\n",
    "# Add a horizontal line at y=0 in both subplots\n",
    "for i in [0, 1]:\n",
    "    axs[i].axhline(y=0, c='black', lw=0.5)\n",
    "\n",
    "smoo_p = {}\n",
    "for styp in study_signals.keys():\n",
    "    # Smooth and plot the autocorrelation pearson coefficients data\n",
    "    smoo_p[styp] = useful_functions_Chipseq.smoothing(p[styp], 6)\n",
    "    axs[0].plot(d[styp], smoo_p[styp], color=styp_colors[styp], label=styp_label[styp])\n",
    "\n",
    "# Set labels and titles for the autocorrelation subplot\n",
    "axs[0].set_xlabel('Distance (kb)')\n",
    "axs[0].set_title('Autocorrelation')\n",
    "\n",
    "# Plot Pearson correlation coefficients in the second subplot\n",
    "for styp in [\"Gyr\", \"Topo\"]:\n",
    "    axs[1].plot([k/1000 for k in pearson_coef[styp].keys()], [x for x in pearson_coef[styp].values()], color=styp_colors[styp])\n",
    "\n",
    "# Set x-axis scale to logarithmic, limits, and labels\n",
    "for i in [0, 1]:\n",
    "    axs[i].set_xscale(\"log\")\n",
    "    axs[i].set_xlim(0.2, 600)\n",
    "    axs[i].set_ylabel('Pearson R', labelpad=1)\n",
    "    axs[i].axvline(x=1, c='black', lw=0.6, ls='--')\n",
    "\n",
    "# Set specific y-axis limits for the second subplot\n",
    "axs[1].set_ylim(-0.05, 0.55)\n",
    "\n",
    "# Set x-axis label, title, and legend for the second subplot\n",
    "axs[1].set_xlabel('Scale (kb)')\n",
    "axs[1].set_title('Correlation with\\nexpression')\n",
    "fig.legend(loc='lower center', ncol=3)\n",
    "\n",
    "# Save the figure\n",
    "plt.savefig(f\"{outdir}correlations_autocorrel_{num}points{fig_ext}\", transparent=False, facecolor='white')\n"
   ]
  },
  {
   "cell_type": "markdown",
   "id": "6d98b528",
   "metadata": {},
   "source": [
    "## E - Study at micro scale : cumulative signal around the TU \n",
    "\n",
    "The cumulative signal corresponds to the area under the curve (i.e., under the signal) up to the distance chosen with the study_ws parameter.\n",
    "\n",
    "To compute it, it is necessary to:\n",
    "* Calculate the average signal over the distance before the TU (\"mb\") and after the TU (\"ma\").\n",
    "* Calculate the area under these signals using the trapezoidal method."
   ]
  },
  {
   "cell_type": "code",
   "execution_count": 36,
   "id": "82b4b474",
   "metadata": {},
   "outputs": [
    {
     "name": "stdout",
     "output_type": "stream",
     "text": [
      "Working at micro scale...\n",
      "... with Gyr signal\n",
      "... with Topo signal\n",
      "... with Expr signal\n",
      "... with log2Expr signal\n",
      "Working at macro scale...\n",
      "... with Gyr signal\n",
      "... with Topo signal\n",
      "... with Expr signal\n",
      "... with log2Expr signal\n",
      "Working at raw scale...\n",
      "... with Gyr signal\n",
      "... with Topo signal\n",
      "... with Expr signal\n",
      "... with log2Expr signal\n"
     ]
    }
   ],
   "source": [
    "study_ws = 50000 #(in b) \n",
    "cumul_sign = {}\n",
    "\n",
    "for scale in [\"micro\",\"macro\",\"raw\"] :\n",
    "    print(f\"Working at {scale} scale...\")\n",
    "    cumul_sign[scale] = {}\n",
    "    \n",
    "    for styp in [\"Gyr\",\"Topo\",\"Expr\",\"log2Expr\"] : \n",
    "        print(f\"... with {styp} signal\")\n",
    "        cumul_sign[scale][styp] = {}\n",
    "        \n",
    "        for c,exprclass in enumerate(classif_cats) :\n",
    "            cumul_sign[scale][styp][exprclass]  = {\"before\":[],\"after\":[]} \n",
    "            mb = np.flip(means_TU[scale][styp][exprclass][\"before\"]) \n",
    "            ma = means_TU[scale][styp][exprclass][\"after\"]\n",
    "    \n",
    "            for i in np.arange(0,study_ws,100) :\n",
    "                cumul_sign[scale][styp][exprclass][\"before\"].append(trapz(mb.iloc[:i+1], np.arange(i+1)))\n",
    "                cumul_sign[scale][styp][exprclass][\"after\"].append(trapz(ma.iloc[:i+1], np.arange(i+1)))"
   ]
  },
  {
   "cell_type": "code",
   "execution_count": 46,
   "id": "82cd0eb4",
   "metadata": {},
   "outputs": [
    {
     "data": {
      "image/png": "[encoded data removed]",
      "text/plain": [
       "<Figure size 496.063x255.118 with 4 Axes>"
      ]
     },
     "metadata": {
      "needs_background": "light"
     },
     "output_type": "display_data"
    }
   ],
   "source": [
    "# Define the types of signals to be plotted and the scale (e.g., \"micro\") for signal analysis\n",
    "styps = ['Topo', 'Gyr']\n",
    "scale = \"micro\"\n",
    "\n",
    "# Set the window size (in b) for the plot, ensuring it's less than or equal to the study_ws\n",
    "plot_ws = 50000\n",
    "\n",
    "# Create a subplot with 2 rows and 2 columns, sharing the y-axis\n",
    "f, axs = plt.subplots(2, 2, figsize=(17.5 * cm, 9 * cm), sharey=True)\n",
    "\n",
    "# Adjust the spacing and margins between subplots\n",
    "f.subplots_adjust(hspace=0.4, wspace=0.15, left=0.095, right=0.76, bottom=0.1, top=0.92)\n",
    "\n",
    "# Loop through the signal types (styps) and classification categories (exprclass)\n",
    "for n, styp in enumerate(styps):\n",
    "    for c, exprclass in enumerate(classif_cats):\n",
    "        # Determine whether it's the first signal type (styp) to set labels\n",
    "        if n == 0:\n",
    "            axs[n, 0].plot(np.arange(0, plot_ws, 100), cumul_sign[scale][styp][exprclass][\"before\"], c=colors[c], lw=1)\n",
    "        else:\n",
    "            axs[n, 0].plot(np.arange(0, plot_ws, 100), cumul_sign[scale][styp][exprclass][\"before\"],\n",
    "                           label=labels[c], c=colors[c], lw=1)\n",
    "        \n",
    "        # Plot the signal \"after\" the specified distance\n",
    "        axs[n, 1].plot(np.arange(0, plot_ws, 100), cumul_sign[scale][styp][exprclass][\"after\"], c=colors[c], lw=1)\n",
    "        \n",
    "        # Set the y-axis label based on the signal type (styp)\n",
    "        axs[n, 0].set_ylabel(styp_label[styp], labelpad=-2)\n",
    "\n",
    "    # Configure the x and y-axis properties for the subplots\n",
    "    for i in [0, 1]:\n",
    "        axs[n, i].set_xlim(0, plot_ws)\n",
    "        axs[n, i].ticklabel_format(style='sci', axis='y', scilimits=(3, 3))\n",
    "        axs[n, i].set_xticks(np.arange(0, plot_ws + 10, 10000))\n",
    "        axs[n, i].set_yticks(np.arange(-6000, 13000, 3000))\n",
    "        axs[n, i].set_ylim(-6000, 8000)\n",
    "        axs[n, i].axvline(10 * 1000, c=\"black\", ls=\"--\", lw=0.6)\n",
    "    axs[n, 0].set_xticklabels(np.concatenate((['$TU_{s}$'], np.flip(np.arange(int(-plot_ws/1000), 0, 10)))))\n",
    "    axs[n, 1].set_xticklabels(np.concatenate((['$TU_{e}$'], np.arange(10, int(plot_ws/1000) + 10, 10))))\n",
    "\n",
    "# Set subplot axis labels and titles  \n",
    "axs[1, 0].set_xlabel(\"distance (kb)\")\n",
    "axs[1, 1].set_xlabel(\"distance (kb)\")\n",
    "axs[0, 0].set_title(f'before TU')\n",
    "axs[0, 1].set_title(f'after TU')\n",
    "f.text(0.01, 0.5, 'Topoisomerase cumulative occupancy around TUs', va='center', rotation='vertical', fontsize=10)\n",
    "\n",
    "# Add a legend to the figure\n",
    "f.legend(loc='upper right', ncol=1)\n",
    "\n",
    "# Save the figure\n",
    "plt.savefig(f\"{outdir}{scale}_cumulative_signals_{styps[0]}_{styps[1]}_{int(plot_ws/1000)}kb{fig_ext}\",\n",
    "            transparent=False, facecolor='white')"
   ]
  },
  {
   "cell_type": "code",
   "execution_count": 47,
   "id": "8d110fab",
   "metadata": {},
   "outputs": [
    {
     "data": {
      "image/png": "[encoded data removed]",
      "text/plain": [
       "<Figure size 496.063x170.079 with 2 Axes>"
      ]
     },
     "metadata": {
      "needs_background": "light"
     },
     "output_type": "display_data"
    }
   ],
   "source": [
    "#same plot for the expression signal\n",
    "styp = \"Expr\"\n",
    "scale = \"raw\"\n",
    "plot_ws = 50000 \n",
    "\n",
    "f, axs = plt.subplots(1, 2, figsize=(17.5*cm,6*cm),sharey=True)\n",
    "f.subplots_adjust(hspace=0.3,wspace=0.1,left=0.14, right=0.83,bottom=0.15,top = 0.9)\n",
    "\n",
    "for c, exprclass in enumerate(classif_cats):\n",
    "    mb = np.flip(means_TU[scale][styp][exprclass][\"before\"])\n",
    "    ma = means_TU[scale][styp][exprclass][\"after\"]\n",
    "    \n",
    "    cumul_sign[scale][styp][exprclass] = {\"before\":[],\"after\":[]} \n",
    "    for i in np.arange(0,plot_ws,100) :\n",
    "        cumul_sign[scale][styp][exprclass][\"before\"].append(trapz(mb.iloc[:i+1], np.arange(i+1)))\n",
    "        cumul_sign[scale][styp][exprclass][\"after\"].append(trapz(ma.iloc[:i+1], np.arange(i+1)))\n",
    "    axs[0].plot(np.arange(0,plot_ws,100),cumul_sign[scale][styp][exprclass][\"before\"],label = labels_short[c],c=colors[c],lw=1)\n",
    "    axs[1].plot(np.arange(0,plot_ws,100),cumul_sign[scale][styp][exprclass][\"after\"],c=colors[c],lw=1)\n",
    "        \n",
    "for i in [0,1]:\n",
    "    axs[i].set_xlim(0,plot_ws)\n",
    "    axs[i].ticklabel_format(style='sci', axis='y', scilimits=(0,0))\n",
    "    axs[i].set_xticks(np.arange(0,plot_ws+10,10000))\n",
    "    axs[i].axvline(10*1000,c=\"black\",ls=\"--\",lw=0.6)\n",
    "axs[0].set_xticklabels(np.concatenate((['$TU_{s}$'],np.flip(np.arange(int(-plot_ws/1000),0,10)))))  \n",
    "axs[1].set_xticklabels(np.concatenate((['$TU_{e}$'],np.arange(10,int(plot_ws/1000)+10,10)))) \n",
    "\n",
    "axs[0].set_ylabel(\"cumulative FPKM\")\n",
    "axs[0].set_xlabel(\"distance (kb)\")\n",
    "axs[1].set_xlabel(\"distance (kb)\")\n",
    "axs[0].set_title(f'before TU',fontsize=10)\n",
    "axs[1].set_title(f'after TU',fontsize=10)\n",
    "\n",
    "f.legend(loc='center right')\n",
    "\n",
    "plt.savefig(f\"{outdir}{styp}_{scale}_cumulatif_plot_ws{int(plot_ws/1000)}kb{fig_ext}\",\n",
    "            transparent=False,facecolor='white')"
   ]
  },
  {
   "cell_type": "markdown",
   "id": "d8e6871e",
   "metadata": {},
   "source": [
    "## E - Violin plot of the distribution\n",
    "\n",
    "The purpose of this step is to study the average signal per bin of a chosen size specified by the bin_scale parameter in order to compare macro and micro signals. It is also of interest to compare the distribution of these signals per bin with the average signal values over the same distance (bin_scale) after and before the transcription units (TUs) based on their expression levels."
   ]
  },
  {
   "cell_type": "code",
   "execution_count": 48,
   "id": "b683e1d9",
   "metadata": {},
   "outputs": [],
   "source": [
    "bin_scale = 50000 # in b\n",
    "styps = [\"Topo\",\"Gyr\"]\n",
    "\n",
    "binned_sign = {}\n",
    "mean_aroundTU_binscale = {}\n",
    "\n",
    "for styp in styps :\n",
    "    binned_sign[styp] = {}\n",
    "    mean_aroundTU_binscale[styp] = {}\n",
    "    \n",
    "    for scale in [\"micro\",\"macro\"] :   \n",
    "        # compute the mean signal in each bin of bin_scale size \n",
    "        binned_sign[styp][scale] = useful_functions_Chipseq.binning(all_signals[styp][scale],bin_scale)[0]\n",
    "        \n",
    "        # compute the mean signal in the bin before and in the bin after the TU\n",
    "        mean_aroundTU_binscale[styp][scale] = {}\n",
    "        for ec in classif_cats :\n",
    "            mean_aroundTU_binscale[styp][scale][ec] = {\"before\":cumul_sign[scale][styp][ec][\"before\"][int(bin_scale/100)-1],\n",
    "                                                       \"after\":cumul_sign[scale][styp][ec][\"after\"][int(bin_scale/100)-1]}"
   ]
  },
  {
   "cell_type": "code",
   "execution_count": 52,
   "id": "31738a10",
   "metadata": {},
   "outputs": [
    {
     "data": {
      "image/png": "[encoded data removed]",
      "text/plain": [
       "<Figure size 221.102x141.732 with 2 Axes>"
      ]
     },
     "metadata": {
      "needs_background": "light"
     },
     "output_type": "display_data"
    }
   ],
   "source": [
    "fig, axs = plt.subplots(1, 2, figsize=(7.8*cm, 5*cm),sharey=True)\n",
    "plt.subplots_adjust(top=0.9,wspace=0.15,bottom=0.1,right=0.98,left=0.18) \n",
    "\n",
    "styps = [\"Gyr\",\"Topo\"]\n",
    "for i, styp in enumerate(styps):\n",
    "    sns.violinplot(data=[binned_sign[styp][\"micro\"],binned_sign[styp][\"macro\"]], ax=axs[i],color='white')\n",
    "    axs[i].set_title(styp_label[styp])  \n",
    "    axs[i].set_xticks([0, 1])\n",
    "    axs[i].set_xticklabels(['Micro', 'Macro'])    \n",
    "axs[0].set_ylabel(f\"Mean log$_2$ coverage ratio (IP/Mock)\")\n",
    "\n",
    "lines_list = []\n",
    "for sc, scale in enumerate([\"micro\",\"macro\"]) : \n",
    "    for c, exprclass in enumerate(classif_cats) : \n",
    "        for n,styp in enumerate(styps) : \n",
    "            if styp == \"Gyr\" :\n",
    "                pos = mean_aroundTU_binscale[styp][scale][exprclass][\"after\"]/bin_scale\n",
    "            else : \n",
    "                pos = mean_aroundTU_binscale[styp][scale][exprclass][\"before\"]/bin_scale\n",
    "            line = lines.Line2D((sc-0.1, sc+0.1), (pos,pos), color = colors[c],label=labels[c])\n",
    "            axs[n].add_artist(line)\n",
    "\n",
    "plt.savefig(f\"{outdir}distrib_violinplot_{int(bin_scale/1000)}kb{fig_ext}\",\n",
    "                            transparent=False,facecolor='white')"
   ]
  },
  {
   "cell_type": "markdown",
   "id": "3c76cb08",
   "metadata": {},
   "source": [
    "## G - Study at macro scale : genomic distribution of the signals"
   ]
  },
  {
   "cell_type": "code",
   "execution_count": null,
   "id": "371c5ac6",
   "metadata": {},
   "outputs": [],
   "source": [
    "# positions of the detected borders bins between two CIDs.\n",
    "CID= [8, 29, 44, 88, 102, 152, 196, 229, 239, 260, 317, 334, 359, 369, 420, 451, 476, 505, 544, 579, 598, 633,\n",
    "659, 686, 729, 760, 787, 806, 832, 841, 893]\n",
    "for n,c in enumerate(CID) :\n",
    "    if c*5 > 3423 and c*5 < 4214 :  #genomic inversion between E. coli W3110 and E. coli MG1655\n",
    "        CID[n] = (3424+(4214-c*5))/5\n",
    "noCID = [N for N in range(930) if N not in CID]"
   ]
  },
  {
   "cell_type": "code",
   "execution_count": null,
   "id": "c8aa2c8b",
   "metadata": {},
   "outputs": [],
   "source": [
    "ori = 3925859\n",
    "ter = int(4647500/2)\n",
    "\n",
    "titles = [\"log2(FPKM)\",\"TopoI log2\\ncoverage ratio\",\"Gyrase log2\\ncoverage ratio\",\"GCS coverage\"]\n",
    "fig, ax = plt.subplots(4,1, figsize=(17.5*cm,12*cm), constrained_layout=True,sharex=True)\n",
    "\n",
    "\n",
    "for n,styp in enumerate([\"log2Expr\",\"Topo\",\"Gyr\",\"GCS\"]):\n",
    "    sign = all_signals[styp][\"macro\"]\n",
    "    ax[n].plot(np.concatenate((sign[ori:],sign[:ori])),color = styp_colors[styp])\n",
    "    ax[n].set_ylabel(titles[n])\n",
    "    ax[n].axvline(x=ter,lw = 1,color=\"black\")\n",
    "    if styp in [\"Gyr\",\"Topo\"]:\n",
    "        ax[n].set_yticks(np.arange(-0.3,0.4,0.15))\n",
    "    elif styp == \"log2Expr\" :\n",
    "        ax[n].set_yticks(np.arange(-5,1,1))\n",
    "    elif styp == \"GCS\" :\n",
    "        ax[n].set_yticks(np.arange(0,0.003,0.0005))\n",
    "        ax[n].ticklabel_format(style='sci', axis='y', scilimits=(0,0))\n",
    "\n",
    "for i in np.arange(4) : \n",
    "    for cid in CID : \n",
    "        if cid*5000 < ori :\n",
    "            ax[i].axvline(x=cid*5000+4647500-ori, color = 'darkgray',lw=1,ls=\"--\")\n",
    "        elif cid*5000 > ori : \n",
    "            ax[i].axvline(x=cid*5000-ori, color = 'darkgray', lw=1,ls=\"--\")\n",
    "\n",
    "right_rep = np.arange(0,ter,int(500000))\n",
    "left_rep = [len(all_signals[styp][\"macro\"]) - x for x in np.arange(0,ter,int(500000))][::-1]\n",
    "ax[3].set_xticks(np.concatenate([right_rep,[ter],left_rep]))\n",
    "\n",
    "lab = np.arange(500,int(ter/1000),500)\n",
    "ax[3].set_xticklabels(np.concatenate([[\"ori\"],lab,[\"ter\"],lab[::-1],[\"ori\"]]))\n",
    "\n",
    "plt.xlim(0,len(all_signals[styp][\"macro\"]))   \n",
    "plt.xlabel('Distance from ori (kb)')\n",
    "\n",
    "plt.savefig(f\"{outdir}MacroGyrTopoExpr_genome_ bin{macro_bs}b_smoothing_{int(macro_add_smooth)}_bins_CIDs.svg\",\n",
    "                        transparent=False,facecolor='white')"
   ]
  }
 ],
 "metadata": {
  "kernelspec": {
   "display_name": "Python 3 (ipykernel)",
   "language": "python",
   "name": "python3"
  },
  "language_info": {
   "codemirror_mode": {
    "name": "ipython",
    "version": 3
   },
   "file_extension": ".py",
   "mimetype": "text/x-python",
   "name": "python",
   "nbconvert_exporter": "python",
   "pygments_lexer": "ipython3",
   "version": "3.8.10"
  }
 },
 "nbformat": 4,
 "nbformat_minor": 5
}
